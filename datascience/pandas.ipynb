{
 "cells": [
  {
   "cell_type": "markdown",
   "metadata": {},
   "source": [
    "#### Pandas :\n",
    "\n",
    "> Open source data analysis and manipulation tool built on top of the Python.\n",
    "\n",
    "> It provides easy-to-use, high-performance data structures and data analysis tools, primarily for handling tabular data (like spreadsheets or databases) in a structured form.\n",
    "\n",
    "\n",
    "> Pandas strengthens Python by giving the popular programming language the capability to work with spreadsheet-like data enabling fast loading, aligning, manipulating, and merging\n"
   ]
  },
  {
   "cell_type": "markdown",
   "metadata": {},
   "source": [
    "\n",
    "#### Key Features of Pandas:\n",
    "\n",
    "1. Data alignment: Automatically aligns data based on row/column labels, preventing misalignment issues.\n",
    "\n",
    "2. Handling missing data: Pandas has built-in methods for handling missing or NaN (Not a Number) values.\n",
    "\n",
    "3. Flexible reshaping: You can reshape, pivot, and transform data using methods like melt, pivot, and stack.\n",
    "\n",
    "4. Powerful indexing: Pandas supports both row and column indexing, making it easier to manipulate data efficiently.\n",
    "\n",
    "5. Merge and join: It provides methods like merge() and join() for combining data from different sources.\n",
    "\n",
    "6. Groupby functionality: You can group data by one or more columns and apply aggregation functions to it (e.g., sum, mean, count).\n",
    "\n",
    "7. Time series support: Pandas has excellent support for time series data, allowing easy handling of dates, times, and frequency-based data.\n"
   ]
  },
  {
   "cell_type": "markdown",
   "metadata": {},
   "source": [
    "![alt text](pandas_dtype.png \"Title\")"
   ]
  },
  {
   "cell_type": "code",
   "execution_count": 3,
   "metadata": {},
   "outputs": [],
   "source": [
    "import pandas as pd"
   ]
  },
  {
   "cell_type": "code",
   "execution_count": 4,
   "metadata": {},
   "outputs": [],
   "source": [
    "# 1-D array => Series\n",
    "# 2-D array => Dataframe\n",
    "# 3-D array => Panel (will be deprecreated in latest version and replaced by Dataframe)"
   ]
  },
  {
   "cell_type": "code",
   "execution_count": 5,
   "metadata": {},
   "outputs": [
    {
     "name": "stdout",
     "output_type": "stream",
     "text": [
      "Series([], dtype: object)\n",
      "<class 'pandas.core.series.Series'>\n"
     ]
    }
   ],
   "source": [
    "# Series \n",
    "series = pd.Series() # Empty Series \n",
    "print(series)\n",
    "print(type(series))"
   ]
  },
  {
   "cell_type": "code",
   "execution_count": 11,
   "metadata": {},
   "outputs": [
    {
     "name": "stdout",
     "output_type": "stream",
     "text": [
      "0    10\n",
      "1    20\n",
      "2    30\n",
      "3    40\n",
      "4    50\n",
      "dtype: int64\n",
      "<class 'pandas.core.series.Series'>\n",
      "20\n",
      "1    10\n",
      "2    20\n",
      "3    30\n",
      "4    40\n",
      "5    50\n",
      "dtype: int64\n",
      "10\n",
      "3    30\n",
      "4    40\n",
      "5    50\n",
      "dtype: int64\n"
     ]
    }
   ],
   "source": [
    "series = pd.Series([10,20,30,40,50]) \n",
    "print(series)\n",
    "print(type(series))\n",
    "print(series[1])\n",
    "\n",
    "series = pd.Series([10,20,30,40,50], index=[1,2,3,4,5]) \n",
    "print(series)\n",
    "print(series[1])\n",
    "print(series[2:])"
   ]
  },
  {
   "cell_type": "code",
   "execution_count": 24,
   "metadata": {},
   "outputs": [
    {
     "name": "stdout",
     "output_type": "stream",
     "text": [
      "a    10\n",
      "b    20\n",
      "c    30\n",
      "d    40\n",
      "dtype: int64\n",
      "10\n",
      "10\n",
      "a    10\n",
      "c    30\n",
      "dtype: int64\n",
      "a    10\n",
      "b    20\n",
      "c    30\n",
      "d    40\n",
      "dtype: int64\n"
     ]
    },
    {
     "name": "stderr",
     "output_type": "stream",
     "text": [
      "C:\\Users\\HP\\AppData\\Local\\Temp\\ipykernel_18960\\4138498064.py:5: FutureWarning: Series.__getitem__ treating keys as positions is deprecated. In a future version, integer keys will always be treated as labels (consistent with DataFrame behavior). To access a value by position, use `ser.iloc[pos]`\n",
      "  print(series[0]) # Accessing through index positions\n"
     ]
    }
   ],
   "source": [
    "dictS = {'a': 10, 'b':20, 'c':30, 'd':40}\n",
    "series = pd.Series(dictS)\n",
    "print(series)\n",
    "print(series['a'])   # Accesing the values through index labels\n",
    "print(series[0]) # Accessing through index positions\n",
    "print(series[['a','c']]) # Accessing the subset of index labels\n",
    "print(series[:4]) # Slicing the data "
   ]
  },
  {
   "cell_type": "code",
   "execution_count": 17,
   "metadata": {},
   "outputs": [
    {
     "name": "stdout",
     "output_type": "stream",
     "text": [
      "1    0\n",
      "2    0\n",
      "3    0\n",
      "4    0\n",
      "5    0\n",
      "6    0\n",
      "dtype: int64\n"
     ]
    }
   ],
   "source": [
    "seriesConstant = pd.Series(0, index=[1,2,3,4,5,6])\n",
    "print(seriesConstant)"
   ]
  },
  {
   "cell_type": "code",
   "execution_count": 22,
   "metadata": {},
   "outputs": [
    {
     "name": "stdout",
     "output_type": "stream",
     "text": [
      "1    0\n",
      "2    0\n",
      "3    0\n",
      "4    0\n",
      "5    0\n",
      "6    0\n",
      "dtype: int64\n"
     ]
    }
   ],
   "source": [
    "# copy \n",
    "seriesCopy = seriesConstant.copy()\n",
    "print(seriesCopy)"
   ]
  },
  {
   "cell_type": "code",
   "execution_count": 26,
   "metadata": {},
   "outputs": [
    {
     "name": "stdout",
     "output_type": "stream",
     "text": [
      "Empty DataFrame\n",
      "Columns: []\n",
      "Index: []\n"
     ]
    }
   ],
   "source": [
    "# Dataframe => representation of data in row, col format. mutable\n",
    "\n",
    "df = pd.DataFrame()\n",
    "print(df)\n",
    "\n"
   ]
  },
  {
   "cell_type": "code",
   "execution_count": 28,
   "metadata": {},
   "outputs": [
    {
     "name": "stdout",
     "output_type": "stream",
     "text": [
      "    0\n",
      "0  10\n",
      "1  20\n",
      "2  30\n",
      "3  40\n",
      "4  50\n"
     ]
    }
   ],
   "source": [
    "df = pd.DataFrame([10, 20, 30, 40, 50])  # 1-D list => row = no.of elemnts = 5 , col=1\n",
    "print(df)"
   ]
  },
  {
   "cell_type": "code",
   "execution_count": 32,
   "metadata": {},
   "outputs": [
    {
     "name": "stdout",
     "output_type": "stream",
     "text": [
      "    0     1\n",
      "0  10   NaN\n",
      "1  30  40.0\n",
      "2  50  60.0\n"
     ]
    }
   ],
   "source": [
    "df = pd.DataFrame([[10], [30, 40], [50, 60]])  # 2-D list => row = no.of elemnts = 3 , col=2\n",
    "print(df)"
   ]
  },
  {
   "cell_type": "code",
   "execution_count": 34,
   "metadata": {},
   "outputs": [
    {
     "name": "stdout",
     "output_type": "stream",
     "text": [
      "    col1  col2\n",
      "r1    10   NaN\n",
      "r2    30  40.0\n",
      "r3    50  60.0\n"
     ]
    }
   ],
   "source": [
    "df = pd.DataFrame([[10], [30, 40], [50, 60]], index=['r1', 'r2', 'r3'], columns=['col1', 'col2'])  # 2-D list => row = no.of elemnts = 3 , col=2\n",
    "print(df)"
   ]
  },
  {
   "cell_type": "code",
   "execution_count": 35,
   "metadata": {},
   "outputs": [
    {
     "ename": "AttributeError",
     "evalue": "module 'pandas' has no attribute 'Panel'",
     "output_type": "error",
     "traceback": [
      "\u001b[1;31m---------------------------------------------------------------------------\u001b[0m",
      "\u001b[1;31mAttributeError\u001b[0m                            Traceback (most recent call last)",
      "Cell \u001b[1;32mIn[35], line 2\u001b[0m\n\u001b[0;32m      1\u001b[0m \u001b[38;5;66;03m# Panel\u001b[39;00m\n\u001b[1;32m----> 2\u001b[0m pn \u001b[38;5;241m=\u001b[39m \u001b[43mpd\u001b[49m\u001b[38;5;241;43m.\u001b[39;49m\u001b[43mPanel\u001b[49m()\n",
      "\u001b[1;31mAttributeError\u001b[0m: module 'pandas' has no attribute 'Panel'"
     ]
    }
   ],
   "source": []
  }
 ],
 "metadata": {
  "kernelspec": {
   "display_name": "base",
   "language": "python",
   "name": "python3"
  },
  "language_info": {
   "codemirror_mode": {
    "name": "ipython",
    "version": 3
   },
   "file_extension": ".py",
   "mimetype": "text/x-python",
   "name": "python",
   "nbconvert_exporter": "python",
   "pygments_lexer": "ipython3",
   "version": "3.12.4"
  }
 },
 "nbformat": 4,
 "nbformat_minor": 2
}
