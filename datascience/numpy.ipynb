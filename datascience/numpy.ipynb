{
 "cells": [
  {
   "cell_type": "markdown",
   "metadata": {},
   "source": [
    "Numpy: Library for numerical computing/processing. \n",
    "It provides support for large, multi-dimensional arrays and matrices, along with a collection of mathematical functions to operate on these arrays. It's widely used in the tasks that involve numerical data manipulation and analysis.\n",
    "\n",
    "1. N-dimensional arrays (ndarrays): Efficient array objects that can store data in multiple dimensions.\n",
    "2. Element-wise operations: You can perform mathematical operations directly on arrays without needing to write loops.\n",
    "\n",
    "\n",
    "\n",
    "NumPy is faster than regular Python lists :\n",
    "\n",
    "1. Contiguous Memory Allocation: NumPy arrays are stored in a single, contiguous block of memory, while Python lists are made up of pointers to individual objects scattered across memory. This allows NumPy to perform operations more efficiently because it can access data in a predictable and optimized manner.\n",
    "\n",
    "2. Optimized C and Fortran Code: Under the hood, NumPy is written in C and Fortran, which are much faster languages for numerical computations than Python. When you perform operations on NumPy arrays, you're executing highly optimized, compiled code rather than interpreting Python bytecode.\n",
    "\n",
    "3. Vectorization: NumPy supports vectorized operations, meaning it can apply operations to entire arrays (or parts of arrays) without explicit loops. This avoids the overhead of Python's loop constructs, and the operation is carried out in compiled code, which is much faster.\n",
    "\n",
    "4. Efficient Memory Handling: NumPy arrays require less memory per element compared to Python lists because they store data in a more compact way. NumPy also offers more efficient data types, allowing for better use of memory (e.g., float32 vs. float64).\n",
    "\n",
    "6. Parallelism: Some NumPy functions internally take advantage of parallel computing to speed up processing on multicore machines, especially when using libraries like OpenBLAS or MKL (Math Kernel Library), which handle linear algebra operations.\n"
   ]
  },
  {
   "cell_type": "markdown",
   "metadata": {},
   "source": []
  },
  {
   "cell_type": "markdown",
   "metadata": {},
   "source": [
    "import numpy as np"
   ]
  },
  {
   "cell_type": "code",
   "execution_count": 2,
   "metadata": {},
   "outputs": [],
   "source": [
    "import numpy as np"
   ]
  },
  {
   "cell_type": "markdown",
   "metadata": {},
   "source": []
  },
  {
   "cell_type": "code",
   "execution_count": 3,
   "metadata": {},
   "outputs": [
    {
     "name": "stdout",
     "output_type": "stream",
     "text": [
      "1.26.4\n"
     ]
    }
   ],
   "source": [
    "print(np.__version__)"
   ]
  },
  {
   "cell_type": "code",
   "execution_count": 4,
   "metadata": {},
   "outputs": [
    {
     "name": "stdout",
     "output_type": "stream",
     "text": [
      "<class 'list'>\n",
      "[1 2 3 4 5 6]\n",
      "<class 'numpy.ndarray'>\n",
      "<class 'list'>\n",
      "<class 'numpy.ndarray'>\n",
      "int32\n",
      "1\n",
      "(6,)\n",
      "6\n"
     ]
    }
   ],
   "source": [
    "# 1- D ndarray\n",
    "\n",
    "numlist = [1,2,3,4,5,6]  # list\n",
    "print(type(numlist))\n",
    "\n",
    "arrnp = np.array(numlist) # creating an ndarray from list\n",
    "print(arrnp)\n",
    "print(type(arrnp))\n",
    "\n",
    "print(numlist.__class__)\n",
    "print(arrnp.__class__)\n",
    "\n",
    "print(arrnp.dtype) # type of data we have in array\n",
    "print(arrnp.ndim) # dimesion of the array, 1-D, 2-D ....\n",
    "print(arrnp.shape) # shape of ndarray => (6,) => number of elements in the 1-D array\n",
    "print(len(arrnp))"
   ]
  },
  {
   "cell_type": "code",
   "execution_count": 5,
   "metadata": {},
   "outputs": [
    {
     "name": "stdout",
     "output_type": "stream",
     "text": [
      "1\n",
      "2\n",
      "3\n"
     ]
    }
   ],
   "source": [
    "# Accessing the ndarray\n",
    "\n",
    "print(arrnp[0])\n",
    "print(arrnp[1])\n",
    "print(arrnp[2])"
   ]
  },
  {
   "cell_type": "code",
   "execution_count": 6,
   "metadata": {},
   "outputs": [
    {
     "name": "stdout",
     "output_type": "stream",
     "text": [
      "[[ 1  2  3  4]\n",
      " [ 5  6  7  8]\n",
      " [ 9 10 11 12]]\n",
      "<class 'numpy.ndarray'>\n",
      "<class 'list'>\n",
      "<class 'numpy.ndarray'>\n",
      "int32\n",
      "2\n",
      "(3, 4)\n",
      "3\n"
     ]
    }
   ],
   "source": [
    "# 2-D ndarrays\n",
    "\n",
    "numlist = [\n",
    "            [1,2,3,4], \n",
    "            [5,6,7,8],\n",
    "            [9,10,11,12]\n",
    "          ]  # 2-D list\n",
    "\n",
    "arrnp = np.array(numlist) # creating an ndarray from list\n",
    "print(arrnp)\n",
    "print(type(arrnp))\n",
    "print(numlist.__class__)\n",
    "print(arrnp.__class__)\n",
    "print(arrnp.dtype) # type of data we have in array\n",
    "print(arrnp.ndim) # dimesion of the array, 1-D, 2-D ....\n",
    "print(arrnp.shape) # shape of ndarray => (rows, cols) => (3,4) => 3*4 matrix\n",
    "print(len(arrnp)) # no of rows in the array"
   ]
  },
  {
   "cell_type": "code",
   "execution_count": 7,
   "metadata": {},
   "outputs": [
    {
     "name": "stdout",
     "output_type": "stream",
     "text": [
      "3\n",
      "8\n",
      "9\n"
     ]
    }
   ],
   "source": [
    "# Accessing 2-D array\n",
    "\n",
    "print(arrnp[0][2])\n",
    "print(arrnp[1][3])\n",
    "print(arrnp[2][0])"
   ]
  },
  {
   "cell_type": "code",
   "execution_count": 8,
   "metadata": {},
   "outputs": [
    {
     "name": "stdout",
     "output_type": "stream",
     "text": [
      "[[ 1  2  3  4]\n",
      " [ 5  6  7  8]\n",
      " [ 9 10 11 12]]\n",
      "[[ 1  2  3]\n",
      " [ 4  5  6]\n",
      " [ 7  8  9]\n",
      " [10 11 12]]\n",
      "[[ 1  2  3  4  5  6]\n",
      " [ 7  8  9 10 11 12]]\n",
      "[[ 1  2]\n",
      " [ 3  4]\n",
      " [ 5  6]\n",
      " [ 7  8]\n",
      " [ 9 10]\n",
      " [11 12]]\n",
      "[[ 1]\n",
      " [ 2]\n",
      " [ 3]\n",
      " [ 4]\n",
      " [ 5]\n",
      " [ 6]\n",
      " [ 7]\n",
      " [ 8]\n",
      " [ 9]\n",
      " [10]\n",
      " [11]\n",
      " [12]]\n",
      "[[ 1  2  3  4  5  6  7  8  9 10 11 12]]\n"
     ]
    }
   ],
   "source": [
    "# re-shaping (re-arranging the data ) of 2-D ndarray\n",
    "\n",
    "# 3*4 => 12 => 1*12, 12*1, 2*6, 6*2, 4*3\n",
    "\n",
    "print(arrnp)  # original rows => 3,  col=> 4\n",
    "\n",
    "print(arrnp.reshape(4,3)) # rows => 4,  col=> 3\n",
    "\n",
    "print(arrnp.reshape(2,6)) # rows => 2,  col=> 6\n",
    "\n",
    "print(arrnp.reshape(6,2)) # rows => 6,  col=> 2\n",
    "\n",
    "print(arrnp.reshape(12,1)) # rows => 12,  col=> 1\n",
    "\n",
    "print(arrnp.reshape(1,12)) # rows => 1,  col=> 12\n",
    "\n",
    "# print(arrnp.reshape(5,2)) # rows => 5,  col=> 3  Not allowed\n"
   ]
  },
  {
   "cell_type": "code",
   "execution_count": 9,
   "metadata": {},
   "outputs": [
    {
     "name": "stdout",
     "output_type": "stream",
     "text": [
      "[0 1 2 3 4 5 6 7 8 9]\n",
      "<class 'numpy.ndarray'>\n",
      "[1 2 3 4 5 6 7 8 9]\n",
      "<class 'numpy.ndarray'>\n",
      "[1 3 5 7 9]\n",
      "<class 'numpy.ndarray'>\n"
     ]
    }
   ],
   "source": [
    "# arange : returns the evenly spaced numbers within a given interval\n",
    "# Syntax : arange([start],stop,[step]) => ndarray\n",
    "# Defaults : start=>0 step=1\n",
    "# stop is excluded\n",
    "\n",
    "arr = np.arange(10)   # generates from 0 till stop-1 (0 => 10-1=9)  start=0, stop=10, step=1\n",
    "print(arr)\n",
    "print(type(arr))\n",
    "\n",
    "arr = np.arange(1, 10)   # generates from 1 till stop-1 (1 => 10-1=9)  start=1, stop=10, step=1\n",
    "print(arr)\n",
    "print(type(arr))\n",
    "\n",
    "arr = np.arange(1, 10, 2)   # generates from 1 till stop-1 (1 => 10-1=9)  start=1, stop=10, step=2\n",
    "print(arr)\n",
    "print(type(arr))\n"
   ]
  },
  {
   "cell_type": "code",
   "execution_count": 10,
   "metadata": {},
   "outputs": [
    {
     "name": "stdout",
     "output_type": "stream",
     "text": [
      "[[0. 0. 0. 0. 0.]\n",
      " [0. 0. 0. 0. 0.]]\n",
      "float64\n",
      "[[0 0 0 0 0]\n",
      " [0 0 0 0 0]]\n",
      "[[1. 1. 1. 1. 1.]\n",
      " [1. 1. 1. 1. 1.]]\n",
      "float64\n",
      "[[1 1 1 1 1]\n",
      " [1 1 1 1 1]]\n",
      "int16\n",
      "[[ 538976288  538976288 1751343429 2003792416]\n",
      " [ 543584032  543193184 1919968626 1852142437]\n",
      " [1629516660 1918989856 1818386793 1629498469]]\n"
     ]
    }
   ],
   "source": [
    "# ones(), zeros(), empty() => returns the ndarray based on given shape and type\n",
    "# ones(shape, dtype) => default dtype=float64\n",
    "# zeros(shape, dtype) => default dtype=float64\n",
    "# empty(shape, dtype) => default dtype=float64\n",
    "\n",
    "arrZ = np.zeros([2,5])\n",
    "print(arrZ)\n",
    "print(arrZ.dtype)\n",
    "\n",
    "arrZ = np.zeros([2,5], dtype=np.int32) #int32\n",
    "print(arrZ)\n",
    "\n",
    "arrO = np.ones([2,5])\n",
    "print(arrO)\n",
    "print(arrO.dtype)\n",
    "\n",
    "arrO = np.ones([2,5], dtype=np.int16)\n",
    "print(arrO)\n",
    "print(arrO.dtype)\n",
    "\n",
    "arrE = np.empty([3,4], dtype=np.int32)\n",
    "print(arrE)"
   ]
  },
  {
   "cell_type": "code",
   "execution_count": 11,
   "metadata": {},
   "outputs": [
    {
     "name": "stdout",
     "output_type": "stream",
     "text": [
      "[ 1.          1.3877551   1.7755102   2.16326531  2.55102041  2.93877551\n",
      "  3.32653061  3.71428571  4.10204082  4.48979592  4.87755102  5.26530612\n",
      "  5.65306122  6.04081633  6.42857143  6.81632653  7.20408163  7.59183673\n",
      "  7.97959184  8.36734694  8.75510204  9.14285714  9.53061224  9.91836735\n",
      " 10.30612245 10.69387755 11.08163265 11.46938776 11.85714286 12.24489796\n",
      " 12.63265306 13.02040816 13.40816327 13.79591837 14.18367347 14.57142857\n",
      " 14.95918367 15.34693878 15.73469388 16.12244898 16.51020408 16.89795918\n",
      " 17.28571429 17.67346939 18.06122449 18.44897959 18.83673469 19.2244898\n",
      " 19.6122449  20.        ]\n",
      "[ 1.    5.75 10.5  15.25 20.  ]\n",
      "[ 1.    5.75 10.5  15.25 20.  ]\n",
      "[ 1.   4.8  8.6 12.4 16.2]\n",
      "[ 1.   4.8  8.6 12.4 16.2] 3.8\n",
      "[ 1.   4.8  8.6 12.4 16.2] 3.8\n"
     ]
    }
   ],
   "source": [
    "# linspace => returns the even spaced numbers over a specified interval\n",
    "# Syntax : linspace(start, stop, numSamples(deafult=50), retstep(True/False), endpoint(True/False)=> True, dtype)\n",
    "\n",
    "arrLin = np.linspace(1, 20) # start=1, endpoint=20, numSamples=50, endppoint=True\n",
    "print(arrLin)\n",
    "\n",
    "arrLin = np.linspace(1, 20, 5) # start=1, endpoint=20, numSamples=5, endppoint=True\n",
    "print(arrLin)\n",
    "\n",
    "arrLin = np.linspace(1, 20, 5) # start=1, endpoint=20, numSamples=5, endppoint=True\n",
    "print(arrLin)\n",
    "\n",
    "arrLin = np.linspace(1, 20, 5, endpoint=False) # start=1, endpoint=20, numSamples=5, endppoint=False\n",
    "print(arrLin)\n",
    "\n",
    "arrLin, step = np.linspace(1, 20, 5, endpoint=False, retstep=True) # start=1, endpoint=20, numSamples=5, endppoint=False\n",
    "print(arrLin, step)\n",
    "\n",
    "arrLin = np.linspace(1, 20, 5, endpoint=False, retstep=True) # start=1, endpoint=20, numSamples=5, endppoint=False\n",
    "print(arrLin[0], arrLin[1])\n"
   ]
  },
  {
   "cell_type": "code",
   "execution_count": 12,
   "metadata": {},
   "outputs": [
    {
     "name": "stdout",
     "output_type": "stream",
     "text": [
      "[2.  2.5 3.  3.5 4. ]\n",
      "[  100.           316.22776602  1000.          3162.27766017\n",
      " 10000.        ]\n"
     ]
    }
   ],
   "source": [
    "# logspace => returns the even spaced numbers over the log scale\n",
    "# default value for \n",
    "# the base =10\n",
    "# logspace(start, stop,numSamples, endpoint, base=10.0, dtype)\n",
    "\n",
    "arrLin = np.linspace(2, 4, 5)\n",
    "print(arrLin)\n",
    "\n",
    "arrlg = np.logspace(2, 4, 5)\n",
    "print(arrlg)\n",
    "\n"
   ]
  },
  {
   "cell_type": "code",
   "execution_count": 13,
   "metadata": {},
   "outputs": [
    {
     "ename": "ImportError",
     "evalue": "attempted relative import with no known parent package",
     "output_type": "error",
     "traceback": [
      "\u001b[1;31m---------------------------------------------------------------------------\u001b[0m",
      "\u001b[1;31mImportError\u001b[0m                               Traceback (most recent call last)",
      "Cell \u001b[1;32mIn[13], line 5\u001b[0m\n\u001b[0;32m      3\u001b[0m \u001b[38;5;28;01mimport\u001b[39;00m \u001b[38;5;21;01moperator\u001b[39;00m\n\u001b[0;32m      4\u001b[0m \u001b[38;5;28;01mimport\u001b[39;00m \u001b[38;5;21;01mtypes\u001b[39;00m\n\u001b[1;32m----> 5\u001b[0m \u001b[38;5;28;01mfrom\u001b[39;00m \u001b[38;5;21;01m.\u001b[39;00m \u001b[38;5;28;01mimport\u001b[39;00m numeric \u001b[38;5;28;01mas\u001b[39;00m _nx\n\u001b[0;32m      7\u001b[0m y \u001b[38;5;241m=\u001b[39m np\u001b[38;5;241m.\u001b[39mlinspace(\u001b[38;5;241m2\u001b[39m, \u001b[38;5;241m4\u001b[39m, \u001b[38;5;241m5\u001b[39m)\n\u001b[0;32m      8\u001b[0m base \u001b[38;5;241m=\u001b[39m np\u001b[38;5;241m.\u001b[39mexpand_dims(\u001b[38;5;241m10\u001b[39m, axis\u001b[38;5;241m=\u001b[39m\u001b[38;5;241m0\u001b[39m)\n",
      "\u001b[1;31mImportError\u001b[0m: attempted relative import with no known parent package"
     ]
    }
   ],
   "source": [
    "import functools\n",
    "import warnings\n",
    "import operator\n",
    "import types\n",
    "from . import numeric as _nx\n",
    "\n",
    "y = np.linspace(2, 4, 5)\n",
    "base = np.expand_dims(10, axis=0)\n",
    "\n",
    "print(base)\n",
    "\n",
    "x =_nx.power(base, y).astype(dtype, copy=False)\n",
    "print(x)\n",
    "\n"
   ]
  },
  {
   "cell_type": "code",
   "execution_count": 67,
   "metadata": {},
   "outputs": [
    {
     "name": "stdout",
     "output_type": "stream",
     "text": [
      "[[1. 0. 0. 0.]\n",
      " [0. 1. 0. 0.]\n",
      " [0. 0. 1. 0.]\n",
      " [0. 0. 0. 1.]]\n",
      "[[1. 0. 0. 0.]\n",
      " [0. 1. 0. 0.]\n",
      " [0. 0. 1. 0.]]\n"
     ]
    }
   ],
   "source": [
    "# eye => identity matrix => diagonal elements will be 1 and other will be 0\n",
    "\n",
    "arr = np.eye(4) # 4*4\n",
    "print(arr)\n",
    "\n",
    "arr = np.eye(3,4) # 3*4\n",
    "print(arr)"
   ]
  },
  {
   "cell_type": "code",
   "execution_count": 69,
   "metadata": {},
   "outputs": [
    {
     "name": "stdout",
     "output_type": "stream",
     "text": [
      "[[1 0 0 0]\n",
      " [0 2 0 0]\n",
      " [0 0 3 0]\n",
      " [0 0 0 4]]\n"
     ]
    }
   ],
   "source": [
    "# diag() => ndaray => with diagonal elemnts as specified\n",
    "arr = np.diag([1,2,3,4])\n",
    "print(arr)"
   ]
  },
  {
   "cell_type": "code",
   "execution_count": 73,
   "metadata": {},
   "outputs": [
    {
     "name": "stdout",
     "output_type": "stream",
     "text": [
      "[0.30361278 0.99447257 0.7651222  0.47035023 0.53806125 0.91719084\n",
      " 0.0494156  0.83365765 0.17717101 0.72276161]\n",
      "[ 2.01557692 -0.29028844 -0.34247762  0.40122169  0.62777402  1.48443268\n",
      "  0.31311727  0.61754327 -0.06266201  0.11044485]\n"
     ]
    }
   ],
   "source": [
    "# Random => random sample within 0 to 1\n",
    "arr = np.random.rand(10) # 10 random uniform samples\n",
    "print(arr)\n",
    "\n",
    "arr = np.random.randn(10) # Gaussian standard normal samples\n",
    "print(arr)\n"
   ]
  },
  {
   "cell_type": "code",
   "execution_count": 78,
   "metadata": {},
   "outputs": [
    {
     "name": "stdout",
     "output_type": "stream",
     "text": [
      "[[1 0 0 0]\n",
      " [0 2 0 0]\n",
      " [0 0 3 0]\n",
      " [0 0 0 4]]\n",
      "2\n",
      "[[ 1  0  0  0]\n",
      " [ 0 10  0  0]\n",
      " [ 0  0  3  0]\n",
      " [ 0  0  0  4]]\n"
     ]
    }
   ],
   "source": [
    "# Accessing and modification of ndarray values\n",
    "arr = np.diag([1,2,3,4])\n",
    "print(arr)\n",
    "\n",
    "print(arr[1][1])   # Accessing \n",
    "\n",
    "arr[1, 1] = 10  # Modifying the numbers at given [row, col] position\n",
    "print(arr)\n"
   ]
  },
  {
   "cell_type": "code",
   "execution_count": 84,
   "metadata": {},
   "outputs": [
    {
     "name": "stdout",
     "output_type": "stream",
     "text": [
      "[2 3 4 5 6 7 8 9]\n",
      "[3 4 5 6]\n",
      "[2 3 4]\n",
      "[7 8]\n",
      "[2 7]\n",
      "[[ 1  2  3  4  5]\n",
      " [ 6  7  8  9 10]\n",
      " [11 12 13 14 15]]\n",
      "[11 12 13 14 15]\n",
      "[12 13 14]\n",
      "[3 8]\n",
      "[[2 3 4]\n",
      " [7 8 9]]\n"
     ]
    }
   ],
   "source": [
    "# Slicing (same as that of string)\n",
    "# [start:end:step] , end is always excluded\n",
    "\n",
    "\n",
    "# 1-D \n",
    "arr = np.array([2,3,4,5,6,7,8,9])\n",
    "print(arr)\n",
    "print(arr[1:5])\n",
    "print(arr[:3])\n",
    "print(arr[-3:-1])\n",
    "print(arr[::5])\n",
    "\n",
    "# 2-D \n",
    "arr = np.array([[1,2,3,4,5],[6,7,8,9,10],[11,12,13,14,15]])\n",
    "print(arr)\n",
    "print(arr[2])\n",
    "print(arr[2, 1:4]) # [11,12,13,14,15] => [12,13,14]\n",
    "print(arr[0:2, 2]) # [1,2,3,4,5],[6,7,8,9,10] => [3,8] fetching pos 2 from each of of the outcome\n",
    "print(arr[0:2, 1:4]) # [1,2,3,4,5],[6,7,8,9,10] => [[2 3 4] [7 8 9]]\n"
   ]
  },
  {
   "cell_type": "code",
   "execution_count": 87,
   "metadata": {},
   "outputs": [
    {
     "name": "stdout",
     "output_type": "stream",
     "text": [
      "slice(2, 6, 2)\n",
      "[4 6]\n"
     ]
    }
   ],
   "source": [
    "# slice => how to slice a sequence\n",
    "# slice(start, end, step)\n",
    "\n",
    "arr = np.array([2,3,4,5,6,7,8,9])\n",
    "sliceObj = slice(2,6,2)\n",
    "print(sliceObj)\n",
    "\n",
    "print(arr[sliceObj])"
   ]
  },
  {
   "cell_type": "code",
   "execution_count": 89,
   "metadata": {},
   "outputs": [
    {
     "name": "stdout",
     "output_type": "stream",
     "text": [
      "[ 1  2 10 10 10 10  7]\n"
     ]
    }
   ],
   "source": [
    "# slicing and assignment\n",
    "arr = np.array([1,2,3,4,5,6,7])\n",
    "arr[2:6] = 10\n",
    "print(arr)"
   ]
  },
  {
   "cell_type": "code",
   "execution_count": 92,
   "metadata": {},
   "outputs": [
    {
     "name": "stdout",
     "output_type": "stream",
     "text": [
      "[2 3 4 5 6 7 8 9]\n",
      "[[ 1  2  3  4  5]\n",
      " [ 6  7  8  9 10]\n",
      " [11 12 13 14 15]]\n",
      "[[ 1  6 11]\n",
      " [ 2  7 12]\n",
      " [ 3  8 13]\n",
      " [ 4  9 14]\n",
      " [ 5 10 15]]\n"
     ]
    }
   ],
   "source": [
    "# Transposing an array\n",
    "\n",
    "arr = np.array([2,3,4,5,6,7,8,9]) # 1-D\n",
    "arrT = arr.T\n",
    "print(arrT) # No effect, the array remains the same. \n",
    "\n",
    "arr = np.array([[1,2,3,4,5],[6,7,8,9,10],[11,12,13,14,15]])    # 2-D\n",
    "print(arr)\n",
    "arrT = arr.T\n",
    "print(arrT)\n"
   ]
  },
  {
   "cell_type": "code",
   "execution_count": 98,
   "metadata": {},
   "outputs": [
    {
     "name": "stdout",
     "output_type": "stream",
     "text": [
      "[ 0  1  2  3  4  5  6  7  8  9 10]\n",
      "[0 1 2 3 4 5]\n",
      "[10  9  8  7  6  5  4  3  2  1  0]\n",
      "[5 4 3 2 1 0]\n",
      "[ 5  6  7  8  9 10]\n",
      "[0 1 2 3 4 5 4 3 2 1 0]\n"
     ]
    }
   ],
   "source": [
    "# Reversing an ndarray\n",
    "\n",
    "a = np.arange(11)\n",
    "b = np.arange(6)\n",
    "\n",
    "print(a)\n",
    "print(b)\n",
    "print(a[::-1])  # Reversing the array a\n",
    "print(b[::-1])  # Reversing the array b\n",
    "\n",
    "print(a[5:])\n",
    "# assign the reversed 'array b' to sliced portion of 'array a'\n",
    "a[5:] = b[::-1]\n",
    "\n",
    "print(a)"
   ]
  },
  {
   "cell_type": "code",
   "execution_count": 100,
   "metadata": {},
   "outputs": [
    {
     "name": "stdout",
     "output_type": "stream",
     "text": [
      "[6 7]\n"
     ]
    }
   ],
   "source": [
    "# Boolean indexing\n",
    "arr = np.array([1,2,3,4,5,6,7])\n",
    "print(arr[arr>5]) # [6,7]\n",
    "\n"
   ]
  },
  {
   "cell_type": "code",
   "execution_count": 103,
   "metadata": {},
   "outputs": [
    {
     "name": "stdout",
     "output_type": "stream",
     "text": [
      "[ 4 16 36]\n"
     ]
    }
   ],
   "source": [
    "# Mathematical operations + Boolean checks\n",
    "\n",
    "arr = np.array([1,2,3,4,5,6,7])\n",
    "print(arr[arr%2==0]**2)\n",
    "\n"
   ]
  },
  {
   "cell_type": "code",
   "execution_count": 106,
   "metadata": {},
   "outputs": [
    {
     "name": "stdout",
     "output_type": "stream",
     "text": [
      "1\n",
      "2\n",
      "3\n",
      "4\n",
      "5\n",
      "6\n",
      "7\n"
     ]
    }
   ],
   "source": [
    "# Iteration 1-D\n",
    "\n",
    "arr = np.array([1,2,3,4,5,6,7])\n",
    "for x in arr:\n",
    "    print (x)"
   ]
  },
  {
   "cell_type": "code",
   "execution_count": 108,
   "metadata": {},
   "outputs": [
    {
     "name": "stdout",
     "output_type": "stream",
     "text": [
      "1\n",
      "2\n",
      "3\n",
      "4\n",
      "5\n",
      "6\n",
      "7\n",
      "8\n",
      "9\n",
      "10\n",
      "11\n",
      "12\n",
      "13\n",
      "14\n",
      "15\n"
     ]
    }
   ],
   "source": [
    "# Iteration 2-D\n",
    "arr = np.array([[1,2,3,4,5],[6,7,8,9,10],[11,12,13,14,15]])\n",
    "\n",
    "for x in arr:\n",
    "    for y in x:\n",
    "        print(y)"
   ]
  },
  {
   "cell_type": "code",
   "execution_count": 110,
   "metadata": {},
   "outputs": [
    {
     "name": "stdout",
     "output_type": "stream",
     "text": [
      "1\n",
      "2\n",
      "3\n",
      "4\n",
      "5\n",
      "6\n",
      "7\n"
     ]
    }
   ],
   "source": [
    "# nditer\n",
    "\n",
    "arr = np.array([1,2,3,4,5,6,7])\n",
    "for x in np.nditer(arr):\n",
    "    print(x)"
   ]
  },
  {
   "cell_type": "code",
   "execution_count": 14,
   "metadata": {},
   "outputs": [
    {
     "name": "stdout",
     "output_type": "stream",
     "text": [
      "1\n",
      "2\n",
      "3\n",
      "4\n",
      "5\n",
      "6\n",
      "7\n",
      "8\n",
      "9\n",
      "10\n",
      "11\n",
      "12\n",
      "13\n",
      "14\n",
      "15\n"
     ]
    }
   ],
   "source": [
    "arr = np.array([[1,2,3,4,5],[6,7,8,9,10],[11,12,13,14,15]])\n",
    "for x in np.nditer(arr):\n",
    "    print(x)"
   ]
  },
  {
   "cell_type": "code",
   "execution_count": 20,
   "metadata": {},
   "outputs": [
    {
     "name": "stdout",
     "output_type": "stream",
     "text": [
      "2460847774128\n",
      "2460850908848\n"
     ]
    }
   ],
   "source": [
    "# Copy and view \n",
    "\n",
    "# Copy\n",
    "arr = np.array([10,20,30,40,50])\n",
    "x = arr.copy() # copied array\n",
    "\n",
    "# print(np.delete(arr, 0))  # remove item from 0th position \n",
    "\n",
    "#Validation : 1 : Getting the address\n",
    "print(id(arr))  # id's are different , so a different object\n",
    "print(id(x)) # id's are different , so a different object\n",
    "\n",
    "# Validation : 2 : Modifiying the array\n",
    "arr[3] = 60\n",
    "print(arr)\n",
    "print(x)"
   ]
  },
  {
   "cell_type": "code",
   "execution_count": 25,
   "metadata": {},
   "outputs": [
    {
     "name": "stdout",
     "output_type": "stream",
     "text": [
      "2460851448176\n",
      "2460851447984\n",
      "[10 20 30 60 50]\n",
      "[10 20 10 10 50]\n",
      "[10 20 30 60 50]\n",
      "[10 20 10 10 50]\n"
     ]
    }
   ],
   "source": [
    "# View \n",
    "arr_v = np.array([10,20,30,40,50])\n",
    "x_v = arr.view() # view\n",
    "\n",
    "#Validation : 1 : Getting the address\n",
    "print(id(arr_v))  # id's are different , so a different object\n",
    "print(id(x_v)) # id's are different , so a different object\n",
    "\n",
    "# Validation : 2 : Modifiying through original array\n",
    "arr_v[3] = 60\n",
    "print(arr_v)\n",
    "print(x_v)\n",
    "\n",
    "# Validation : 2 : Modifiying through view\n",
    "x_v[3] = 10\n",
    "print(arr_v)\n",
    "print(x_v)"
   ]
  },
  {
   "cell_type": "code",
   "execution_count": 29,
   "metadata": {},
   "outputs": [
    {
     "name": "stdout",
     "output_type": "stream",
     "text": [
      "[[1 2]\n",
      " [6 7]]\n",
      "[[ 3  4]\n",
      " [10 11]]\n",
      "[[ 1  2]\n",
      " [ 6  7]\n",
      " [ 3  4]\n",
      " [10 11]]\n",
      "[[ 1  2  3  4]\n",
      " [ 6  7 10 11]]\n"
     ]
    }
   ],
   "source": [
    "arr1 = np.array([[1,2],[6,7]]) # 2-D\n",
    "arr2 = np.array([[3,4],[10,11]])\n",
    "\n",
    "print(arr1)\n",
    "print(arr2)\n",
    "\n",
    "arr_joined = np.concatenate((arr1, arr2)) # row-wise concatenation, along x-axis (axis=0) (default)\n",
    "print(arr_joined)\n",
    "\n",
    "# Dimensions of the arrays should be same\n",
    "arr_joined = np.concatenate((arr1, arr2), axis=1) # column-wise concatenation, along y-axis (axis=1)\n",
    "print(arr_joined)\n"
   ]
  },
  {
   "cell_type": "code",
   "execution_count": 34,
   "metadata": {},
   "outputs": [
    {
     "name": "stdout",
     "output_type": "stream",
     "text": [
      "[array([1, 2]), array([3, 4]), array([5, 6])]\n",
      "[array([1]), array([2]), array([3]), array([4]), array([5]), array([6]), array([], dtype=int32), array([], dtype=int32)]\n"
     ]
    },
    {
     "ename": "ValueError",
     "evalue": "array split does not result in an equal division",
     "output_type": "error",
     "traceback": [
      "\u001b[1;31m---------------------------------------------------------------------------\u001b[0m",
      "\u001b[1;31mValueError\u001b[0m                                Traceback (most recent call last)",
      "Cell \u001b[1;32mIn[34], line 9\u001b[0m\n\u001b[0;32m      6\u001b[0m split_arr \u001b[38;5;241m=\u001b[39m np\u001b[38;5;241m.\u001b[39marray_split(arr, \u001b[38;5;241m8\u001b[39m)\n\u001b[0;32m      7\u001b[0m \u001b[38;5;28mprint\u001b[39m(split_arr)\n\u001b[1;32m----> 9\u001b[0m split_arr \u001b[38;5;241m=\u001b[39m \u001b[43mnp\u001b[49m\u001b[38;5;241;43m.\u001b[39;49m\u001b[43msplit\u001b[49m\u001b[43m(\u001b[49m\u001b[43marr\u001b[49m\u001b[43m,\u001b[49m\u001b[43m \u001b[49m\u001b[38;5;241;43m4\u001b[39;49m\u001b[43m)\u001b[49m \u001b[38;5;66;03m# splits array into given parts , error out when equal division is not possible\u001b[39;00m\n\u001b[0;32m     10\u001b[0m \u001b[38;5;28mprint\u001b[39m(split_arr)\n",
      "File \u001b[1;32mc:\\Users\\HP\\anaconda3\\Lib\\site-packages\\numpy\\lib\\shape_base.py:864\u001b[0m, in \u001b[0;36msplit\u001b[1;34m(ary, indices_or_sections, axis)\u001b[0m\n\u001b[0;32m    862\u001b[0m     N \u001b[38;5;241m=\u001b[39m ary\u001b[38;5;241m.\u001b[39mshape[axis]\n\u001b[0;32m    863\u001b[0m     \u001b[38;5;28;01mif\u001b[39;00m N \u001b[38;5;241m%\u001b[39m sections:\n\u001b[1;32m--> 864\u001b[0m         \u001b[38;5;28;01mraise\u001b[39;00m \u001b[38;5;167;01mValueError\u001b[39;00m(\n\u001b[0;32m    865\u001b[0m             \u001b[38;5;124m'\u001b[39m\u001b[38;5;124marray split does not result in an equal division\u001b[39m\u001b[38;5;124m'\u001b[39m) \u001b[38;5;28;01mfrom\u001b[39;00m \u001b[38;5;28;01mNone\u001b[39;00m\n\u001b[0;32m    866\u001b[0m \u001b[38;5;28;01mreturn\u001b[39;00m array_split(ary, indices_or_sections, axis)\n",
      "\u001b[1;31mValueError\u001b[0m: array split does not result in an equal division"
     ]
    }
   ],
   "source": [
    "arr = np.array([1,2,3,4,5,6])\n",
    "\n",
    "split_arr = np.array_split(arr, 3)\n",
    "print(split_arr)\n",
    "\n",
    "split_arr = np.array_split(arr, 8)\n",
    "print(split_arr)\n",
    "\n",
    "split_arr = np.split(arr, 4) # splits array into given parts , error out when equal division is not possible\n",
    "print(split_arr)\n"
   ]
  },
  {
   "cell_type": "code",
   "execution_count": 48,
   "metadata": {},
   "outputs": [
    {
     "name": "stdout",
     "output_type": "stream",
     "text": [
      "3\n"
     ]
    }
   ],
   "source": [
    "# Searching of an element\n",
    "arr = np.array([1,2,3,4,5,6])\n",
    "pos_arr = np.where(arr == 4) # gives the position of value 4 in array, arr\n",
    "print(pos_arr[0][0])\n"
   ]
  },
  {
   "cell_type": "code",
   "execution_count": 62,
   "metadata": {},
   "outputs": [
    {
     "name": "stdout",
     "output_type": "stream",
     "text": [
      "[[1, 2, 3, 4, 5], [6, 7, 8, 9, 10]] [[1, 1, 1, 1, 1]]\n",
      "[[ 2  3  4  5  6]\n",
      " [ 7  8  9 10 11]]\n",
      "[[0 1 2 3 4]\n",
      " [5 6 7 8 9]]\n",
      "[[ 1  2  3  4  5]\n",
      " [ 6  7  8  9 10]]\n",
      "[[ 1.  2.  3.  4.  5.]\n",
      " [ 6.  7.  8.  9. 10.]]\n",
      "[[1 0 0 0 0]\n",
      " [0 0 0 0 0]]\n",
      "[[ 1  2  3  4  5]\n",
      " [ 6  7  8  9 10]]\n",
      "1\n",
      "10\n",
      "[[0 0 0 0 0]\n",
      " [0 0 0 0 0]]\n",
      "5.5\n",
      "5.5\n",
      "2.8722813232690143\n",
      "[[ 0.84147098  0.90929743  0.14112001 -0.7568025  -0.95892427]\n",
      " [-0.2794155   0.6569866   0.98935825  0.41211849 -0.54402111]]\n",
      "[[ 0.54030231 -0.41614684 -0.9899925  -0.65364362  0.28366219]\n",
      " [ 0.96017029  0.75390225 -0.14550003 -0.91113026 -0.83907153]]\n"
     ]
    }
   ],
   "source": [
    "# Mathematical function\n",
    "\n",
    "# dimension should be same\n",
    "arr1 = ([[1,2,3,4,5],[6,7,8,9,10]])\n",
    "#arr2 = ([[2,2,2,2,2]])\n",
    "arr2 = ([[1,1,1,1,1]])\n",
    "\n",
    "print(arr1, arr2)\n",
    "\n",
    "s = np.add(arr1, arr2)\n",
    "print(s)\n",
    "\n",
    "sub = np.subtract(arr1, arr2)\n",
    "print(sub)\n",
    "\n",
    "m = np.multiply(arr1, arr2)\n",
    "print(m)\n",
    "\n",
    "d = np.divide(arr1, arr2)\n",
    "print(d)\n",
    "\n",
    "print(np.reciprocal(arr1))\n",
    "\n",
    "print(np.power(arr1, arr2))\n",
    "\n",
    "print(np.min(arr1))\n",
    "\n",
    "print(np.max(arr1))\n",
    "\n",
    "print(np.mod(arr1, arr2))\n",
    "\n",
    "print(np.mean(arr1))\n",
    "\n",
    "print(np.median(arr1))\n",
    "\n",
    "print(np.std(arr1))\n",
    "\n",
    "print(np.sin(arr1))\n",
    "\n",
    "print(np.cos(arr1))\n",
    "\n"
   ]
  },
  {
   "cell_type": "code",
   "execution_count": 63,
   "metadata": {},
   "outputs": [
    {
     "name": "stdout",
     "output_type": "stream",
     "text": [
      "[2. 1. 3. 4.]\n",
      "[3. 2. 4. 5.]\n"
     ]
    }
   ],
   "source": [
    "arr = np.array([2.6, 1.2, 3.7, 4.8])\n",
    "print(np.floor(arr))\n",
    "print(np.ceil(arr))"
   ]
  }
 ],
 "metadata": {
  "kernelspec": {
   "display_name": "base",
   "language": "python",
   "name": "python3"
  },
  "language_info": {
   "codemirror_mode": {
    "name": "ipython",
    "version": 3
   },
   "file_extension": ".py",
   "mimetype": "text/x-python",
   "name": "python",
   "nbconvert_exporter": "python",
   "pygments_lexer": "ipython3",
   "version": "3.12.4"
  }
 },
 "nbformat": 4,
 "nbformat_minor": 2
}
