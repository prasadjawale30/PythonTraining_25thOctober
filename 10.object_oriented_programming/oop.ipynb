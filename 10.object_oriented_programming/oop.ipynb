{
 "cells": [
  {
   "cell_type": "code",
   "execution_count": null,
   "metadata": {},
   "outputs": [],
   "source": [
    "# Create a class/blueprint/map/structure/layout\n",
    "\n",
    "class Person:   # class\n",
    "    pass\n"
   ]
  },
  {
   "cell_type": "code",
   "execution_count": null,
   "metadata": {},
   "outputs": [
    {
     "name": "stdout",
     "output_type": "stream",
     "text": [
      "<__main__.Person object at 0x0000021E233B1040>\n",
      "<__main__.Person object at 0x0000021E233B0E60>\n",
      "<__main__.Person object at 0x0000021E23382840>\n"
     ]
    }
   ],
   "source": [
    "person1 = Person()  # creating an instance/object\n",
    "person2 = Person()\n",
    "person3 = Person()\n",
    "\n",
    "print(person1)\n",
    "print(person2)\n",
    "print(person3)"
   ]
  },
  {
   "cell_type": "code",
   "execution_count": 7,
   "metadata": {},
   "outputs": [],
   "source": [
    "# Creating a class with attributes\n",
    "# Person => id, name, address\n",
    "\n",
    "class Person:\n",
    "    # Attributes\n",
    "    def __init__(self):\n",
    "        self.id = 1001\n",
    "        self.name = 'Amit'\n",
    "        self.address = 'Pune'"
   ]
  },
  {
   "cell_type": "code",
   "execution_count": 10,
   "metadata": {},
   "outputs": [
    {
     "name": "stdout",
     "output_type": "stream",
     "text": [
      "1001\n",
      "Amit\n",
      "Pune\n",
      "1001\n",
      "Amit\n",
      "Pune\n"
     ]
    }
   ],
   "source": [
    "person1 = Person() # instance\n",
    "print(person1.id)\n",
    "print(person1.name)\n",
    "print(person1.address)\n",
    "\n",
    "\n",
    "person2 = Person() # another instance\n",
    "print(person1.id)\n",
    "print(person1.name)\n",
    "print(person1.address)"
   ]
  },
  {
   "cell_type": "code",
   "execution_count": 17,
   "metadata": {},
   "outputs": [],
   "source": [
    "# Passing attributes dynamically \n",
    "\n",
    "class Person:\n",
    "    # Attributes\n",
    "    def __init__(self, i, n, a):\n",
    "        self.id = i\n",
    "        self.name = n\n",
    "        self.address = a\n",
    "\n",
    "    # Behaviours/Methods/Functions\n",
    "    def learn_coding(self):\n",
    "        print(self.name + ' is learing how to code')\n",
    "\n",
    "\n",
    "    def learn_to_talk(self):\n",
    "        print(self.name + ' is learing how to talk')"
   ]
  },
  {
   "cell_type": "code",
   "execution_count": 19,
   "metadata": {},
   "outputs": [
    {
     "name": "stdout",
     "output_type": "stream",
     "text": [
      "1001\n",
      "Amit\n",
      "Pune\n",
      "Amit is learing how to code\n",
      "Amit is learing how to talk\n"
     ]
    }
   ],
   "source": [
    "person1 = Person(1001, 'Amit', 'Pune') # instance\n",
    "print(person1.id)\n",
    "print(person1.name)\n",
    "print(person1.address)\n",
    "\n",
    "# Calling behaviours\n",
    "person1.learn_coding()  # Attributes are being accessed through behaviour\n",
    "person1.learn_to_talk()\n"
   ]
  },
  {
   "cell_type": "code",
   "execution_count": 20,
   "metadata": {},
   "outputs": [
    {
     "name": "stdout",
     "output_type": "stream",
     "text": [
      "1002\n",
      "Ramesh\n",
      "Delhi\n",
      "Ramesh is learing how to code\n",
      "Ramesh is learing how to talk\n"
     ]
    }
   ],
   "source": [
    "person2 = Person(1002, 'Ramesh', 'Delhi') # another instance\n",
    "print(person2.id)\n",
    "print(person2.name)\n",
    "print(person2.address)\n",
    "\n",
    "# Calling behaviours\n",
    "person2.learn_coding()  # Attributes are being accessed through behaviour\n",
    "person2.learn_to_talk()"
   ]
  }
 ],
 "metadata": {
  "kernelspec": {
   "display_name": "Python 3",
   "language": "python",
   "name": "python3"
  },
  "language_info": {
   "codemirror_mode": {
    "name": "ipython",
    "version": 3
   },
   "file_extension": ".py",
   "mimetype": "text/x-python",
   "name": "python",
   "nbconvert_exporter": "python",
   "pygments_lexer": "ipython3",
   "version": "3.12.5"
  }
 },
 "nbformat": 4,
 "nbformat_minor": 2
}
