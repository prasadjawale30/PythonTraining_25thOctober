{
 "cells": [
  {
   "cell_type": "code",
   "execution_count": 2,
   "metadata": {},
   "outputs": [
    {
     "name": "stdout",
     "output_type": "stream",
     "text": [
      "100\n"
     ]
    }
   ],
   "source": [
    "# Function \n",
    "# def , name of function, proper parameters, body\n",
    "\n",
    "def squared(num): return num**2\n",
    "\n",
    "print(squared(10))"
   ]
  },
  {
   "cell_type": "code",
   "execution_count": 3,
   "metadata": {},
   "outputs": [
    {
     "name": "stdout",
     "output_type": "stream",
     "text": [
      "100\n"
     ]
    }
   ],
   "source": [
    "# Lambda Function : Anonymous Functions, having no names\n",
    "# define the function : use lambda keyword\n",
    "\n",
    "sq = lambda num : num ** 2  # lanbda expression, but not the ideal way of using the labmda (it shouldn't be assigned to any varaibale)\n",
    "print(sq(10))"
   ]
  },
  {
   "cell_type": "code",
   "execution_count": 6,
   "metadata": {},
   "outputs": [
    {
     "name": "stdout",
     "output_type": "stream",
     "text": [
      "[1, 4, 9, 16, 25]\n"
     ]
    }
   ],
   "source": [
    "# General Approach through MAP\n",
    "\n",
    "# Operation\n",
    "def squared(num): return num**2\n",
    "\n",
    "# Function Call\n",
    "x = [1,2,3,4,5]\n",
    "output = list(map(squared, x))  # opeartion you want to perform, input \n",
    "print(output)"
   ]
  },
  {
   "cell_type": "code",
   "execution_count": 8,
   "metadata": {},
   "outputs": [
    {
     "name": "stdout",
     "output_type": "stream",
     "text": [
      "[1, 4, 9, 16, 25]\n"
     ]
    }
   ],
   "source": [
    "# Lambda Function\n",
    "x = [1,2,3,4,5]\n",
    "output = output = list(map(lambda num : num**2, x)) \n",
    "print(output)\n"
   ]
  },
  {
   "cell_type": "code",
   "execution_count": null,
   "metadata": {},
   "outputs": [
    {
     "name": "stdout",
     "output_type": "stream",
     "text": [
      "[2, 4]\n"
     ]
    }
   ],
   "source": [
    "# Using lambda with FILTER to remove the odd numbers\n",
    "x = [1,2,3,4,5]\n",
    "output = output = list(filter(lambda num : num%2==0, x)) \n",
    "print(output)"
   ]
  }
 ],
 "metadata": {
  "kernelspec": {
   "display_name": "Python 3",
   "language": "python",
   "name": "python3"
  },
  "language_info": {
   "codemirror_mode": {
    "name": "ipython",
    "version": 3
   },
   "file_extension": ".py",
   "mimetype": "text/x-python",
   "name": "python",
   "nbconvert_exporter": "python",
   "pygments_lexer": "ipython3",
   "version": "3.12.5"
  }
 },
 "nbformat": 4,
 "nbformat_minor": 2
}
