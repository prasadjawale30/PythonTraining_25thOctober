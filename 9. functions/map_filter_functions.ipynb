{
 "cells": [
  {
   "cell_type": "code",
   "execution_count": 4,
   "metadata": {},
   "outputs": [],
   "source": [
    "# WAP that takes a number as an argument and returns the square of it\n",
    "\n",
    "def squared(num):\n",
    "    return num**2\n"
   ]
  },
  {
   "cell_type": "code",
   "execution_count": 6,
   "metadata": {},
   "outputs": [
    {
     "name": "stdout",
     "output_type": "stream",
     "text": [
      "100\n"
     ]
    }
   ],
   "source": [
    "x =10 \n",
    "output = squared(x)\n",
    "print(output)"
   ]
  },
  {
   "cell_type": "code",
   "execution_count": 7,
   "metadata": {},
   "outputs": [],
   "source": [
    "# Modify the above to accept list as an input and then return the sqaure of each element in it\n",
    "# Output should be a list\n",
    "# IP :  [10, 20, 20, 40, 50]   O/P : [100, 400, 400, 1600, 2500]\n",
    "\n",
    "def squared_list(numlist):\n",
    "    sq_list = []\n",
    "    for num in numlist:\n",
    "        sq_val = num**2\n",
    "        sq_list.append(sq_val)\n",
    "\n",
    "    return sq_list"
   ]
  },
  {
   "cell_type": "code",
   "execution_count": null,
   "metadata": {},
   "outputs": [
    {
     "name": "stdout",
     "output_type": "stream",
     "text": [
      "[100, 400, 400, 1600, 2500]\n"
     ]
    }
   ],
   "source": [
    "x = [10, 20, 20, 40, 50]  # iterable\n",
    "output = squared_list(x)\n",
    "print(output)"
   ]
  },
  {
   "cell_type": "code",
   "execution_count": null,
   "metadata": {},
   "outputs": [
    {
     "name": "stdout",
     "output_type": "stream",
     "text": [
      "[1, 4, 9, 16, 25]\n"
     ]
    }
   ],
   "source": [
    "# map() :  iterable i/p => iterate on it and apply some operation on each element => o/p => cast it to desired iterbale type\n",
    "# map(function, iterable_input)\n",
    "# Input size will be same as output size\n",
    "\n",
    "x = [1,2,3,4,5]\n",
    "\n",
    "output = list(map(squared, x))  # opeartion you want to perform, input \n",
    "print(output)"
   ]
  },
  {
   "cell_type": "code",
   "execution_count": 13,
   "metadata": {},
   "outputs": [],
   "source": [
    "# ['John', 'Tom', 'Sierra', 'Ramesh', 'Inga']\n",
    "# If length of the string is even then o/p should be 'EVEN', else print the first character of the string.\n",
    "# O/P should be a list\n",
    "\n",
    "# Function\n",
    "\n",
    "# Regular Approach\n",
    "\n",
    "def string_checker(strlist):\n",
    "    output = []\n",
    "\n",
    "    for str in strlist:\n",
    "        if len(str) % 2 == 0:\n",
    "            output.append('EVEN') \n",
    "        else:\n",
    "            output.append(str[0])\n",
    "\n",
    "    return output"
   ]
  },
  {
   "cell_type": "code",
   "execution_count": 14,
   "metadata": {},
   "outputs": [
    {
     "name": "stdout",
     "output_type": "stream",
     "text": [
      "['EVEN', 'T', 'EVEN', 'EVEN', 'EVEN']\n"
     ]
    }
   ],
   "source": [
    "strlist = ['John', 'Tom', 'Sierra', 'Ramesh', 'Inga']\n",
    "output = string_checker(strlist)\n",
    "print(output)"
   ]
  },
  {
   "cell_type": "code",
   "execution_count": null,
   "metadata": {},
   "outputs": [],
   "source": [
    "# MAP Approach\n",
    "\n",
    "def string_checker_map(str_data):\n",
    "    if len(str_data) % 2 == 0:\n",
    "        return 'EVEN' \n",
    "    else:\n",
    "        return str_data[0]\n"
   ]
  },
  {
   "cell_type": "code",
   "execution_count": 18,
   "metadata": {},
   "outputs": [
    {
     "name": "stdout",
     "output_type": "stream",
     "text": [
      "['EVEN', 'T', 'EVEN', 'EVEN', 'EVEN']\n"
     ]
    }
   ],
   "source": [
    "strlist = ['John', 'Tom', 'Sierra', 'Ramesh', 'Inga']\n",
    "output = list(map(string_checker_map, strlist))\n",
    "print(output)"
   ]
  },
  {
   "cell_type": "code",
   "execution_count": 28,
   "metadata": {},
   "outputs": [],
   "source": [
    "# Modify the above program such that it takes a list of number as an input and return the length of th elemnts having even size.\n",
    "# Skip the odd-sized string values\n",
    "\n",
    "# MAP Approach\n",
    "\n",
    "def string_checker_map(str_data):\n",
    "    if len(str_data) % 2 == 0:\n",
    "        return len(str_data) \n",
    "    \n"
   ]
  },
  {
   "cell_type": "code",
   "execution_count": 29,
   "metadata": {},
   "outputs": [
    {
     "name": "stdout",
     "output_type": "stream",
     "text": [
      "[4, None, 6, 6, 4]\n"
     ]
    }
   ],
   "source": [
    "strlist = ['John', 'Tom', 'Sierra', 'Ramesh', 'Inga']\n",
    "output = list(map(string_checker_map, strlist))\n",
    "print(output)\n",
    "\n"
   ]
  },
  {
   "cell_type": "code",
   "execution_count": 26,
   "metadata": {},
   "outputs": [],
   "source": [
    "# FILTER => If the logic stands True for the incoming data, include it in the output\n",
    "\n",
    "def string_checker_filter(str_data):\n",
    "    return len(str_data) % 2 == 0        # True/False\n",
    "    "
   ]
  },
  {
   "cell_type": "code",
   "execution_count": null,
   "metadata": {},
   "outputs": [
    {
     "name": "stdout",
     "output_type": "stream",
     "text": [
      "['John', 'Ramesh', 'Inga']\n",
      "[4, 6, 4]\n"
     ]
    }
   ],
   "source": [
    "strlist = ['John', 'Tom', 'Siera', 'Ramesh', 'Inga']\n",
    "outputlist = list(filter(string_checker_filter, strlist))\n",
    "print(outputlist)\n",
    "\n",
    "output = list(map(string_checker_map, outputlist))  # Ouput of the FILTER will be input to MAP\n",
    "print(output)\n"
   ]
  }
 ],
 "metadata": {
  "kernelspec": {
   "display_name": "Python 3",
   "language": "python",
   "name": "python3"
  },
  "language_info": {
   "codemirror_mode": {
    "name": "ipython",
    "version": 3
   },
   "file_extension": ".py",
   "mimetype": "text/x-python",
   "name": "python",
   "nbconvert_exporter": "python",
   "pygments_lexer": "ipython3",
   "version": "3.12.5"
  }
 },
 "nbformat": 4,
 "nbformat_minor": 2
}
