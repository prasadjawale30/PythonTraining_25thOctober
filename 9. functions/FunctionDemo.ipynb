{
 "cells": [
  {
   "cell_type": "code",
   "execution_count": null,
   "metadata": {},
   "outputs": [],
   "source": [
    "# 1. Function Definition\n",
    "# 2. Function Call\n",
    "\n",
    "\n",
    "# Function Definition - creating a function\n",
    "# No-arg function \n",
    "def displayText():\n",
    "    # body - displays the message\n",
    "    print(\"Hello ! A very good morning to all.\")\n",
    "    print(\"Let meet at hall 1\")"
   ]
  },
  {
   "cell_type": "code",
   "execution_count": 3,
   "metadata": {},
   "outputs": [],
   "source": [
    "# Function with arguments/parameters\n",
    "def greetGuests(firstname):\n",
    "    print(\"Hello {}. Welcome to the event\".format(firstname))"
   ]
  },
  {
   "cell_type": "code",
   "execution_count": null,
   "metadata": {},
   "outputs": [
    {
     "name": "stdout",
     "output_type": "stream",
     "text": [
      "Hello ! A very good morning to all.\n",
      "Let meet at hall 1\n"
     ]
    }
   ],
   "source": [
    "# Function Call - Use the function\n",
    "displayText() # No parameters, no return"
   ]
  },
  {
   "cell_type": "code",
   "execution_count": 9,
   "metadata": {},
   "outputs": [
    {
     "name": "stdout",
     "output_type": "stream",
     "text": [
      "Hello Ramesh. Welcome to the event\n",
      "Hello Amit. Welcome to the event\n"
     ]
    }
   ],
   "source": [
    "greetGuests(\"Ramesh\")\n",
    "greetGuests(\"Amit\")\n",
    "#greetGuests() # error, no parameter\n",
    "#greetGuests(\"Amit\", \"Ramesh\") # error, more parameters"
   ]
  },
  {
   "cell_type": "code",
   "execution_count": null,
   "metadata": {},
   "outputs": [],
   "source": [
    "# Task : Get a number from user, return the remainder by modulo 2\n",
    "# parameter + return a value\n",
    "\n",
    "def getRemainder(num):\n",
    "    rem = num % 2\n",
    "    return rem   # Go back to the caller\n",
    "    print(\"Hello\")  # will not be executed"
   ]
  },
  {
   "cell_type": "code",
   "execution_count": 16,
   "metadata": {},
   "outputs": [
    {
     "name": "stdout",
     "output_type": "stream",
     "text": [
      "0\n"
     ]
    }
   ],
   "source": [
    "result = getRemainder(10)  # Caller\n",
    "print(result)"
   ]
  },
  {
   "cell_type": "code",
   "execution_count": null,
   "metadata": {},
   "outputs": [],
   "source": [
    "# Task : Accept two numbers, return teh sum of it\n",
    "def calculate_sum(num1, num2):\n",
    "    return num1 + num2"
   ]
  },
  {
   "cell_type": "code",
   "execution_count": 14,
   "metadata": {},
   "outputs": [
    {
     "name": "stdout",
     "output_type": "stream",
     "text": [
      "30\n"
     ]
    }
   ],
   "source": [
    "sum = calculate_sum(10, 20)\n",
    "print(sum)"
   ]
  },
  {
   "cell_type": "code",
   "execution_count": 24,
   "metadata": {},
   "outputs": [],
   "source": [
    "# task : Get salary from user as inputs, \n",
    "# Comapre the salary of two persons and display the message according\n",
    "# salary_comparator\n",
    "\n",
    "def salary_comparator(salA, salB):\n",
    "    if salA > salB:\n",
    "        print(\"Salary of A is greater than B\")\n",
    "    elif salB > salA:\n",
    "        print(\"Salary of B is greater than A\")\n",
    "    else:\n",
    "        print(\"Salaries are equal\")\n",
    "        "
   ]
  },
  {
   "cell_type": "code",
   "execution_count": 25,
   "metadata": {},
   "outputs": [
    {
     "name": "stdout",
     "output_type": "stream",
     "text": [
      "Salaries are equal\n"
     ]
    }
   ],
   "source": [
    "salA = int(input(\"Enter the salary of A : \"))\n",
    "salB = int(input(\"Enter the salary of B : \"))\n",
    "salary_comparator(salA, salB)"
   ]
  },
  {
   "cell_type": "code",
   "execution_count": 26,
   "metadata": {},
   "outputs": [],
   "source": [
    "def salary_comparator(salA, salB):\n",
    "    return salA - salB"
   ]
  },
  {
   "cell_type": "code",
   "execution_count": 23,
   "metadata": {},
   "outputs": [
    {
     "name": "stdout",
     "output_type": "stream",
     "text": [
      "Salaries are equal\n"
     ]
    }
   ],
   "source": [
    "salA = int(input(\"Enter the salary of A : \"))\n",
    "salB = int(input(\"Enter the salary of B : \"))\n",
    "salary_diff = salary_comparator(salA, salB)\n",
    "\n",
    "if salary_diff > 0 :\n",
    "    print(\"Salary of A is greater than B\")\n",
    "elif salary_diff < 0:\n",
    "    print(\"Salary of B is greater than A\")\n",
    "else:\n",
    "    print(\"Salaries are equal\")"
   ]
  },
  {
   "cell_type": "code",
   "execution_count": 27,
   "metadata": {},
   "outputs": [],
   "source": [
    "# Task : Compute the sum of numbers in the list\n",
    "# [1, 2, 3, 4, 5, 6 , 7] \n",
    "\n",
    "def compute_sum(num_list):\n",
    "    sum = 0 \n",
    "    for x in num_list:\n",
    "        sum = sum + x\n",
    "\n",
    "    return sum\n"
   ]
  },
  {
   "cell_type": "code",
   "execution_count": 29,
   "metadata": {},
   "outputs": [],
   "source": [
    "def start():\n",
    "    print(\"Processing begins......\")"
   ]
  },
  {
   "cell_type": "code",
   "execution_count": 30,
   "metadata": {},
   "outputs": [],
   "source": [
    "def ends():\n",
    "    print(\"Processing completed\")"
   ]
  },
  {
   "cell_type": "code",
   "execution_count": 32,
   "metadata": {},
   "outputs": [
    {
     "name": "stdout",
     "output_type": "stream",
     "text": [
      "Processing begins......\n",
      "28\n",
      "Processing completed\n"
     ]
    }
   ],
   "source": [
    "numlist = [1, 2, 3, 4, 5, 6, 7]\n",
    "start()\n",
    "print(compute_sum(numlist))\n",
    "ends()"
   ]
  },
  {
   "cell_type": "markdown",
   "metadata": {},
   "source": [
    "## default parameters"
   ]
  },
  {
   "cell_type": "code",
   "execution_count": null,
   "metadata": {},
   "outputs": [],
   "source": [
    "# Function with default parameters\n",
    "# Note : default parameters must come after non-default parameters\n",
    "def greetGuests(name, event_name='FashionHub'):\n",
    "    print(\"Hello {}. Welcome to the {}\".format(name, event_name))"
   ]
  },
  {
   "cell_type": "code",
   "execution_count": 5,
   "metadata": {},
   "outputs": [
    {
     "name": "stdout",
     "output_type": "stream",
     "text": [
      "Hello Ramesh. Welcome to the TechFest\n"
     ]
    }
   ],
   "source": [
    "greetGuests('Ramesh', 'TechFest')"
   ]
  },
  {
   "cell_type": "code",
   "execution_count": 8,
   "metadata": {},
   "outputs": [
    {
     "name": "stdout",
     "output_type": "stream",
     "text": [
      "Hello Ram. Welcome to the FashionHub\n"
     ]
    }
   ],
   "source": [
    "greetGuests('Ram')"
   ]
  },
  {
   "cell_type": "code",
   "execution_count": 7,
   "metadata": {},
   "outputs": [
    {
     "name": "stdout",
     "output_type": "stream",
     "text": [
      "Hello Mohan. Welcome to the AgriTech\n"
     ]
    }
   ],
   "source": [
    "greetGuests('Mohan', 'AgriTech')"
   ]
  },
  {
   "cell_type": "code",
   "execution_count": 12,
   "metadata": {},
   "outputs": [],
   "source": [
    "def greetGuests(event_name='FashionHub', name='Raj'):\n",
    "    print(\"Hello {}. Welcome to the {}\".format(name, event_name))"
   ]
  },
  {
   "cell_type": "code",
   "execution_count": null,
   "metadata": {},
   "outputs": [
    {
     "name": "stdout",
     "output_type": "stream",
     "text": [
      "Hello Raj. Welcome to the FashionHub\n",
      "Hello Raj. Welcome to the AgriTech\n",
      "Hello Mohan. Welcome to the AgriTech\n"
     ]
    }
   ],
   "source": [
    "greetGuests() # all defaults\n",
    "greetGuests('AgriTech') # name default\n",
    "greetGuests('AgriTech', 'Mohan') "
   ]
  },
  {
   "cell_type": "markdown",
   "metadata": {},
   "source": [
    "### Arbitrary Function Arguments"
   ]
  },
  {
   "cell_type": "code",
   "execution_count": 31,
   "metadata": {},
   "outputs": [],
   "source": [
    "# Arbitrary Function Arguments\n",
    "def greetGuests(event_name, *names):   # 0 or any number of arguments\n",
    "    \n",
    "    print(type(names))   # *names => tuple \n",
    "\n",
    "    for name in names:\n",
    "        print(\"Hello {}. Welcome to the {}\".format(name, event_name))\n"
   ]
  },
  {
   "cell_type": "code",
   "execution_count": 32,
   "metadata": {},
   "outputs": [
    {
     "name": "stdout",
     "output_type": "stream",
     "text": [
      "<class 'tuple'>\n",
      "Hello Ramesh. Welcome to the TechFest\n"
     ]
    }
   ],
   "source": [
    "greetGuests('TechFest', \"Ramesh\")\n"
   ]
  },
  {
   "cell_type": "code",
   "execution_count": null,
   "metadata": {},
   "outputs": [
    {
     "name": "stdout",
     "output_type": "stream",
     "text": [
      "<class 'tuple'>\n",
      "Hello Ramesh. Welcome to the TechFest\n",
      "Hello Mohan. Welcome to the TechFest\n",
      "Hello Raj. Welcome to the TechFest\n",
      "Hello Ashish. Welcome to the TechFest\n"
     ]
    }
   ],
   "source": [
    "greetGuests(\"TechFest\", \"Ramesh\", \"Mohan\", \"Raj\", \"Ashish\")"
   ]
  },
  {
   "cell_type": "markdown",
   "metadata": {},
   "source": [
    "### Keyworded Arguments"
   ]
  },
  {
   "cell_type": "code",
   "execution_count": 36,
   "metadata": {},
   "outputs": [],
   "source": [
    "# Similar to arbitrary arguments, but the arguments are passed in key-value pairs\n",
    "\n",
    "def getEventDetails(**kwargs):\n",
    "    print(type(kwargs))\n",
    "\n",
    "    for key, value in kwargs.items():\n",
    "        print(\"{} => Topic : {}\".format(key, value))\n",
    "\n"
   ]
  },
  {
   "cell_type": "code",
   "execution_count": 37,
   "metadata": {},
   "outputs": [
    {
     "name": "stdout",
     "output_type": "stream",
     "text": [
      "<class 'dict'>\n",
      "booth1 => Topic : AI Demo\n",
      "booth2 => Topic : Visualization Tools Demo\n",
      "booth3 => Topic : ETL Tools Demo\n"
     ]
    }
   ],
   "source": [
    "getEventDetails(booth1='AI Demo', booth2='Visualization Tools Demo', booth3='ETL Tools Demo')"
   ]
  }
 ],
 "metadata": {
  "kernelspec": {
   "display_name": "Python 3",
   "language": "python",
   "name": "python3"
  },
  "language_info": {
   "codemirror_mode": {
    "name": "ipython",
    "version": 3
   },
   "file_extension": ".py",
   "mimetype": "text/x-python",
   "name": "python",
   "nbconvert_exporter": "python",
   "pygments_lexer": "ipython3",
   "version": "3.12.5"
  }
 },
 "nbformat": 4,
 "nbformat_minor": 2
}
