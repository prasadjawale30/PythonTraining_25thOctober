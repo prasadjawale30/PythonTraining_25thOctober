{
 "cells": [
  {
   "cell_type": "code",
   "execution_count": 5,
   "metadata": {},
   "outputs": [],
   "source": [
    "# Errors are problems in a program that causes the program to stop its execution.\n",
    "\n",
    "# 1. Syntax Errors\n",
    "   # Syntax issues => missing identations, missing language syntax, missing command\n",
    "   # Compiler can detect such issues\n",
    "\n",
    "# 2. Logical Errors (Exceptions)\n",
    "   # Logical => Exceptions\n",
    "\n",
    "\n",
    "   # An exception is an event that occurs during the execution of a program that disrupts the normal flow of instructions. \n",
    "   # It is a runtime error that can cause a program to terminate if not handled properly.\n",
    "\n",
    "   # Exception Types :\n",
    "\n",
    "   # 1. Inbuilt Exceptions \n",
    "\n",
    "      # ZeroDivisionError\n",
    "      # ValueError\n",
    "      # MemoryError\n",
    "      # NameError\n",
    "      # SyntaxError\n",
    "      # IndexError\n",
    "      # KeyError\n",
    "      # RunTimeException\n",
    "      # ReferenceException\n",
    "\n",
    "\n",
    "   # 2. Custom Exceptions\n",
    "\n"
   ]
  },
  {
   "cell_type": "markdown",
   "metadata": {},
   "source": [
    "##### Syntax Errors"
   ]
  },
  {
   "cell_type": "code",
   "execution_count": null,
   "metadata": {},
   "outputs": [],
   "source": [
    "# initialize a variable\n",
    "x = 10\n",
    "\n",
    "# invalid condition check \n",
    "if(x == 10)\n",
    "    print(\"Values are equal\")"
   ]
  },
  {
   "cell_type": "code",
   "execution_count": null,
   "metadata": {},
   "outputs": [],
   "source": [
    "# initialize a variable\n",
    "x = 10\n",
    "\n",
    "# invalid indentation \n",
    "if (x == 10):\n",
    "print(\"Values are equal\")"
   ]
  },
  {
   "cell_type": "markdown",
   "metadata": {},
   "source": [
    "##### Exceptions"
   ]
  },
  {
   "cell_type": "code",
   "execution_count": 1,
   "metadata": {},
   "outputs": [
    {
     "ename": "ZeroDivisionError",
     "evalue": "division by zero",
     "output_type": "error",
     "traceback": [
      "\u001b[1;31m---------------------------------------------------------------------------\u001b[0m",
      "\u001b[1;31mZeroDivisionError\u001b[0m                         Traceback (most recent call last)",
      "Cell \u001b[1;32mIn[1], line 4\u001b[0m\n\u001b[0;32m      1\u001b[0m num1 \u001b[38;5;241m=\u001b[39m \u001b[38;5;241m10\u001b[39m\n\u001b[0;32m      2\u001b[0m num2 \u001b[38;5;241m=\u001b[39m \u001b[38;5;241m0\u001b[39m\n\u001b[1;32m----> 4\u001b[0m \u001b[38;5;28mprint\u001b[39m(\u001b[43mnum1\u001b[49m\u001b[38;5;241;43m/\u001b[39;49m\u001b[43mnum2\u001b[49m)\n",
      "\u001b[1;31mZeroDivisionError\u001b[0m: division by zero"
     ]
    }
   ],
   "source": [
    "num1 = 10\n",
    "num2 = 0\n",
    "\n",
    "print(num1/num2)"
   ]
  },
  {
   "cell_type": "code",
   "execution_count": null,
   "metadata": {},
   "outputs": [],
   "source": [
    "# Exception Raised => Handling (Exception Handling)\n",
    "# try.....except  blocks are used to handle the exceptions\n",
    "# try => put the piece of code that generates exception in try\n",
    "# except => logic to handle it or the fallback logic"
   ]
  },
  {
   "cell_type": "code",
   "execution_count": 6,
   "metadata": {},
   "outputs": [
    {
     "name": "stdout",
     "output_type": "stream",
     "text": [
      "Line1\n",
      "1.0\n",
      "Line2\n",
      "Exception occured\n"
     ]
    }
   ],
   "source": [
    "num1 = 10\n",
    "num2 = 10\n",
    "\n",
    "try:\n",
    "    print(\"Line1\")\n",
    "    print(num1/num2) # ZeroDivisionError\n",
    "    print(\"Line2\")\n",
    "    myfile = open(\"testfile.txt\") \n",
    "except:\n",
    "    print(\"Exception occured\")"
   ]
  },
  {
   "cell_type": "code",
   "execution_count": null,
   "metadata": {},
   "outputs": [
    {
     "name": "stdout",
     "output_type": "stream",
     "text": [
      "1.0\n"
     ]
    },
    {
     "ename": "FileNotFoundError",
     "evalue": "[Errno 2] No such file or directory: 'testfile.txt'",
     "output_type": "error",
     "traceback": [
      "\u001b[1;31m---------------------------------------------------------------------------\u001b[0m",
      "\u001b[1;31mFileNotFoundError\u001b[0m                         Traceback (most recent call last)",
      "Cell \u001b[1;32mIn[8], line 6\u001b[0m\n\u001b[0;32m      4\u001b[0m \u001b[38;5;28;01mtry\u001b[39;00m:\n\u001b[0;32m      5\u001b[0m     \u001b[38;5;28mprint\u001b[39m(num1\u001b[38;5;241m/\u001b[39mnum2)\n\u001b[1;32m----> 6\u001b[0m     myfile \u001b[38;5;241m=\u001b[39m \u001b[38;5;28;43mopen\u001b[39;49m\u001b[43m(\u001b[49m\u001b[38;5;124;43m\"\u001b[39;49m\u001b[38;5;124;43mtestfile.txt\u001b[39;49m\u001b[38;5;124;43m\"\u001b[39;49m\u001b[43m)\u001b[49m \n\u001b[0;32m      7\u001b[0m \u001b[38;5;28;01mexcept\u001b[39;00m(\u001b[38;5;167;01mZeroDivisionError\u001b[39;00m):\n\u001b[0;32m      8\u001b[0m     \u001b[38;5;28mprint\u001b[39m(\u001b[38;5;124m\"\u001b[39m\u001b[38;5;124mException occured\u001b[39m\u001b[38;5;124m\"\u001b[39m)\n",
      "File \u001b[1;32mc:\\Users\\HP\\PycharmProjects\\PythonTraining\\.venv\\Lib\\site-packages\\IPython\\core\\interactiveshell.py:324\u001b[0m, in \u001b[0;36m_modified_open\u001b[1;34m(file, *args, **kwargs)\u001b[0m\n\u001b[0;32m    317\u001b[0m \u001b[38;5;28;01mif\u001b[39;00m file \u001b[38;5;129;01min\u001b[39;00m {\u001b[38;5;241m0\u001b[39m, \u001b[38;5;241m1\u001b[39m, \u001b[38;5;241m2\u001b[39m}:\n\u001b[0;32m    318\u001b[0m     \u001b[38;5;28;01mraise\u001b[39;00m \u001b[38;5;167;01mValueError\u001b[39;00m(\n\u001b[0;32m    319\u001b[0m         \u001b[38;5;124mf\u001b[39m\u001b[38;5;124m\"\u001b[39m\u001b[38;5;124mIPython won\u001b[39m\u001b[38;5;124m'\u001b[39m\u001b[38;5;124mt let you open fd=\u001b[39m\u001b[38;5;132;01m{\u001b[39;00mfile\u001b[38;5;132;01m}\u001b[39;00m\u001b[38;5;124m by default \u001b[39m\u001b[38;5;124m\"\u001b[39m\n\u001b[0;32m    320\u001b[0m         \u001b[38;5;124m\"\u001b[39m\u001b[38;5;124mas it is likely to crash IPython. If you know what you are doing, \u001b[39m\u001b[38;5;124m\"\u001b[39m\n\u001b[0;32m    321\u001b[0m         \u001b[38;5;124m\"\u001b[39m\u001b[38;5;124myou can use builtins\u001b[39m\u001b[38;5;124m'\u001b[39m\u001b[38;5;124m open.\u001b[39m\u001b[38;5;124m\"\u001b[39m\n\u001b[0;32m    322\u001b[0m     )\n\u001b[1;32m--> 324\u001b[0m \u001b[38;5;28;01mreturn\u001b[39;00m \u001b[43mio_open\u001b[49m\u001b[43m(\u001b[49m\u001b[43mfile\u001b[49m\u001b[43m,\u001b[49m\u001b[43m \u001b[49m\u001b[38;5;241;43m*\u001b[39;49m\u001b[43margs\u001b[49m\u001b[43m,\u001b[49m\u001b[43m \u001b[49m\u001b[38;5;241;43m*\u001b[39;49m\u001b[38;5;241;43m*\u001b[39;49m\u001b[43mkwargs\u001b[49m\u001b[43m)\u001b[49m\n",
      "\u001b[1;31mFileNotFoundError\u001b[0m: [Errno 2] No such file or directory: 'testfile.txt'"
     ]
    }
   ],
   "source": [
    "num1 = 10\n",
    "num2 = 10\n",
    "\n",
    "try:\n",
    "    print(num1/num2)\n",
    "except(ZeroDivisionError):\n",
    "    print(\"Exception occured\")"
   ]
  },
  {
   "cell_type": "code",
   "execution_count": null,
   "metadata": {},
   "outputs": [],
   "source": [
    "try:\n",
    "    myfile = open(\"testfile.txt\")  # File might not exist \n",
    "    myfile.read()\n",
    "    myfile.close()\n",
    "    myfile.read()   # ValueError, file is already closed\n",
    "except (FileNotFoundError, ValueError):\n",
    "    print(\"File is not avalable or it is closed\")\n",
    "    "
   ]
  },
  {
   "cell_type": "code",
   "execution_count": 15,
   "metadata": {},
   "outputs": [
    {
     "name": "stdout",
     "output_type": "stream",
     "text": [
      "Some other exception <class 'FileNotFoundError'>\n"
     ]
    }
   ],
   "source": [
    "try:\n",
    "    10/0\n",
    "    myfile = open(\"testfile1.txt\")\n",
    "    myfile.read()\n",
    "    myfile.close()\n",
    "    myfile.read()   # ValueError, file is already closed\n",
    "except FileNotFoundError:\n",
    "    print(\"File is not available\")\n",
    "except ValueError:\n",
    "    print(\"File is closed, please open it to read\")\n",
    "except ZeroDivisionError as e:\n",
    "    print(\"Some other exception\", e.__class__)    \n"
   ]
  },
  {
   "cell_type": "code",
   "execution_count": null,
   "metadata": {},
   "outputs": [],
   "source": [
    "num1 = 10\n",
    "num2 = 0\n",
    "try:\n",
    "    myfile = open(\"testfile.txt\")\n",
    "    myfile.read()\n",
    "    myfile.close()\n",
    "    num1/num2\n",
    "    #myfile.read()   # ValueError, file is already closed\n",
    "except FileNotFoundError:\n",
    "    print(\"File is not available\")\n",
    "except ValueError:\n",
    "    print(\"File is closed, please open it to read\")\n",
    "except ZeroDivisionError:\n",
    "    print(\"Improper division\")"
   ]
  },
  {
   "cell_type": "code",
   "execution_count": null,
   "metadata": {},
   "outputs": [],
   "source": [
    "num1 = 10\n",
    "num2 = 0\n",
    "try:\n",
    "    myfile = open(\"testfile.txt\")\n",
    "    myfile.read()\n",
    "    myfile.close()\n",
    "    num1/num2\n",
    "    #myfile.read()   # ValueError, file is already closed\n",
    "except FileNotFoundError:\n",
    "    print(\"File is not available\")\n",
    "except ValueError:\n",
    "    print(\"File is closed, please open it to read\")\n",
    "except:    #generic exception handler\n",
    "    print(\"Exception occured\")"
   ]
  },
  {
   "cell_type": "code",
   "execution_count": null,
   "metadata": {},
   "outputs": [],
   "source": [
    "num1 = 10\n",
    "num2 = 0\n",
    "try:\n",
    "    myfile = open(\"testfile.txt\")\n",
    "    myfile.read()\n",
    "    myfile.close()\n",
    "    num1/num2\n",
    "    #myfile.read()   # ValueError, file is already closed\n",
    "except FileNotFoundError:\n",
    "    print(\"File is not available\")\n",
    "except ValueError:\n",
    "    print(\"File is closed, please open it to read\")\n",
    "except Exception as e:   #generic exception handler\n",
    "    print(\"Exception occured\", e.__class__)"
   ]
  },
  {
   "cell_type": "code",
   "execution_count": 12,
   "metadata": {},
   "outputs": [
    {
     "ename": "ZeroDivisionError",
     "evalue": "division by zero",
     "output_type": "error",
     "traceback": [
      "\u001b[1;31m---------------------------------------------------------------------------\u001b[0m",
      "\u001b[1;31mZeroDivisionError\u001b[0m                         Traceback (most recent call last)",
      "Cell \u001b[1;32mIn[12], line 5\u001b[0m\n\u001b[0;32m      2\u001b[0m num2 \u001b[38;5;241m=\u001b[39m \u001b[38;5;241m0\u001b[39m\n\u001b[0;32m      4\u001b[0m \u001b[38;5;28;01mtry\u001b[39;00m:\n\u001b[1;32m----> 5\u001b[0m     \u001b[38;5;28mprint\u001b[39m(\u001b[43mnum1\u001b[49m\u001b[38;5;241;43m/\u001b[39;49m\u001b[43mnum2\u001b[49m)\n\u001b[0;32m      6\u001b[0m \u001b[38;5;28;01mexcept\u001b[39;00m \u001b[38;5;167;01mValueError\u001b[39;00m:\n\u001b[0;32m      7\u001b[0m     \u001b[38;5;28mprint\u001b[39m(\u001b[38;5;124m\"\u001b[39m\u001b[38;5;124mException occured\u001b[39m\u001b[38;5;124m\"\u001b[39m)\n",
      "\u001b[1;31mZeroDivisionError\u001b[0m: division by zero"
     ]
    }
   ],
   "source": [
    "num1 = 10\n",
    "num2 = 0\n",
    "\n",
    "try:\n",
    "    print(num1/num2)\n",
    "except ValueError:\n",
    "    print(\"Exception occured\")\n"
   ]
  },
  {
   "cell_type": "code",
   "execution_count": null,
   "metadata": {},
   "outputs": [],
   "source": [
    "num1 = 10\n",
    "num2 = 0\n",
    "try:\n",
    "    myfile = open(\"testfile.txt\")\n",
    "    myfile.read()\n",
    "    myfile.close()\n",
    "    myfile.read()   # ValueError, file is already closed\n",
    "except Exception as e:   #generic exception handler\n",
    "    print(\"Exception occured\", e.__class__)\n",
    "except FileNotFoundError:\n",
    "    print(\"File is not available\")\n",
    "except ValueError:\n",
    "    print(\"File is closed, please open it to read\")\n"
   ]
  },
  {
   "cell_type": "code",
   "execution_count": 18,
   "metadata": {},
   "outputs": [
    {
     "name": "stdout",
     "output_type": "stream",
     "text": [
      "File is closed, please open it to read\n"
     ]
    }
   ],
   "source": [
    "# try..except...else\n",
    "\n",
    "try:\n",
    "    myfile = open(\"testfile.txt\")\n",
    "    myfile.read()\n",
    "    myfile.close()\n",
    "    myfile.read()   # ValueError, file is already closed\n",
    "except FileNotFoundError:\n",
    "    print(\"File is not available\")\n",
    "except ValueError:\n",
    "    print(\"File is closed, please open it to read\")\n",
    "else:  # called when there is no exception\n",
    "    print(\"File processed\")\n"
   ]
  },
  {
   "cell_type": "code",
   "execution_count": null,
   "metadata": {},
   "outputs": [],
   "source": [
    "# try..except...finally\n",
    "# finally => it executes irrespective of whether there is any exception or not\n",
    "# cleaning up of the resources, closing db, file connections\n",
    "\n",
    "try:\n",
    "    myfile = open(\"testfile.txt\")\n",
    "    myfile.read()\n",
    "except FileNotFoundError:\n",
    "    print(\"File is not available\")\n",
    "except ValueError:\n",
    "    print(\"File is closed, please open it to read\")\n",
    "finally:\n",
    "    print(\"cleaning the resources\")\n",
    "    myfile.close()  # closing the file"
   ]
  },
  {
   "cell_type": "code",
   "execution_count": null,
   "metadata": {},
   "outputs": [],
   "source": [
    "# try..except...else...finally\n",
    "\n",
    "try:\n",
    "    myfile = open(\"testfile.txt\")\n",
    "    myfile.read()\n",
    "    #myfile.read()   # ValueError, file is already closed\n",
    "except FileNotFoundError:\n",
    "    print(\"File is not available\")\n",
    "except ValueError:\n",
    "    print(\"File is closed, please open it to read\")\n",
    "else:  # called when there is no exception\n",
    "    print(\"File processed\")\n",
    "finally: # called always\n",
    "    print(\"cleaning the resources\")\n",
    "    myfile.close()  # closing the file"
   ]
  },
  {
   "cell_type": "code",
   "execution_count": null,
   "metadata": {},
   "outputs": [],
   "source": [
    "# Combinations of try..except...else...finally\n",
    "# try is always mandatory\n",
    "\n",
    "try:\n",
    "    #stateemnt\n",
    "except:\n",
    "    # statements\n",
    "    \n",
    "    \n",
    "try:\n",
    "    #stateemnt\n",
    "finally:\n",
    "    # statements    \n",
    "    \n",
    "    \n",
    "try:\n",
    "    #stateemnt\n",
    "else:\n",
    "    # statements\n",
    "    \n",
    "    \n",
    "try:\n",
    "    #stateemnt\n",
    "finally:\n",
    "    # statements   \n",
    "else:\n",
    "    # statements\n",
    "\n",
    "    \n",
    "try:\n",
    "    #stateemnt\n",
    "except:\n",
    "    # statements\n",
    "finally:\n",
    "    # statements   "
   ]
  }
 ],
 "metadata": {
  "kernelspec": {
   "display_name": ".venv",
   "language": "python",
   "name": "python3"
  },
  "language_info": {
   "codemirror_mode": {
    "name": "ipython",
    "version": 3
   },
   "file_extension": ".py",
   "mimetype": "text/x-python",
   "name": "python",
   "nbconvert_exporter": "python",
   "pygments_lexer": "ipython3",
   "version": "3.12.5"
  }
 },
 "nbformat": 4,
 "nbformat_minor": 2
}
