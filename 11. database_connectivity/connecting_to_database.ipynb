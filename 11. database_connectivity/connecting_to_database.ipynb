{
 "cells": [
  {
   "attachments": {
    "image.png": {
     "image/png": "[encoded data removed]"
    }
   },
   "cell_type": "markdown",
   "metadata": {},
   "source": [
    "Database Adapters for different databases. \n",
    "We will be using oracle adapters- \n",
    "\n",
    "\n",
    "![image.png](attachment:image.png)"
   ]
  },
  {
   "cell_type": "code",
   "execution_count": null,
   "metadata": {},
   "outputs": [],
   "source": [
    "# Install Oracle Database plugin on your system/remote machine\n",
    "\n",
    "# Install the cx_Oracle connector api\n",
    "\n",
    "    # python -m pip install cx_Oracle --upgrade\n",
    "    # import cx_Oracle\n",
    "\n",
    "\n",
    "# To Connect \n",
    "\n",
    "    ## Way -1 \n",
    "       # dsn_tns = cx_Oracle.makedsn('localhost', '1522', service_name='infa') # if needed, place an 'r' before any parameter in order to address special characters such as '\\'.\n",
    "       # conn = cx_Oracle.connect(user='system', password='Training1234', dsn=dsn_tns) # if needed, place an 'r' before any parameter in order to address special characters such as '\\'. For example, if your user name contains '\\', you'll need to place 'r' before the user name: user=r'User Name'\n",
    "\n",
    "\n",
    "    ## Way -2\n",
    "        # con = cx_Oracle.connect(\"system/Training1234@infa\")\n",
    "        \n",
    "# Note: check tnsnames.ora file for connection related information\n",
    "    #File Location - C:\\app\\Rahul\\product\\11.2.0\\dbhome_2\\NETWORK\\ADMIN\n",
    "    \n",
    "## Docs    \n",
    "    # https://cx-oracle.readthedocs.io/en/latest/user_guide/sql_execution.html\n",
    "    # https://cx-oracle.readthedocs.io/en/latest/api_manual/cursor.html\n",
    "    # https://cx-oracle.readthedocs.io/en/latest/user_guide/bind.html"
   ]
  },
  {
   "cell_type": "code",
   "execution_count": null,
   "metadata": {},
   "outputs": [],
   "source": [
    "# Install MySQL Database plugin on your system/remote machine\n",
    "\n",
    "# python -m pip install mysql-connector-python\n",
    "# import mysql.connector\n",
    "# from mysql.connector import Error\n",
    "\n",
    "# conn = mysql.connector.connect(host='localhost', database='bankdb', user='root', password='root')\n",
    "\n",
    "\n",
    "\n",
    "# To uninstall\n",
    "# pip uninstall mysql-connector-python\n"
   ]
  },
  {
   "cell_type": "code",
   "execution_count": 1,
   "metadata": {},
   "outputs": [
    {
     "name": "stdout",
     "output_type": "stream",
     "text": [
      "('bankdb',)\n",
      "('information_schema',)\n",
      "('mysql',)\n",
      "('performance_schema',)\n",
      "('sakila',)\n",
      "('sys',)\n",
      "('testdb',)\n",
      "('world',)\n"
     ]
    }
   ],
   "source": [
    "# Show databases in MySQL database \n",
    "\n",
    "\n",
    "import mysql.connector\n",
    "from mysql.connector import Error\n",
    "\n",
    "\n",
    "try: \n",
    "  \n",
    "    # Step 1 - Get the connection object\n",
    "    con = mysql.connector.connect(host='localhost', database='bankdb', user='root', password='root')\n",
    "      \n",
    "    # Step 2- From connection object get the cursor    \n",
    "    cursor = con.cursor() \n",
    "      \n",
    "    # Step -3 Execute the query using the cursor object\n",
    "    cursor.execute(\"show databases\")\n",
    "\n",
    "    for databse_name in cursor:\n",
    "\t    print(databse_name) \n",
    "      \n",
    "except Error as e: \n",
    "    print(\"Exception Raised while connecting - \", e) \n",
    "    #emailAPI\n",
    "    #sms\n",
    "    #slack/messaging api\n",
    "  \n",
    "\n",
    "#finally: \n",
    "    if cursor: \n",
    "        cursor.close() \n",
    "    if con: \n",
    "        con.close()"
   ]
  },
  {
   "cell_type": "code",
   "execution_count": null,
   "metadata": {},
   "outputs": [],
   "source": [
    "import mysql.connector\n",
    "from mysql.connector import Error\n",
    "\n",
    "\n",
    "# Create a table in MySQL database \n",
    "\n",
    "import mysql.connector\n",
    "from mysql.connector import Error\n",
    "\n",
    "\n",
    "try: \n",
    "  \n",
    "    # Step 1 - Get the connection object\n",
    "    con = mysql.connector.connect(host='localhost', database='bankdb', user='root', password='root')\n",
    "      \n",
    "    # Step 2- From connection object get the cursor    \n",
    "    cursor = con.cursor() \n",
    "      \n",
    "    # Step -3 Execute the query using the cursor object\n",
    "    cursor.execute(\"create database bankdb\")\n",
    "\n",
    "    print(\"Database Created Successfully\") \n",
    "                      \n",
    "      \n",
    "except Error as e: \n",
    "    print(\"Exception Raised while connecting - \", e) \n",
    "    #emailAPI\n",
    "    #sms\n",
    "    #slack/messaging api\n",
    "  \n",
    "\n",
    "finally: \n",
    "    if cursor: \n",
    "        cursor.close() \n",
    "    if con: \n",
    "        con.close() \n",
    "      \n",
    "\n"
   ]
  },
  {
   "cell_type": "code",
   "execution_count": null,
   "metadata": {},
   "outputs": [
    {
     "ename": "",
     "evalue": "",
     "output_type": "error",
     "traceback": [
      "\u001b[1;31mThe Kernel crashed while executing code in the current cell or a previous cell. \n",
      "\u001b[1;31mPlease review the code in the cell(s) to identify a possible cause of the failure. \n",
      "\u001b[1;31mClick <a href='https://aka.ms/vscodeJupyterKernelCrash'>here</a> for more info. \n",
      "\u001b[1;31mView Jupyter <a href='command:jupyter.viewOutput'>log</a> for further details."
     ]
    }
   ],
   "source": [
    "# Create a table in MySQL database \n",
    "\n",
    "import mysql.connector\n",
    "from mysql.connector import Error\n",
    "\n",
    "\n",
    "try: \n",
    "  \n",
    "    # Step 1 - Get the connection object\n",
    "    con = mysql.connector.connect(host='localhost', database='bankdb', user='root', password='root')\n",
    "      \n",
    "    # Step 2- From connection object get the cursor    \n",
    "    cursor = con.cursor() \n",
    "      \n",
    "    # Step -3 Execute the query using the cursor object\n",
    "    cursor.execute(\"create table login(userid varchar(16), password varchar2(10), isadmin tinyint(1))\") \n",
    "                      \n",
    "    print(\"Table Created successful\") \n",
    "      \n",
    "except Error as e: \n",
    "    print(\"Exception Raised while connecting - \", e) \n",
    "    #emailAPI\n",
    "    #sms\n",
    "    #slack/messaging api\n",
    "  \n",
    "\n",
    "finally: \n",
    "    if cursor: \n",
    "        cursor.close() \n",
    "    if con: \n",
    "        con.close() \n",
    "      \n",
    "\n"
   ]
  },
  {
   "cell_type": "code",
   "execution_count": null,
   "metadata": {},
   "outputs": [],
   "source": []
  },
  {
   "cell_type": "code",
   "execution_count": 3,
   "metadata": {},
   "outputs": [
    {
     "name": "stdout",
     "output_type": "stream",
     "text": [
      "Table Created successful\n"
     ]
    }
   ],
   "source": [
    "# Create a table in Oracle database \n",
    "\n",
    "import cx_Oracle\n",
    "\n",
    "try: \n",
    "  \n",
    "    # Step 1 - Get the connection object\n",
    "    con = cx_Oracle.connect(\"system/Training1234@infa\") \n",
    "      \n",
    "    # Step 2- From connection object get the cursor    \n",
    "    cursor = con.cursor() \n",
    "      \n",
    "    # Step -3 Execute the query using the cursor object\n",
    "    cursor.execute(\"create table studtest(roll number, name varchar2(10), class number(10, 2))\") \n",
    "                      \n",
    "    print(\"Table Created successful\") \n",
    "      \n",
    "except cx_Oracle.DatabaseError as e: \n",
    "    print(\"Exception Raised while connecting - \", e) \n",
    "    #emailAPI\n",
    "    #sms\n",
    "    #slack/messaging api\n",
    "  \n",
    "\n",
    "finally: \n",
    "    if cursor: \n",
    "        cursor.close() \n",
    "    if con: \n",
    "        con.close() "
   ]
  },
  {
   "cell_type": "code",
   "execution_count": 6,
   "metadata": {},
   "outputs": [
    {
     "name": "stdout",
     "output_type": "stream",
     "text": [
      "Record Inserted Successfully\n"
     ]
    }
   ],
   "source": [
    "# Insert data into the table \n",
    "\n",
    "import cx_Oracle \n",
    "  \n",
    "try: \n",
    "  \n",
    "    con = cx_Oracle.connect('system/Training1234@infa') \n",
    "      \n",
    "    # Now execute the sqlquery \n",
    "    cursor = con.cursor() \n",
    "    cursor.execute(\"insert into studtest values(12349,  'Raj', 12000)\") \n",
    "      \n",
    "    # commit the inserted data \n",
    "    con.commit() \n",
    "      \n",
    "    print(\"Record Inserted Successfully\") \n",
    "  \n",
    "except cx_Oracle.DatabaseError as e: \n",
    "    print(\"Insertion failed due to problem - \", e) \n",
    "  \n",
    "finally: \n",
    "    if cursor: \n",
    "        cursor.close() \n",
    "    if con: \n",
    "        con.close() "
   ]
  },
  {
   "cell_type": "code",
   "execution_count": 8,
   "metadata": {},
   "outputs": [
    {
     "name": "stdout",
     "output_type": "stream",
     "text": [
      "Roll= 12347 Name= Ramesh Class= 13000.0\n",
      "Roll= 12348 Name= Ram Class= 12000.0\n",
      "Roll= 12349 Name= Raj Class= 12000.0\n"
     ]
    }
   ],
   "source": [
    "import cx_Oracle \n",
    "  \n",
    "try: \n",
    "  \n",
    "    con = cx_Oracle.connect('system/Training1234@infa') \n",
    "      \n",
    "    # Now execute the sqlquery \n",
    "    cursor = con.cursor() \n",
    "    cursor.execute('select * from studtest') \n",
    "    resultset = cursor.fetchall()\n",
    "    #print(resultset)\n",
    "    for r in resultset:\n",
    "        print(\"Roll=\", r[0] ,\"Name=\", r[1], \"Class=\", r[2])\n",
    "  \n",
    "except cx_Oracle.DatabaseError as e: \n",
    "    print(\"Problem reported while fetching the records - \", e) \n",
    "  \n",
    "finally: \n",
    "    if cursor: \n",
    "        cursor.close() \n",
    "    if con: \n",
    "        con.close() "
   ]
  },
  {
   "cell_type": "code",
   "execution_count": 11,
   "metadata": {},
   "outputs": [
    {
     "name": "stdout",
     "output_type": "stream",
     "text": [
      "(12348, 'Ram', 12000.0)\n"
     ]
    }
   ],
   "source": [
    "import cx_Oracle \n",
    "  \n",
    "try: \n",
    "  \n",
    "    con = cx_Oracle.connect('system/Training1234@infa') \n",
    "      \n",
    "    # Now execute the sqlquery \n",
    "    cursor = con.cursor() \n",
    "    cursor.execute('select * from studtest where class=12000') \n",
    "    resultset = cursor.fetchone()\n",
    "    print(resultset)\n",
    "    #for r in resultset:\n",
    "    #    print(r)\n",
    "  \n",
    "except cx_Oracle.DatabaseError as e: \n",
    "    print(\"Problem reported while fetching the records - \", e) \n",
    "  \n",
    "finally: \n",
    "    if cursor: \n",
    "        cursor.close() \n",
    "    if con: \n",
    "        con.close() "
   ]
  },
  {
   "cell_type": "code",
   "execution_count": 18,
   "metadata": {},
   "outputs": [
    {
     "name": "stdout",
     "output_type": "stream",
     "text": [
      "('Tushar', 1)\n"
     ]
    }
   ],
   "source": [
    "import cx_Oracle \n",
    "  \n",
    "try: \n",
    "  \n",
    "    con = cx_Oracle.connect('system/Training1234@infa') \n",
    "      \n",
    "    # Now execute the sqlquery \n",
    "    cursor = con.cursor() \n",
    "    cursor.execute(\"select * from logintest where isadmin=1 and name = 'Tushar'\") \n",
    "    resultset = cursor.fetchone()\n",
    "    print(resultset)\n",
    "    #for r in resultset:\n",
    "    #    print(r)\n",
    "  \n",
    "except cx_Oracle.DatabaseError as e: \n",
    "    print(\"Problem reported while fetching the records - \", e) \n",
    "  \n",
    "finally: \n",
    "    if cursor: \n",
    "        cursor.close() \n",
    "    if con: \n",
    "        con.close() "
   ]
  },
  {
   "cell_type": "code",
   "execution_count": 21,
   "metadata": {},
   "outputs": [
    {
     "name": "stdout",
     "output_type": "stream",
     "text": [
      "[(12347, 'Ramesh', 13000.0)]\n"
     ]
    }
   ],
   "source": [
    "import cx_Oracle \n",
    "  \n",
    "try: \n",
    "  \n",
    "    con = cx_Oracle.connect('system/Training1234@infa') \n",
    "      \n",
    "    # Now execute the sqlquery \n",
    "    cursor = con.cursor() \n",
    "    cursor.execute('select * from studtest') \n",
    "    resultset = cursor.fetchmany(1)\n",
    "    print(resultset)\n",
    "    #for r in resultset:\n",
    "     #   print(r)\n",
    "  \n",
    "except cx_Oracle.DatabaseError as e: \n",
    "    print(\"Problem reported while fetching the records - \", e) \n",
    "  \n",
    "finally: \n",
    "    if cursor: \n",
    "        cursor.close() \n",
    "    if con: \n",
    "        con.close() "
   ]
  },
  {
   "cell_type": "code",
   "execution_count": 22,
   "metadata": {},
   "outputs": [
    {
     "name": "stdout",
     "output_type": "stream",
     "text": [
      "(12348, 'Ram', 12000.0)\n",
      "12348\n",
      "Ram\n",
      "12000.0\n"
     ]
    }
   ],
   "source": [
    "# Select using bind variables\n",
    "\n",
    "import cx_Oracle \n",
    "  \n",
    "try: \n",
    "  \n",
    "    con = cx_Oracle.connect('system/Training1234@infa') \n",
    "      \n",
    "    # Now execute the sqlquery \n",
    "    cursor = con.cursor() \n",
    "    cursor.execute('select * from studtest where roll = :roll', roll=12348) \n",
    "    resultset = cursor.fetchone()\n",
    "    print(resultset)\n",
    "    for r in resultset:\n",
    "        print(r)\n",
    "  \n",
    "except cx_Oracle.DatabaseError as e: \n",
    "    print(\"Problem reported while fetching the records - \", e) \n",
    "  \n",
    "finally: \n",
    "    if cursor: \n",
    "        cursor.close() \n",
    "    if con: \n",
    "        con.close() "
   ]
  },
  {
   "cell_type": "code",
   "execution_count": 28,
   "metadata": {},
   "outputs": [
    {
     "name": "stdout",
     "output_type": "stream",
     "text": [
      "Insertion failed due to problem -  ORA-00911: invalid character\n"
     ]
    }
   ],
   "source": [
    "# Fetching the column metadata \n",
    "\n",
    "import cx_Oracle \n",
    "\n",
    "sqlquery = \"select * from studtest\"\n",
    "\n",
    "try: \n",
    "    connection = cx_Oracle.connect(\"system/Training1234@infa\")\n",
    "    cursor = connection.cursor()\n",
    "    cursor.execute(sqlquery)\n",
    "    for column in cursor.description:\n",
    "        print(column)\n",
    "        \n",
    "except cx_Oracle.DatabaseError as e: \n",
    "    print(\"Insertion failed due to problem - \", e) \n",
    "  \n",
    "finally: \n",
    "    if cursor: \n",
    "        cursor.close() \n",
    "    if con: \n",
    "        connection.close() "
   ]
  },
  {
   "cell_type": "code",
   "execution_count": null,
   "metadata": {},
   "outputs": [],
   "source": [
    "#SQL Queries with JOINS\n"
   ]
  },
  {
   "cell_type": "code",
   "execution_count": 26,
   "metadata": {},
   "outputs": [
    {
     "name": "stdout",
     "output_type": "stream",
     "text": [
      "Problem reported while fetching the records -  ORA-00942: table or view does not exist\n"
     ]
    }
   ],
   "source": [
    "\n",
    "## Invalid SQL Query (Donot End the query with semi-colon - ;)\n",
    "\n",
    "import cx_Oracle \n",
    "  \n",
    "try: \n",
    "  \n",
    "    con = cx_Oracle.connect('system/Training1234@infa') \n",
    "      \n",
    "    # Now execute the sqlquery \n",
    "    cursor = con.cursor() \n",
    "    cursor.execute(\n",
    "'select c.customer_id, c.customer_name, a.account_number, b.branch_name,  a.ifsc_code '\n",
    "                       'from login_detail l inner join account_detail a on l.account_number = a.account_number '\n",
    "                       'inner join customer_info c on a.customer_id = c.customer_id inner join branch_detail b '\n",
    "                       'on a.ifsc_code = b.ifsc_code where l.username = :username;', username='12348') \n",
    "    resultset = cursor.fetchone()\n",
    "    print(resultset)\n",
    "    for r in resultset:\n",
    "        print(r)\n",
    "  \n",
    "except cx_Oracle.DatabaseError as e: \n",
    "    print(\"Problem reported while fetching the records - \", e) \n",
    "  \n",
    "finally: \n",
    "    if cursor: \n",
    "        cursor.close() \n",
    "    if con: \n",
    "        con.close()\n"
   ]
  },
  {
   "cell_type": "markdown",
   "metadata": {},
   "source": [
    "## Understanding SQL Injection in Python"
   ]
  },
  {
   "cell_type": "raw",
   "metadata": {},
   "source": [
    "A SQL injection attack is a method of inserting or “injecting” a SQL query via the input data (from the client to the application) in order to effect the execution of predefined SQL commands and execute malicious SQL statements. \n",
    "\n",
    "A successful SQL injection exploit can - \n",
    "1. read sensitive data from the database, \n",
    "2. modify database data (Insert/Update/Delete), \n",
    "3. execute administration operations on the database (such as shutdown the DBMS), \n",
    "4. recover the content of a given file present on the DBMS file system and \n",
    "5. in some cases issue commands to the operating system. \n"
   ]
  },
  {
   "cell_type": "code",
   "execution_count": 30,
   "metadata": {},
   "outputs": [
    {
     "name": "stdout",
     "output_type": "stream",
     "text": [
      "Table Created successful\n"
     ]
    }
   ],
   "source": [
    "# Create a table in Oracle database \n",
    "\n",
    "import cx_Oracle\n",
    "\n",
    "try: \n",
    "  \n",
    "    # Step 1 - Get the connection object\n",
    "    con = cx_Oracle.connect(\"system/Training1234@infa\") \n",
    "      \n",
    "    # Step 2- From connection object get the cursor    \n",
    "    cursor = con.cursor() \n",
    "      \n",
    "    # Step -3 Execute the query using the cursor object\n",
    "    cursor.execute(\"create table loginuser(username varchar2(30), password varchar2(20), isadmin number(1))\") \n",
    "                      \n",
    "    print(\"Table Created successful\") \n",
    "      \n",
    "except cx_Oracle.DatabaseError as e: \n",
    "    print(\"Exception Raised while connecting - \", e) \n",
    "    #emailAPI\n",
    "    #sms\n",
    "    #slack/messaging api\n",
    "  \n",
    "\n",
    "finally: \n",
    "    if cursor: \n",
    "        cursor.close() \n",
    "    if con: \n",
    "        con.close() "
   ]
  },
  {
   "cell_type": "code",
   "execution_count": 32,
   "metadata": {},
   "outputs": [
    {
     "name": "stdout",
     "output_type": "stream",
     "text": [
      "Record Inserted Successfully\n"
     ]
    }
   ],
   "source": [
    "# Insert data into the table \n",
    "\n",
    "import cx_Oracle \n",
    "  \n",
    "try: \n",
    "  \n",
    "    con = cx_Oracle.connect('system/Training1234@infa') \n",
    "      \n",
    "    # Now execute the sqlquery \n",
    "    cursor = con.cursor() \n",
    "    cursor.execute(\"insert into loginuser values('admin',  'admin', 1)\") \n",
    "      \n",
    "    # commit the inserted data \n",
    "    con.commit() \n",
    "      \n",
    "    print(\"Record Inserted Successfully\") \n",
    "  \n",
    "except cx_Oracle.DatabaseError as e: \n",
    "    print(\"Insertion failed due to problem - \", e) \n",
    "  \n",
    "finally: \n",
    "    if cursor: \n",
    "        cursor.close() \n",
    "    if con: \n",
    "        con.close() "
   ]
  },
  {
   "cell_type": "code",
   "execution_count": 33,
   "metadata": {},
   "outputs": [
    {
     "name": "stdout",
     "output_type": "stream",
     "text": [
      "Record Inserted Successfully\n"
     ]
    }
   ],
   "source": [
    "# Insert data into the table \n",
    "\n",
    "import cx_Oracle \n",
    "  \n",
    "try: \n",
    "  \n",
    "    con = cx_Oracle.connect('system/Training1234@infa') \n",
    "      \n",
    "    # Now execute the sqlquery \n",
    "    cursor = con.cursor() \n",
    "    cursor.execute(\"insert into loginuser values('user',  'user', 0)\") \n",
    "      \n",
    "    # commit the inserted data \n",
    "    con.commit() \n",
    "      \n",
    "    print(\"Record Inserted Successfully\") \n",
    "  \n",
    "except cx_Oracle.DatabaseError as e: \n",
    "    print(\"Insertion failed due to problem - \", e) \n",
    "  \n",
    "finally: \n",
    "    if cursor: \n",
    "        cursor.close() \n",
    "    if con: \n",
    "        con.close() "
   ]
  },
  {
   "cell_type": "code",
   "execution_count": 35,
   "metadata": {},
   "outputs": [
    {
     "name": "stdout",
     "output_type": "stream",
     "text": [
      "admin\n",
      "admin\n"
     ]
    }
   ],
   "source": [
    "import cx_Oracle \n",
    "\n",
    "username ='admin'\n",
    "password = 'admin'\n",
    "try: \n",
    "  \n",
    "    con = cx_Oracle.connect('system/Training1234@infa') \n",
    "      \n",
    "    # Now execute the sqlquery \n",
    "    cursor = con.cursor() \n",
    "    cursor.execute(\"\"\"select username, password from loginuser where username = '%s' and password = '%s'\"\"\" % (username,password) )\n",
    "    resultset = cursor.fetchone()\n",
    "    \n",
    "    #print(resultset[0])\n",
    "    \n",
    "    if resultset is None:\n",
    "        print(\"User not found\")\n",
    "    else:\n",
    "        for r in resultset:\n",
    "            print(r)\n",
    "  \n",
    "except cx_Oracle.DatabaseError as e: \n",
    "    print(\"Problem reported while fetching the records - \", e) \n",
    "  \n",
    "finally: \n",
    "    if cursor: \n",
    "        cursor.close() \n",
    "    if con: \n",
    "        con.close() "
   ]
  },
  {
   "cell_type": "code",
   "execution_count": 41,
   "metadata": {},
   "outputs": [
    {
     "name": "stdout",
     "output_type": "stream",
     "text": [
      "select username, password from loginuser where username = 'admin' and password = 'admin1' OR 1=1 --'\n",
      "('admin', 'admin')\n",
      "admin\n",
      "admin\n"
     ]
    }
   ],
   "source": [
    "import cx_Oracle \n",
    "\n",
    "username ='admin'\n",
    "password =  \"admin1' OR 1=1 --\"\n",
    "try: \n",
    "  \n",
    "    con = cx_Oracle.connect('system/Training1234@infa') \n",
    "      \n",
    "    # Now execute the sqlquery \n",
    "    cursor = con.cursor() \n",
    "    sql = \"\"\"select username, password from loginuser where username = '%s' and password = '%s'\"\"\" % (username,password)\n",
    "    print(sql)\n",
    "    cursor.execute(sql)\n",
    "    resultset = cursor.fetchone()\n",
    "    \n",
    "    if resultset is None:\n",
    "        print(\"User not found\")\n",
    "    else:\n",
    "        print(resultset)\n",
    "        for r in resultset:\n",
    "            print(r)\n",
    "  \n",
    "except cx_Oracle.DatabaseError as e: \n",
    "    print(\"Problem reported while fetching the records - \", e) \n",
    "  \n",
    "finally: \n",
    "    if cursor: \n",
    "        cursor.close() \n",
    "    if con: \n",
    "        con.close() "
   ]
  },
  {
   "cell_type": "code",
   "execution_count": 49,
   "metadata": {},
   "outputs": [
    {
     "name": "stdout",
     "output_type": "stream",
     "text": [
      "select username from loginuser where username = ''; update loginuser set isadmin = 0 where username = 'admin'; --'\n"
     ]
    },
    {
     "ename": "DatabaseError",
     "evalue": "ORA-00911: invalid character",
     "output_type": "error",
     "traceback": [
      "\u001b[1;31m---------------------------------------------------------------------------\u001b[0m",
      "\u001b[1;31mDatabaseError\u001b[0m                             Traceback (most recent call last)",
      "\u001b[1;32m<ipython-input-49-32f7e960cfe9>\u001b[0m in \u001b[0;36m<module>\u001b[1;34m\u001b[0m\n\u001b[0;32m     11\u001b[0m     \u001b[0msql\u001b[0m \u001b[1;33m=\u001b[0m \u001b[1;34m\"select username from loginuser where username = '%s'\"\u001b[0m \u001b[1;33m%\u001b[0m \u001b[0musername\u001b[0m\u001b[1;33m\u001b[0m\u001b[1;33m\u001b[0m\u001b[0m\n\u001b[0;32m     12\u001b[0m     \u001b[0mprint\u001b[0m\u001b[1;33m(\u001b[0m\u001b[0msql\u001b[0m\u001b[1;33m)\u001b[0m\u001b[1;33m\u001b[0m\u001b[1;33m\u001b[0m\u001b[0m\n\u001b[1;32m---> 13\u001b[1;33m     \u001b[0mcursor\u001b[0m\u001b[1;33m.\u001b[0m\u001b[0mexecute\u001b[0m\u001b[1;33m(\u001b[0m\u001b[0msql\u001b[0m\u001b[1;33m)\u001b[0m\u001b[1;33m\u001b[0m\u001b[1;33m\u001b[0m\u001b[0m\n\u001b[0m\u001b[0;32m     14\u001b[0m     \u001b[0mresultset\u001b[0m \u001b[1;33m=\u001b[0m \u001b[0mcursor\u001b[0m\u001b[1;33m.\u001b[0m\u001b[0mfetchone\u001b[0m\u001b[1;33m(\u001b[0m\u001b[1;33m)\u001b[0m\u001b[1;33m\u001b[0m\u001b[1;33m\u001b[0m\u001b[0m\n\u001b[0;32m     15\u001b[0m \u001b[1;33m\u001b[0m\u001b[0m\n",
      "\u001b[1;31mDatabaseError\u001b[0m: ORA-00911: invalid character"
     ]
    }
   ],
   "source": [
    "import cx_Oracle \n",
    "\n",
    "username =\"'; update loginuser set isadmin = 0 where username = 'admin'; --\"\n",
    "password =  \"';update loginuser set isadmin = 0 where username = 'admin'; --\"\n",
    "try: \n",
    "  \n",
    "    con = cx_Oracle.connect('system/Training1234@infa') \n",
    "      \n",
    "    # Now execute the sqlquery \n",
    "    cursor = con.cursor() \n",
    "    sql = \"select username from loginuser where username = '%s'\" % username\n",
    "    print(sql)\n",
    "    cursor.execute(sql)\n",
    "    resultset = cursor.fetchone()\n",
    "    \n",
    "    if resultset is None:           # if \n",
    "        print(\"User not found\")\n",
    "    else:\n",
    "        print(resultset)\n",
    "        for r in resultset:\n",
    "            print(r)\n",
    "  \n",
    "    # Just IF \n",
    "    #if resultset is not None:   \n",
    "    #    print(resultset)\n",
    "    #    for r in resultset:\n",
    "    #        print(r)\n",
    "            \n",
    "#except cx_Oracle.DatabaseError as e: \n",
    "#    print(\"Problem reported while fetching the records - \", e) \n",
    "  \n",
    "finally: \n",
    "    if cursor: \n",
    "        cursor.close() \n",
    "    if con: \n",
    "        con.close() "
   ]
  },
  {
   "cell_type": "markdown",
   "metadata": {},
   "source": [
    "## How to Prevent against SQL Injection Attacks\n",
    "\n",
    "An organization can adopt the following policy to protect itself against SQL Injection attacks.\n",
    "\n",
    "\n",
    "#### User input should never be trusted \n",
    "It must always be sanitized before it is used in dynamic SQL statements.\n",
    "\n",
    "#### Stored procedures \n",
    "These can encapsulate the SQL statements and treat all input as parameters.\n",
    "\n",
    "#### Prepared statements \n",
    "Prepared statements to work by creating the SQL statement first then treating all submitted user data as parameters. This has no effect on the syntax of the SQL statement.\n",
    "\n",
    "#### Regular expressions \n",
    "These can be used to detect potential harmful code and remove it before executing the SQL statements.\n",
    "\n",
    "#### Database connection user access rights \n",
    "Only necessary access rights should be given to accounts used to connect to the database. This can help reduce what the SQL statements can perform on the server.\n",
    "\n",
    "#### Error messages \n",
    "These should not reveal sensitive information and where exactly an error occurred. Simple custom error messages such as “Sorry, we are experiencing technical errors. The technical team has been contacted. Please try again later” can be used instead of display the SQL statements that caused the error."
   ]
  },
  {
   "cell_type": "markdown",
   "metadata": {},
   "source": [
    "### Automation Tools for SQL Injection\n",
    "\n",
    "There are automated tools that can help you perform the attacks more efficiently and within the shortest possible time. \n",
    "\n",
    "##### SQLSmack \n",
    "https://securiteam.com/tools/5GP081P75C\n",
    "\n",
    "##### SQLPing 2 \n",
    "http://www.sqlsecurity.com/downloads/sqlping2.zip?attredirects=0&d=1\n",
    "\n",
    "##### SQLMap \n",
    "http://sqlmap.org/"
   ]
  },
  {
   "cell_type": "code",
   "execution_count": null,
   "metadata": {},
   "outputs": [],
   "source": []
  },
  {
   "cell_type": "code",
   "execution_count": null,
   "metadata": {},
   "outputs": [],
   "source": []
  }
 ],
 "metadata": {
  "kernelspec": {
   "display_name": "base",
   "language": "python",
   "name": "python3"
  },
  "language_info": {
   "codemirror_mode": {
    "name": "ipython",
    "version": 3
   },
   "file_extension": ".py",
   "mimetype": "text/x-python",
   "name": "python",
   "nbconvert_exporter": "python",
   "pygments_lexer": "ipython3",
   "version": "3.12.4"
  }
 },
 "nbformat": 4,
 "nbformat_minor": 2
}
