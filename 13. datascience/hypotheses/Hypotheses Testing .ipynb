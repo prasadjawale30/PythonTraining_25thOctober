{
 "cells": [
  {
   "cell_type": "code",
   "execution_count": 6,
   "metadata": {},
   "outputs": [],
   "source": [
    "import pandas as pd"
   ]
  },
  {
   "cell_type": "code",
   "execution_count": 7,
   "metadata": {},
   "outputs": [
    {
     "name": "stdout",
     "output_type": "stream",
     "text": [
      "    ID  TRT  AGE  WEIGHIN  STAGE  TOTALCIN  TOTALCW2  TOTALCW4 TOTALCW6\n",
      "0    1    0   52    124.0      2         6         6         6        7\n",
      "1    5    0   77    160.0      1         9         6        10        9\n",
      "2    6    0   60    136.5      4         7         9        17       19\n",
      "3    9    0   61    179.6      1         6         7         9        3\n",
      "4   11    0   59    175.8      2         6         7        16       13\n",
      "5   15    0   69    167.6      1         6         6         6       11\n",
      "6   21    0   67    186.0      1         6        11        11       10\n",
      "7   26    0   56    158.0      3         6        11        15       15\n",
      "8   31    0   61    212.8      1         6         9         6        8\n",
      "9   35    0   51    189.0      1         6         4         8        7\n",
      "10  39    0   46    149.0      4         7         8        11       11\n",
      "11  41    0   65    157.0      1         6         6         9        6\n",
      "12  45    0   67    186.0      1         8         8         9       10\n",
      "13   2    0   46    163.8      2         7        16         9       10\n",
      "14  12    1   56    227.2      4         6        10        11        9\n",
      "15  14    1   42    162.6      1         4         6         8        7\n",
      "16  16    1   44    261.4      2         6        11        11       14\n",
      "17  22    1   27    225.4      1         6         7         6        6\n",
      "18  24    1   68    226.0      4        12        11        12        9\n",
      "19  34    1   77    164.0      2         5         7        13       12\n",
      "20  37    1   86    140.0      1         6         7         7        7\n",
      "21  42    1   73    181.5      0         8        11        16        .\n",
      "22  44    1   67    187.0      1         5         7         7        7\n",
      "23  50    1   60    164.0      2         6         8        16        .\n",
      "24  58    1   54    172.8      4         7         8        10        8\n"
     ]
    }
   ],
   "source": [
    "dataset = pd.read_excel(\"1 Wilcoxon.xlsx\", sheet_name=0)\n",
    "print(dataset)"
   ]
  },
  {
   "cell_type": "code",
   "execution_count": 8,
   "metadata": {},
   "outputs": [
    {
     "name": "stdout",
     "output_type": "stream",
     "text": [
      "0    6\n",
      "1    9\n",
      "2    7\n",
      "3    6\n",
      "4    6\n",
      "Name: TOTALCIN, dtype: int64\n",
      "0    6\n",
      "1    6\n",
      "2    9\n",
      "3    7\n",
      "4    7\n",
      "Name: TOTALCW2, dtype: int64\n"
     ]
    }
   ],
   "source": [
    "# H0 -> There is no significant difference of calcium level in the patient intially and after 2 weeks   m1=m2\n",
    "# HA -> There is significant difference of calcium level in the patient intially and after 2 weeks      m1<>m2\n",
    "\n",
    "d1 = dataset.TOTALCIN   #initial calcium concentration\n",
    "d2 = dataset.TOTALCW2   # calcium conc. after 2 weeks\n",
    "print(d1.head())\n",
    "print(d2.head())"
   ]
  },
  {
   "cell_type": "code",
   "execution_count": 5,
   "metadata": {},
   "outputs": [],
   "source": [
    "# SCIPY  (WILCOXON SIGN TEST)\n",
    "\n",
    "from scipy.stats import wilcoxon   # importing wilcoxon sign test api"
   ]
  },
  {
   "cell_type": "code",
   "execution_count": 6,
   "metadata": {},
   "outputs": [
    {
     "name": "stdout",
     "output_type": "stream",
     "text": [
      "WilcoxonResult(statistic=29.5, pvalue=0.00259741456482452)\n"
     ]
    }
   ],
   "source": [
    "p = wilcoxon(d1, d2)\n",
    "print(p)"
   ]
  },
  {
   "cell_type": "code",
   "execution_count": null,
   "metadata": {},
   "outputs": [],
   "source": [
    "# p-value is < 0.05, we reject the NULL hypothesis\n",
    "# we accept the alternate hypotheses\n",
    "\n",
    "# HA -> There is significant difference of calcium level in the patient intially and after 2 weeks\n"
   ]
  },
  {
   "cell_type": "code",
   "execution_count": null,
   "metadata": {},
   "outputs": [
    {
     "name": "stdout",
     "output_type": "stream",
     "text": [
      "   ID  TRT  AGE  WEIGHIN  STAGE  TOTALCIN  TOTALCW2  TOTALCW4 TOTALCW6\n",
      "0   1    0   52    124.0      2         6         6         6        7\n",
      "1   5    0   77    160.0      1         9         6        10        9\n",
      "2   6    0   60    136.5      4         7         9        17       19\n",
      "3   9    0   61    179.6      1         6         7         9        3\n",
      "4  11    0   59    175.8      2         6         7        16       13\n",
      "FriedmanchisquareResult(statistic=27.927710843373504, pvalue=8.62133745016363e-07)\n"
     ]
    }
   ],
   "source": [
    "# FRIEDMAN TEST (More than 2 paired samples)\n",
    "\n",
    "from scipy.stats import friedmanchisquare\n",
    "\n",
    "dataset = pd.read_excel(\"2 Friedman.xlsx\", sheet_name=0)\n",
    "print(dataset.head())\n",
    "\n",
    "d1 = dataset.TOTALCIN   #initial calcium concentration\n",
    "d2 = dataset.TOTALCW2   # calcium conc. after 2 weeks\n",
    "d3 = dataset.TOTALCW4   # calcium conc. after 4 weeks\n",
    "\n",
    "p = friedmanchisquare(d1, d2, d3)\n",
    "print(p)"
   ]
  },
  {
   "cell_type": "code",
   "execution_count": 3,
   "metadata": {},
   "outputs": [
    {
     "name": "stdout",
     "output_type": "stream",
     "text": [
      "   Design1  Design2\n",
      "0       11       12\n",
      "1       17       10\n",
      "2       16       15\n",
      "3       14       19\n",
      "4       15       11\n",
      "MannwhitneyuResult(statistic=16.0, pvalue=0.5283593272709488)\n"
     ]
    }
   ],
   "source": [
    "# MAN-WHITNEY TEST (2 independent samples)\n",
    "# H0 : Desgn1 and 2 are almost same\n",
    "# HA : They are different \n",
    "\n",
    "from scipy.stats import mannwhitneyu\n",
    "\n",
    "dataset = pd.read_excel(\"3 Mann Whitney.xlsx\", sheet_name=1)\n",
    "print(dataset.head())\n",
    "\n",
    "d1 = dataset.Design1   #design 1\n",
    "d2 = dataset.Design2   #design 2\n",
    "\n",
    "p = mannwhitneyu(d1, d2)\n",
    "print(p)"
   ]
  },
  {
   "cell_type": "code",
   "execution_count": null,
   "metadata": {},
   "outputs": [
    {
     "name": "stdout",
     "output_type": "stream",
     "text": [
      "   Design1  Design2  Design3\n",
      "0       11       12        6\n",
      "1       17       10        8\n",
      "2       16       15       10\n",
      "3       14       19        2\n",
      "4       15       11       10\n",
      "KruskalResult(statistic=9.057039711191344, pvalue=0.010796644845236254)\n"
     ]
    }
   ],
   "source": [
    "\n",
    "# KRUSKAL WALLIS TEST (more than 2 independent samples)\n",
    "# H0 : Desgn1 and 2 are almost same\n",
    "# HA : They are different \n",
    "\n",
    "from scipy.stats import kruskal\n",
    "\n",
    "dataset = pd.read_excel(\"4 Kruskal Wallis.xlsx\", sheet_name=1)\n",
    "print(dataset.head())\n",
    "\n",
    "d1 = dataset.Design1   #design 1\n",
    "d2 = dataset.Design2   #design 2\n",
    "d3 = dataset.Design3   #design 3\n",
    "\n",
    "p = kruskal(d1, d2,d3)\n",
    "print(p)"
   ]
  },
  {
   "cell_type": "code",
   "execution_count": 9,
   "metadata": {},
   "outputs": [
    {
     "name": "stdout",
     "output_type": "stream",
     "text": [
      "TtestResult(statistic=11.498800238580099, pvalue=1.087893570160242e-26, df=407)\n"
     ]
    }
   ],
   "source": [
    "# One sample t- test (Sample vs population mean)\n",
    "\n",
    "from scipy.stats import ttest_1samp\n",
    "\n",
    "dataset = pd.read_excel(\"1. One Sample.xlsx\", sheet_name=0)\n",
    "dataset = dataset.dropna()\n",
    "height = dataset.Height\n",
    "\n",
    "p = ttest_1samp(height, 65)\n",
    "print(p)"
   ]
  },
  {
   "cell_type": "code",
   "execution_count": 5,
   "metadata": {},
   "outputs": [
    {
     "name": "stdout",
     "output_type": "stream",
     "text": [
      "TtestResult(statistic=36.312568981719856, pvalue=3.0710987192210606e-128, df=397)\n"
     ]
    }
   ],
   "source": [
    "# Two sample paired t- test \n",
    "\n",
    "from scipy.stats import ttest_rel\n",
    "\n",
    "dataset = pd.read_excel(\"2. Paired Sample.xlsx\", sheet_name=0)\n",
    "dataset = dataset.dropna()\n",
    "e = dataset.English\n",
    "m = dataset.Math\n",
    "\n",
    "p = ttest_rel(e, m)\n",
    "print(p)"
   ]
  },
  {
   "cell_type": "code",
   "execution_count": 21,
   "metadata": {},
   "outputs": [
    {
     "name": "stdout",
     "output_type": "stream",
     "text": [
      "Ttest_indResult(statistic=13.368790432137319, pvalue=7.116633157230895e-33)\n"
     ]
    }
   ],
   "source": [
    "# Two sample Independent t- test \n",
    "\n",
    "from scipy.stats import ttest_ind\n",
    "\n",
    "dataset = pd.read_excel(\"D:\\\\DS\\\\3. Independent Sample.xlsx\", sheet_name=1)\n",
    "dataset = dataset.dropna()\n",
    "e = dataset.NonAthlete\n",
    "m = dataset.Athlete\n",
    "\n",
    "p = ttest_ind(e, m)\n",
    "print(p)"
   ]
  },
  {
   "cell_type": "code",
   "execution_count": null,
   "metadata": {},
   "outputs": [],
   "source": []
  }
 ],
 "metadata": {
  "kernelspec": {
   "display_name": "base",
   "language": "python",
   "name": "python3"
  },
  "language_info": {
   "codemirror_mode": {
    "name": "ipython",
    "version": 3
   },
   "file_extension": ".py",
   "mimetype": "text/x-python",
   "name": "python",
   "nbconvert_exporter": "python",
   "pygments_lexer": "ipython3",
   "version": "3.12.4"
  }
 },
 "nbformat": 4,
 "nbformat_minor": 2
}
