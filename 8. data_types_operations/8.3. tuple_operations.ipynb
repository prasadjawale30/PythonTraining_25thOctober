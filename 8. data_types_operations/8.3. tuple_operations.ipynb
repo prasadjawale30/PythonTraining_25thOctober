{
 "cells": [
  {
   "cell_type": "code",
   "execution_count": 21,
   "metadata": {},
   "outputs": [
    {
     "name": "stdout",
     "output_type": "stream",
     "text": [
      "<class 'tuple'>\n"
     ]
    }
   ],
   "source": [
    "# creating an empty tuple \n",
    "cityList = ()\n",
    "print(type(cityList))"
   ]
  },
  {
   "cell_type": "code",
   "execution_count": 28,
   "metadata": {},
   "outputs": [
    {
     "name": "stdout",
     "output_type": "stream",
     "text": [
      "<class 'tuple'>\n",
      "('Pune',)\n"
     ]
    }
   ],
   "source": [
    "# Single item tuple\n",
    "cityTuple = ('Pune',)\n",
    "print(type(cityTuple))\n",
    "print(cityTuple)"
   ]
  },
  {
   "cell_type": "code",
   "execution_count": 2,
   "metadata": {},
   "outputs": [
    {
     "name": "stdout",
     "output_type": "stream",
     "text": [
      "<class 'tuple'>\n",
      "('Pune', 'Mumbai', 'Nagpur', '')\n"
     ]
    }
   ],
   "source": [
    "# creating a tuple with items\n",
    "cityTuple = ('Pune', 'Mumbai','Nagpur','')\n",
    "print(type(cityTuple))\n",
    "print(cityTuple)"
   ]
  },
  {
   "cell_type": "code",
   "execution_count": 20,
   "metadata": {},
   "outputs": [
    {
     "name": "stdout",
     "output_type": "stream",
     "text": [
      "<class 'tuple'>\n",
      "('Ramesh', 1001, 'Pune', True)\n"
     ]
    },
    {
     "ename": "IndexError",
     "evalue": "tuple index out of range",
     "output_type": "error",
     "traceback": [
      "\u001b[1;31m---------------------------------------------------------------------------\u001b[0m",
      "\u001b[1;31mIndexError\u001b[0m                                Traceback (most recent call last)",
      "Cell \u001b[1;32mIn[20], line 6\u001b[0m\n\u001b[0;32m      3\u001b[0m \u001b[38;5;28mprint\u001b[39m(\u001b[38;5;28mtype\u001b[39m(candidateInfo))\n\u001b[0;32m      4\u001b[0m \u001b[38;5;28mprint\u001b[39m(candidateInfo)\n\u001b[1;32m----> 6\u001b[0m \u001b[43mcandidateInfo\u001b[49m\u001b[43m[\u001b[49m\u001b[38;5;241;43m4\u001b[39;49m\u001b[43m]\u001b[49m\n",
      "\u001b[1;31mIndexError\u001b[0m: tuple index out of range"
     ]
    }
   ],
   "source": [
    "# creating a list with items\n",
    "candidateInfo = ('Ramesh', 1001, 'Pune', True)\n",
    "print(type(candidateInfo))\n",
    "print(candidateInfo)\n",
    "\n",
    "candidateInfo[4]"
   ]
  },
  {
   "cell_type": "code",
   "execution_count": 4,
   "metadata": {},
   "outputs": [
    {
     "name": "stdout",
     "output_type": "stream",
     "text": [
      "4\n"
     ]
    }
   ],
   "source": [
    "# Length of list\n",
    "length = len(candidateInfo)\n",
    "print(length)"
   ]
  },
  {
   "cell_type": "code",
   "execution_count": 5,
   "metadata": {},
   "outputs": [
    {
     "name": "stdout",
     "output_type": "stream",
     "text": [
      "Ramesh\n",
      "1001\n",
      "Pune\n",
      "True\n",
      "True\n"
     ]
    }
   ],
   "source": [
    "# Accessing the list item\n",
    "print(candidateInfo[0]) # First item\n",
    "print(candidateInfo[1])\n",
    "print(candidateInfo[2])\n",
    "print(candidateInfo[3])  # Last Item\n",
    "print(candidateInfo[length-1]) #Last item\n",
    "\n"
   ]
  },
  {
   "cell_type": "code",
   "execution_count": 7,
   "metadata": {},
   "outputs": [
    {
     "name": "stdout",
     "output_type": "stream",
     "text": [
      "<class 'tuple'>\n",
      "('Ramesh', 1001, 'Pune', True, ('ML', 'AI', 'Robotics'))\n",
      "Ramesh\n",
      "1001\n",
      "Pune\n",
      "True\n",
      "('ML', 'AI', 'Robotics')\n",
      "<class 'tuple'>\n",
      "ML\n",
      "AI\n",
      "Robotics\n"
     ]
    }
   ],
   "source": [
    "# Nested Tuple\n",
    "candidateInfo = ('Ramesh', 1001, 'Pune', True, ('ML', 'AI', 'Robotics'))\n",
    "print(type(candidateInfo))\n",
    "print(candidateInfo)\n",
    "length = len(candidateInfo)\n",
    "\n",
    "# Accessing the list item\n",
    "print(candidateInfo[0]) # First item\n",
    "print(candidateInfo[1])\n",
    "print(candidateInfo[2])\n",
    "print(candidateInfo[3]) \n",
    "print(candidateInfo[length-1]) #Last item\n",
    "\n",
    "specializations = candidateInfo[length-1] # Getting the nested list\n",
    "print(type(specializations))\n",
    "print(specializations[0])\n",
    "print(specializations[1])\n",
    "print(specializations[2])"
   ]
  },
  {
   "cell_type": "code",
   "execution_count": 9,
   "metadata": {},
   "outputs": [
    {
     "name": "stdout",
     "output_type": "stream",
     "text": [
      "<class 'tuple'>\n",
      "('Ramesh', 1001, 'Pune', True, ('ML', 'AI', 'Robotics'))\n",
      "('ML', 'AI', 'Robotics')\n",
      "(1001, 'Pune')\n",
      "(1001, 'Pune')\n",
      "<class 'tuple'>\n",
      "(1001, 'Pune', True, ('ML', 'AI', 'Robotics'))\n",
      "('Ramesh', 1001, 'Pune', True)\n",
      "('Ramesh', 1001, 'Pune', True, ('ML', 'AI', 'Robotics'))\n",
      "('Ramesh', 1001, 'Pune', True, ('ML', 'AI', 'Robotics'))\n",
      "Robotics\n",
      "('Ramesh',)\n",
      "('Ramesh', ('ML', 'AI', 'Robotics'))\n",
      "(('ML', 'AI', 'Robotics'),)\n",
      "('ML', 'AI', 'Robotics')\n",
      "('ML', 'AI', 'Robotics')\n"
     ]
    }
   ],
   "source": [
    "# Slicing => [start:end:step] => defaults => start: 0, end : length, step : 1\n",
    "\n",
    "candidateInfo = ('Ramesh', 1001, 'Pune', True, ('ML', 'AI', 'Robotics'))\n",
    "print(type(candidateInfo))\n",
    "print(candidateInfo)\n",
    "length = len(candidateInfo)\n",
    "\n",
    "print(candidateInfo[-1]) # Last element\n",
    "print(candidateInfo[1:3:1])\n",
    "print(candidateInfo[1:3])\n",
    "print(type(candidateInfo[1:3]))\n",
    "print(candidateInfo[1:])\n",
    "print(candidateInfo[:4]) # start : 0  end: 4  step : 1\n",
    "print(candidateInfo[:]) # 0:5:1\n",
    "print(candidateInfo[::]) # 0:5:1\n",
    "print(candidateInfo[-1][-1])\n",
    "print(candidateInfo[0:4:4])\n",
    "print(candidateInfo[0:5:4])\n",
    "print(candidateInfo[4:5:4]) # list[list] \n",
    "print((candidateInfo[4:5:4])[-1])\n",
    "print((candidateInfo[4:5:4])[0])"
   ]
  },
  {
   "cell_type": "code",
   "execution_count": 11,
   "metadata": {},
   "outputs": [
    {
     "ename": "AttributeError",
     "evalue": "'tuple' object has no attribute 'append'",
     "output_type": "error",
     "traceback": [
      "\u001b[1;31m---------------------------------------------------------------------------\u001b[0m",
      "\u001b[1;31mAttributeError\u001b[0m                            Traceback (most recent call last)",
      "Cell \u001b[1;32mIn[11], line 11\u001b[0m\n\u001b[0;32m      9\u001b[0m \u001b[38;5;66;03m# add identity mark to the list at the end\u001b[39;00m\n\u001b[0;32m     10\u001b[0m id_mark \u001b[38;5;241m=\u001b[39m \u001b[38;5;124m'\u001b[39m\u001b[38;5;124mMole in index finger of right hand\u001b[39m\u001b[38;5;124m'\u001b[39m\n\u001b[1;32m---> 11\u001b[0m \u001b[43mcandidateInfo\u001b[49m\u001b[38;5;241;43m.\u001b[39;49m\u001b[43mappend\u001b[49m(id_mark)\n\u001b[0;32m     12\u001b[0m \u001b[38;5;28mprint\u001b[39m(candidateInfo)\n",
      "\u001b[1;31mAttributeError\u001b[0m: 'tuple' object has no attribute 'append'"
     ]
    }
   ],
   "source": [
    "# Mutability : ability to change/modify  => NOT SUPPORTED\n",
    "\n",
    "# name, id, city, isCertified, list of certifications\n",
    "candidateInfo = ('Ramesh', 1001, 'Pune', True, ['ML', 'AI', 'Robotics'])\n",
    "\n",
    "# adding the combined score of certification\n",
    "score = 140.5\n",
    "candidateInfo.insert(4, score)\n",
    "print(candidateInfo)\n",
    "\n",
    "\n",
    "# add identity mark to the list at the end\n",
    "id_mark = 'Mole in index finger of right hand'\n",
    "candidateInfo.append(id_mark)\n",
    "print(candidateInfo)"
   ]
  },
  {
   "cell_type": "code",
   "execution_count": 12,
   "metadata": {},
   "outputs": [
    {
     "name": "stdout",
     "output_type": "stream",
     "text": [
      "Ramesh\n",
      "1001\n",
      "Pune\n",
      "True\n",
      "['ML', 'AI', 'Robotics']\n"
     ]
    }
   ],
   "source": [
    "for item in candidateInfo:\n",
    "    print(item)"
   ]
  },
  {
   "cell_type": "code",
   "execution_count": 14,
   "metadata": {},
   "outputs": [
    {
     "name": "stdout",
     "output_type": "stream",
     "text": [
      "Item Found. Removing the item.....\n"
     ]
    },
    {
     "ename": "AttributeError",
     "evalue": "'tuple' object has no attribute 'remove'",
     "output_type": "error",
     "traceback": [
      "\u001b[1;31m---------------------------------------------------------------------------\u001b[0m",
      "\u001b[1;31mAttributeError\u001b[0m                            Traceback (most recent call last)",
      "Cell \u001b[1;32mIn[14], line 11\u001b[0m\n\u001b[0;32m      9\u001b[0m \u001b[38;5;28;01mif\u001b[39;00m item_to_check \u001b[38;5;129;01min\u001b[39;00m candidateInfo:\n\u001b[0;32m     10\u001b[0m     \u001b[38;5;28mprint\u001b[39m(\u001b[38;5;124m\"\u001b[39m\u001b[38;5;124mItem Found. Removing the item.....\u001b[39m\u001b[38;5;124m\"\u001b[39m)\n\u001b[1;32m---> 11\u001b[0m     \u001b[43mcandidateInfo\u001b[49m\u001b[38;5;241;43m.\u001b[39;49m\u001b[43mremove\u001b[49m(item_to_check)\n\u001b[0;32m     13\u001b[0m \u001b[38;5;28mprint\u001b[39m(candidateInfo)\n",
      "\u001b[1;31mAttributeError\u001b[0m: 'tuple' object has no attribute 'remove'"
     ]
    }
   ],
   "source": [
    "# Remove an item from tuple => NOT SUPPORTED\n",
    "# remove()\n",
    "\n",
    "candidateInfo = ('Ramesh', 1001, 'Pune', True, 140.5, 'Aadhaar', '27477474747474', ['ML', 'AI', 'Robotics', 'Generative AI'], 'Mole in index finger of right hand', ['C-Pune City', 'P-Nagpur City'])\n",
    "# check if item is present in the list or not and then remove it.\n",
    "\n",
    "item_to_check = 'Pune'\n",
    "\n",
    "if item_to_check in candidateInfo:\n",
    "    print(\"Item Found. Removing the item.....\")\n",
    "    candidateInfo.remove(item_to_check)\n",
    "\n",
    "print(candidateInfo)\n"
   ]
  },
  {
   "cell_type": "code",
   "execution_count": 16,
   "metadata": {},
   "outputs": [
    {
     "name": "stdout",
     "output_type": "stream",
     "text": [
      "('Ramesh', 1001, 'Pune', True, ['ML', 'AI', 'Robotics'])\n",
      "('Ramesh', 1001, 'Pune', True, ['ML', 'AI', 'Robotics'])\n"
     ]
    },
    {
     "ename": "AttributeError",
     "evalue": "'tuple' object has no attribute 'remove'",
     "output_type": "error",
     "traceback": [
      "\u001b[1;31m---------------------------------------------------------------------------\u001b[0m",
      "\u001b[1;31mAttributeError\u001b[0m                            Traceback (most recent call last)",
      "Cell \u001b[1;32mIn[16], line 11\u001b[0m\n\u001b[0;32m      7\u001b[0m \u001b[38;5;28mprint\u001b[39m(copiedTuple)\n\u001b[0;32m     10\u001b[0m \u001b[38;5;66;03m# Modify the original tuple\u001b[39;00m\n\u001b[1;32m---> 11\u001b[0m \u001b[43mcandidateInfo\u001b[49m\u001b[38;5;241;43m.\u001b[39;49m\u001b[43mremove\u001b[49m(\u001b[38;5;124m\"\u001b[39m\u001b[38;5;124mPune\u001b[39m\u001b[38;5;124m\"\u001b[39m)\n\u001b[0;32m     12\u001b[0m \u001b[38;5;28mprint\u001b[39m(candidateInfo)\n\u001b[0;32m     13\u001b[0m \u001b[38;5;28mprint\u001b[39m(copiedList)\n",
      "\u001b[1;31mAttributeError\u001b[0m: 'tuple' object has no attribute 'remove'"
     ]
    }
   ],
   "source": [
    "# Tuple copy \n",
    "\n",
    "candidateInfo = ('Ramesh', 1001, 'Pune', True, ['ML', 'AI', 'Robotics'])\n",
    "print(candidateInfo)\n",
    "\n",
    "copiedTuple = candidateInfo  # Reference copy of the list\n",
    "print(copiedTuple)\n",
    "\n",
    "\n",
    "# Modify the original tuple\n",
    "candidateInfo.remove(\"Pune\")\n",
    "print(candidateInfo)\n",
    "print(copiedList)\n"
   ]
  },
  {
   "cell_type": "code",
   "execution_count": 17,
   "metadata": {},
   "outputs": [
    {
     "name": "stdout",
     "output_type": "stream",
     "text": [
      "('Ramesh', 1001, 'Pune', True, ['ML', 'AI', 'Robotics'])\n"
     ]
    },
    {
     "ename": "AttributeError",
     "evalue": "'tuple' object has no attribute 'copy'",
     "output_type": "error",
     "traceback": [
      "\u001b[1;31m---------------------------------------------------------------------------\u001b[0m",
      "\u001b[1;31mAttributeError\u001b[0m                            Traceback (most recent call last)",
      "Cell \u001b[1;32mIn[17], line 6\u001b[0m\n\u001b[0;32m      3\u001b[0m candidateInfo \u001b[38;5;241m=\u001b[39m (\u001b[38;5;124m'\u001b[39m\u001b[38;5;124mRamesh\u001b[39m\u001b[38;5;124m'\u001b[39m, \u001b[38;5;241m1001\u001b[39m, \u001b[38;5;124m'\u001b[39m\u001b[38;5;124mPune\u001b[39m\u001b[38;5;124m'\u001b[39m, \u001b[38;5;28;01mTrue\u001b[39;00m, [\u001b[38;5;124m'\u001b[39m\u001b[38;5;124mML\u001b[39m\u001b[38;5;124m'\u001b[39m, \u001b[38;5;124m'\u001b[39m\u001b[38;5;124mAI\u001b[39m\u001b[38;5;124m'\u001b[39m, \u001b[38;5;124m'\u001b[39m\u001b[38;5;124mRobotics\u001b[39m\u001b[38;5;124m'\u001b[39m])\n\u001b[0;32m      4\u001b[0m \u001b[38;5;28mprint\u001b[39m(candidateInfo)\n\u001b[1;32m----> 6\u001b[0m copiedTuple \u001b[38;5;241m=\u001b[39m \u001b[43mcandidateInfo\u001b[49m\u001b[38;5;241;43m.\u001b[39;49m\u001b[43mcopy\u001b[49m()  \u001b[38;5;66;03m# Separate copy of the list\u001b[39;00m\n\u001b[0;32m      7\u001b[0m \u001b[38;5;28mprint\u001b[39m(copiedTuple)\n",
      "\u001b[1;31mAttributeError\u001b[0m: 'tuple' object has no attribute 'copy'"
     ]
    }
   ],
   "source": [
    "# copy() : \n",
    "\n",
    "candidateInfo = ('Ramesh', 1001, 'Pune', True, ['ML', 'AI', 'Robotics'])\n",
    "print(candidateInfo)\n",
    "\n",
    "copiedTuple = candidateInfo.copy()  # Separate copy of the list\n",
    "print(copiedTuple)"
   ]
  },
  {
   "cell_type": "code",
   "execution_count": 18,
   "metadata": {},
   "outputs": [
    {
     "ename": "AttributeError",
     "evalue": "'tuple' object has no attribute 'clear'",
     "output_type": "error",
     "traceback": [
      "\u001b[1;31m---------------------------------------------------------------------------\u001b[0m",
      "\u001b[1;31mAttributeError\u001b[0m                            Traceback (most recent call last)",
      "Cell \u001b[1;32mIn[18], line 1\u001b[0m\n\u001b[1;32m----> 1\u001b[0m \u001b[43mcandidateInfo\u001b[49m\u001b[38;5;241;43m.\u001b[39;49m\u001b[43mclear\u001b[49m()\n",
      "\u001b[1;31mAttributeError\u001b[0m: 'tuple' object has no attribute 'clear'"
     ]
    }
   ],
   "source": [
    "candidateInfo.clear()"
   ]
  },
  {
   "cell_type": "code",
   "execution_count": 19,
   "metadata": {},
   "outputs": [],
   "source": [
    "del candidateInfo\n"
   ]
  }
 ],
 "metadata": {
  "kernelspec": {
   "display_name": "Python 3",
   "language": "python",
   "name": "python3"
  },
  "language_info": {
   "codemirror_mode": {
    "name": "ipython",
    "version": 3
   },
   "file_extension": ".py",
   "mimetype": "text/x-python",
   "name": "python",
   "nbconvert_exporter": "python",
   "pygments_lexer": "ipython3",
   "version": "3.12.5"
  }
 },
 "nbformat": 4,
 "nbformat_minor": 2
}
