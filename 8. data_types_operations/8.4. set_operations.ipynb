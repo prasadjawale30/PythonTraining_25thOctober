{
 "cells": [
  {
   "cell_type": "code",
   "execution_count": 3,
   "metadata": {},
   "outputs": [
    {
     "name": "stdout",
     "output_type": "stream",
     "text": [
      "<class 'set'>\n",
      "set()\n"
     ]
    }
   ],
   "source": [
    "# 1st way : using set() constructor\n",
    "\n",
    "aset = set()\n",
    "print(type(aset))\n",
    "print(aset)"
   ]
  },
  {
   "cell_type": "code",
   "execution_count": 6,
   "metadata": {},
   "outputs": [
    {
     "name": "stdout",
     "output_type": "stream",
     "text": [
      "{1001, 'Pune', True, 'Ramesh'}\n",
      "<class 'set'>\n"
     ]
    }
   ],
   "source": [
    "# 2nd way : creating set with elememts\n",
    "\n",
    "aset = {1001, 'Ramesh', 'Pune', True}\n",
    "print(aset)\n",
    "print(type(aset))"
   ]
  },
  {
   "cell_type": "code",
   "execution_count": 17,
   "metadata": {},
   "outputs": [
    {
     "name": "stdout",
     "output_type": "stream",
     "text": [
      "<class 'set'>\n",
      "set()\n",
      "{1001, 140.5, 'Ramesh', 'True', 'Pune'}\n"
     ]
    }
   ],
   "source": [
    "# Creating as set with 'set()' constructor and adding items to it through 'add()'\n",
    "\n",
    "aset = set()\n",
    "print(type(aset))\n",
    "print(aset)\n",
    "aset.add(1001)\n",
    "aset.add('Ramesh')\n",
    "aset.add('Pune')\n",
    "aset.add('True')\n",
    "aset.add(140.5)\n",
    "aset.add('Pune')\n",
    "aset.add('Pune')\n",
    "\n",
    "print(aset)\n"
   ]
  },
  {
   "cell_type": "code",
   "execution_count": 14,
   "metadata": {},
   "outputs": [
    {
     "name": "stdout",
     "output_type": "stream",
     "text": [
      "5\n"
     ]
    }
   ],
   "source": [
    "length = len(aset)\n",
    "print(length)"
   ]
  },
  {
   "cell_type": "code",
   "execution_count": 15,
   "metadata": {},
   "outputs": [
    {
     "name": "stdout",
     "output_type": "stream",
     "text": [
      "1001\n",
      "140.5\n",
      "Ramesh\n",
      "True\n",
      "Pune\n"
     ]
    }
   ],
   "source": [
    "for item in aset:\n",
    "    print(item)"
   ]
  },
  {
   "cell_type": "code",
   "execution_count": 20,
   "metadata": {},
   "outputs": [
    {
     "name": "stdout",
     "output_type": "stream",
     "text": [
      "{1001, 'Pune', True, 'Ramesh'}\n",
      "<class 'set'>\n",
      "{True, 1001, 140.5, 'Ramesh', 'Pune'}\n",
      "{True, 1001, 140.5, 'Ramesh'}\n"
     ]
    },
    {
     "ename": "KeyError",
     "evalue": "'Pune'",
     "output_type": "error",
     "traceback": [
      "\u001b[1;31m---------------------------------------------------------------------------\u001b[0m",
      "\u001b[1;31mKeyError\u001b[0m                                  Traceback (most recent call last)",
      "Cell \u001b[1;32mIn[20], line 14\u001b[0m\n\u001b[0;32m     12\u001b[0m aset\u001b[38;5;241m.\u001b[39mremove(\u001b[38;5;124m'\u001b[39m\u001b[38;5;124mPune\u001b[39m\u001b[38;5;124m'\u001b[39m)\n\u001b[0;32m     13\u001b[0m \u001b[38;5;28mprint\u001b[39m(aset)\n\u001b[1;32m---> 14\u001b[0m \u001b[43maset\u001b[49m\u001b[38;5;241;43m.\u001b[39;49m\u001b[43mremove\u001b[49m\u001b[43m(\u001b[49m\u001b[38;5;124;43m'\u001b[39;49m\u001b[38;5;124;43mPune\u001b[39;49m\u001b[38;5;124;43m'\u001b[39;49m\u001b[43m)\u001b[49m\n",
      "\u001b[1;31mKeyError\u001b[0m: 'Pune'"
     ]
    }
   ],
   "source": [
    "# Mutability  \n",
    "# add => adds item to the set\n",
    "# remove = > remove an item from set if present else throws an error, KeyError\n",
    "\n",
    "aset = {1001, 'Ramesh', 'Pune', True}\n",
    "print(aset)\n",
    "print(type(aset))\n",
    "aset.add(140.5)\n",
    "print(aset)\n",
    "\n",
    "# remove ()\n",
    "aset.remove('Pune')\n",
    "print(aset)\n",
    "aset.remove('Pune') # error, removing again. use discard() instead\n",
    "\n"
   ]
  },
  {
   "cell_type": "code",
   "execution_count": 25,
   "metadata": {},
   "outputs": [
    {
     "name": "stdout",
     "output_type": "stream",
     "text": [
      "{1001, 'Pune', True, 'Ramesh'}\n",
      "{1001, True, 'Ramesh'}\n",
      "{1001, True, 'Ramesh'}\n"
     ]
    }
   ],
   "source": [
    "# discard => removes the item if present\n",
    "aset = {1001, 'Ramesh', 'Pune', True}\n",
    "print(aset)\n",
    "\n",
    "aset.discard('Pune')\n",
    "print(aset)\n",
    "\n",
    "aset.discard('Pune')\n",
    "print(aset)"
   ]
  },
  {
   "cell_type": "code",
   "execution_count": 34,
   "metadata": {},
   "outputs": [
    {
     "name": "stdout",
     "output_type": "stream",
     "text": [
      "{1001, 'Pune', True, 'Ramesh'}\n",
      "{True, 'Aeronautics', 'Pune', 1001, '12-10-2024', 'Ramesh'}\n",
      "{True, 140.5, 'Aeronautics', 'MH', 'Pune', 1001, '12-10-2024', 'Ramesh'}\n",
      "{True, 'Aeronautics', 'E', 140.5, 'Ramesh', 'MH', 'Pune', 'T', 1001, '12-10-2024', 'S'}\n",
      "{True, 'Aeronautics', 'E', 140.5, 'Ramesh', 'MH', 'Pune', 'T', 1001, '12-10-2024', 'S'}\n",
      "{True, 'Aeronautics', 'E', 140.5, 'Ramesh', 'MH', 'Pune', 'T', 'TEST', 1001, '12-10-2024', 'S'}\n"
     ]
    }
   ],
   "source": [
    "# update() => updates the original set with the given items\n",
    "# It accepts an iterable => string, list, tuple, set, dict\n",
    " \n",
    "\n",
    "aset = {1001, 'Ramesh', 'Pune', True}\n",
    "print(aset)\n",
    "\n",
    "# aset.add('12-10-2024')\n",
    "# aset.add('Aeronautics')\n",
    "\n",
    "temp_set = {'12-10-2024', 'Aeronautics'}\n",
    "aset.update(temp_set)\n",
    "print(aset)\n",
    "\n",
    "temp_list = [140.5, 'MH']\n",
    "aset.update(temp_list)\n",
    "print(aset)\n",
    "\n",
    "aset.update(\"TEST\") #String\n",
    "print(aset)\n",
    "\n",
    "aset.update((\"TEST\")) #String\n",
    "print(aset)\n",
    "\n",
    "aset.update((\"TEST\",)) # Tuple\n",
    "print(aset)\n"
   ]
  },
  {
   "cell_type": "code",
   "execution_count": 35,
   "metadata": {},
   "outputs": [
    {
     "name": "stdout",
     "output_type": "stream",
     "text": [
      "{True, 'Aeronautics', 'E', 140.5, 'Ramesh', 'MH', 'Pune', 'T', 'TEST', 1001, '12-10-2024', 'S'}\n",
      "True\n",
      "{'Aeronautics', 'E', 140.5, 'Ramesh', 'MH', 'Pune', 'T', 'TEST', 1001, '12-10-2024', 'S'}\n"
     ]
    }
   ],
   "source": [
    "# pop\n",
    "print(aset)\n",
    "return_value = aset.pop()\n",
    "print(return_value)\n",
    "print(aset)"
   ]
  },
  {
   "cell_type": "code",
   "execution_count": 36,
   "metadata": {},
   "outputs": [],
   "source": [
    "aset.clear()"
   ]
  },
  {
   "cell_type": "code",
   "execution_count": 37,
   "metadata": {},
   "outputs": [
    {
     "data": {
      "text/plain": [
       "set()"
      ]
     },
     "execution_count": 37,
     "metadata": {},
     "output_type": "execute_result"
    }
   ],
   "source": [
    "aset"
   ]
  },
  {
   "cell_type": "code",
   "execution_count": 38,
   "metadata": {},
   "outputs": [],
   "source": [
    "del aset"
   ]
  },
  {
   "cell_type": "code",
   "execution_count": 39,
   "metadata": {},
   "outputs": [
    {
     "ename": "NameError",
     "evalue": "name 'aset' is not defined",
     "output_type": "error",
     "traceback": [
      "\u001b[1;31m---------------------------------------------------------------------------\u001b[0m",
      "\u001b[1;31mNameError\u001b[0m                                 Traceback (most recent call last)",
      "Cell \u001b[1;32mIn[39], line 1\u001b[0m\n\u001b[1;32m----> 1\u001b[0m \u001b[43maset\u001b[49m\n",
      "\u001b[1;31mNameError\u001b[0m: name 'aset' is not defined"
     ]
    }
   ],
   "source": [
    "aset"
   ]
  },
  {
   "cell_type": "code",
   "execution_count": 42,
   "metadata": {},
   "outputs": [
    {
     "name": "stdout",
     "output_type": "stream",
     "text": [
      "{1001, 'Pune', True, 'Ramesh'}\n",
      "{'Aeronautics', '12-10-2024', 'Ramesh'}\n",
      "{True, 'Aeronautics', 'Pune', 1001, '12-10-2024', 'Ramesh'}\n"
     ]
    }
   ],
   "source": [
    "# UNION OF SETS\n",
    "aset = {1001, 'Ramesh', 'Pune', True}\n",
    "print(aset)\n",
    "\n",
    "temp_set = {'Ramesh', '12-10-2024', 'Aeronautics'}\n",
    "print(temp_set)\n",
    "\n",
    "final_set = aset.union(temp_set)\n",
    "print(final_set)\n"
   ]
  },
  {
   "cell_type": "code",
   "execution_count": 43,
   "metadata": {},
   "outputs": [
    {
     "name": "stdout",
     "output_type": "stream",
     "text": [
      "{1001, 'Pune', True, 'Ramesh'}\n",
      "{'Aeronautics', '12-10-2024', 'Ramesh'}\n",
      "{1001, True, 'Pune'}\n"
     ]
    }
   ],
   "source": [
    "# DIFFERENCE OF SETS\n",
    "aset = {1001, 'Ramesh', 'Pune', True}\n",
    "print(aset)\n",
    "\n",
    "temp_set = {'Ramesh', '12-10-2024', 'Aeronautics'}\n",
    "print(temp_set)\n",
    "\n",
    "final_set = aset.difference(temp_set)  # returns aset with items removed from temp_set\n",
    "print(final_set)"
   ]
  },
  {
   "cell_type": "code",
   "execution_count": 44,
   "metadata": {},
   "outputs": [
    {
     "name": "stdout",
     "output_type": "stream",
     "text": [
      "{1001, 'Pune', True, 'Ramesh'}\n",
      "{'Aeronautics', '12-10-2024', 'Ramesh'}\n",
      "{'Ramesh'}\n"
     ]
    }
   ],
   "source": [
    "# INTERSECTION OF SETS\n",
    "aset = {1001, 'Ramesh', 'Pune', True}\n",
    "print(aset)\n",
    "\n",
    "temp_set = {'Ramesh', '12-10-2024', 'Aeronautics'}\n",
    "print(temp_set)\n",
    "\n",
    "final_set = aset.intersection(temp_set)  # returns the common item from temp_set and aset\n",
    "print(final_set)"
   ]
  },
  {
   "cell_type": "code",
   "execution_count": 47,
   "metadata": {},
   "outputs": [
    {
     "name": "stdout",
     "output_type": "stream",
     "text": [
      "False\n",
      "True\n",
      "True\n"
     ]
    }
   ],
   "source": [
    "aset = {1,2,3,4,5,6}\n",
    "bset = {5,6}\n",
    "\n",
    "cset = aset.issubset(bset)\n",
    "print(cset)\n",
    "\n",
    "cset = bset.issubset(aset)\n",
    "print(cset)\n",
    "\n",
    "cset = aset.issuperset(bset)\n",
    "print(cset)"
   ]
  },
  {
   "cell_type": "code",
   "execution_count": 48,
   "metadata": {},
   "outputs": [
    {
     "name": "stdout",
     "output_type": "stream",
     "text": [
      "False\n"
     ]
    }
   ],
   "source": [
    "aset = {\"Pune\", \"Mumbai\", \"Delhi\", \"Chennai\"}\n",
    "bset = {\"Kolkata\", \"Pune\", \"Nagpur\"}\n",
    "\n",
    "cset = aset.isdisjoint(bset)\n",
    "print(cset)"
   ]
  },
  {
   "cell_type": "code",
   "execution_count": 49,
   "metadata": {},
   "outputs": [
    {
     "name": "stdout",
     "output_type": "stream",
     "text": [
      "True\n"
     ]
    }
   ],
   "source": [
    "aset = {\"Pune\", \"Mumbai\", \"Delhi\", \"Chennai\"}\n",
    "bset = {\"Kolkata\", \"Nagpur\"}\n",
    "\n",
    "cset = aset.isdisjoint(bset)\n",
    "print(cset)"
   ]
  }
 ],
 "metadata": {
  "kernelspec": {
   "display_name": "Python 3",
   "language": "python",
   "name": "python3"
  },
  "language_info": {
   "codemirror_mode": {
    "name": "ipython",
    "version": 3
   },
   "file_extension": ".py",
   "mimetype": "text/x-python",
   "name": "python",
   "nbconvert_exporter": "python",
   "pygments_lexer": "ipython3",
   "version": "3.12.5"
  }
 },
 "nbformat": 4,
 "nbformat_minor": 2
}
