{
 "cells": [
  {
   "cell_type": "code",
   "execution_count": 1,
   "metadata": {},
   "outputs": [
    {
     "name": "stdout",
     "output_type": "stream",
     "text": [
      "<class 'list'>\n"
     ]
    }
   ],
   "source": [
    "# creating an empty list \n",
    "cityList = []\n",
    "print(type(cityList))\n"
   ]
  },
  {
   "cell_type": "code",
   "execution_count": 3,
   "metadata": {},
   "outputs": [
    {
     "name": "stdout",
     "output_type": "stream",
     "text": [
      "<class 'list'>\n",
      "['Pune', 'Mumbai', 'Nagpur', '']\n"
     ]
    }
   ],
   "source": [
    "# creating a list with items\n",
    "cityList = ['Pune', 'Mumbai','Nagpur','']\n",
    "print(type(cityList))\n",
    "print(cityList)"
   ]
  },
  {
   "cell_type": "code",
   "execution_count": 5,
   "metadata": {},
   "outputs": [
    {
     "name": "stdout",
     "output_type": "stream",
     "text": [
      "<class 'list'>\n",
      "['Ramesh', 1001, 'Pune', True]\n"
     ]
    }
   ],
   "source": [
    "# creating a list with items\n",
    "candidateInfo = ['Ramesh', 1001, 'Pune', True]\n",
    "print(type(candidateInfo))\n",
    "print(candidateInfo)"
   ]
  },
  {
   "cell_type": "code",
   "execution_count": 7,
   "metadata": {},
   "outputs": [
    {
     "name": "stdout",
     "output_type": "stream",
     "text": [
      "4\n"
     ]
    }
   ],
   "source": [
    "# Length of list\n",
    "length = len(candidateInfo)\n",
    "print(length)"
   ]
  },
  {
   "cell_type": "code",
   "execution_count": 10,
   "metadata": {},
   "outputs": [
    {
     "name": "stdout",
     "output_type": "stream",
     "text": [
      "Ramesh\n",
      "1001\n",
      "Pune\n",
      "True\n",
      "True\n"
     ]
    }
   ],
   "source": [
    "# Accessing the list item\n",
    "print(candidateInfo[0]) # First item\n",
    "print(candidateInfo[1])\n",
    "print(candidateInfo[2])\n",
    "print(candidateInfo[3])  # Last Item\n",
    "print(candidateInfo[length-1]) #Last item\n"
   ]
  },
  {
   "cell_type": "code",
   "execution_count": 14,
   "metadata": {},
   "outputs": [
    {
     "name": "stdout",
     "output_type": "stream",
     "text": [
      "<class 'list'>\n",
      "['Ramesh', 1001, 'Pune', True, ['ML', 'AI', 'Robotics']]\n",
      "Ramesh\n",
      "1001\n",
      "Pune\n",
      "True\n",
      "['ML', 'AI', 'Robotics']\n",
      "<class 'list'>\n",
      "ML\n",
      "AI\n",
      "Robotics\n"
     ]
    }
   ],
   "source": [
    "# Nested List\n",
    "candidateInfo = ['Ramesh', 1001, 'Pune', True, ['ML', 'AI', 'Robotics']]\n",
    "print(type(candidateInfo))\n",
    "print(candidateInfo)\n",
    "length = len(candidateInfo)\n",
    "\n",
    "# Accessing the list item\n",
    "print(candidateInfo[0]) # First item\n",
    "print(candidateInfo[1])\n",
    "print(candidateInfo[2])\n",
    "print(candidateInfo[3]) \n",
    "print(candidateInfo[length-1]) #Last item\n",
    "\n",
    "specializations = candidateInfo[length-1] # Getting the nested list\n",
    "print(type(specializations))\n",
    "print(specializations[0])\n",
    "print(specializations[1])\n",
    "print(specializations[2])\n"
   ]
  },
  {
   "cell_type": "code",
   "execution_count": 29,
   "metadata": {},
   "outputs": [
    {
     "name": "stdout",
     "output_type": "stream",
     "text": [
      "<class 'list'>\n",
      "['Ramesh', 1001, 'Pune', True, ['ML', 'AI', 'Robotics']]\n",
      "['ML', 'AI', 'Robotics']\n",
      "[1001, 'Pune']\n",
      "[1001, 'Pune']\n",
      "<class 'list'>\n",
      "[1001, 'Pune', True, ['ML', 'AI', 'Robotics']]\n",
      "['Ramesh', 1001, 'Pune', True]\n",
      "['Ramesh', 1001, 'Pune', True, ['ML', 'AI', 'Robotics']]\n",
      "['Ramesh', 1001, 'Pune', True, ['ML', 'AI', 'Robotics']]\n",
      "Robotics\n",
      "['Ramesh']\n",
      "['Ramesh', ['ML', 'AI', 'Robotics']]\n",
      "[['ML', 'AI', 'Robotics']]\n",
      "['ML', 'AI', 'Robotics']\n",
      "['ML', 'AI', 'Robotics']\n"
     ]
    }
   ],
   "source": [
    "# Slicing => [start:end:step] => defaults => start: 0, end : length, step : 1\n",
    "\n",
    "candidateInfo = ['Ramesh', 1001, 'Pune', True, ['ML', 'AI', 'Robotics']]\n",
    "print(type(candidateInfo))\n",
    "print(candidateInfo)\n",
    "length = len(candidateInfo)\n",
    "\n",
    "print(candidateInfo[-1]) # Last element\n",
    "print(candidateInfo[1:3:1])\n",
    "print(candidateInfo[1:3])\n",
    "print(type(candidateInfo[1:3]))\n",
    "print(candidateInfo[1:])\n",
    "print(candidateInfo[:4]) # start : 0  end: 4  step : 1\n",
    "print(candidateInfo[:]) # 0:5:1\n",
    "print(candidateInfo[::]) # 0:5:1\n",
    "print(candidateInfo[-1][-1])\n",
    "print(candidateInfo[0:4:4])\n",
    "print(candidateInfo[0:5:4])\n",
    "print(candidateInfo[4:5:4]) # list[list] \n",
    "print((candidateInfo[4:5:4])[-1])\n",
    "print((candidateInfo[4:5:4])[0])\n"
   ]
  },
  {
   "cell_type": "code",
   "execution_count": 35,
   "metadata": {},
   "outputs": [
    {
     "name": "stdout",
     "output_type": "stream",
     "text": [
      "['Ramesh', 1001, 'Pune', True, 140.5, ['ML', 'AI', 'Robotics']]\n",
      "['Ramesh', 1001, 'Pune', True, 140.5, 'Aadhaar', '27477474747474', ['ML', 'AI', 'Robotics']]\n",
      "['Ramesh', 1001, 'Pune', True, 140.5, 'Aadhaar', '27477474747474', ['ML', 'AI', 'Robotics', 'Generative AI']]\n",
      "['Ramesh', 1001, 'Pune', True, 140.5, 'Aadhaar', '27477474747474', ['ML', 'AI', 'Robotics', 'Generative AI'], 'Mole in index finger of right hand']\n",
      "['Ramesh', 1001, 'Pune', True, 140.5, 'Aadhaar', '27477474747474', ['ML', 'AI', 'Robotics', 'Generative AI'], 'Mole in index finger of right hand', ['C-Pune City', 'P-Nagpur City']]\n"
     ]
    }
   ],
   "source": [
    "# Mutability : ability to change/modify\n",
    "# insert() => add the element to specific position in the list\n",
    "# append() => add the item to the end of the list\n",
    "\n",
    "# name, id, city, isCertified, list of certifications\n",
    "candidateInfo = ['Ramesh', 1001, 'Pune', True, ['ML', 'AI', 'Robotics']]\n",
    "\n",
    "# adding the combined score of certification\n",
    "score = 140.5\n",
    "candidateInfo.insert(4, score)\n",
    "print(candidateInfo)\n",
    "\n",
    "# adding an identity to the list\n",
    "candidateInfo.insert(5, \"Aadhaar\")\n",
    "candidateInfo.insert(6, \"27477474747474\")\n",
    "print(candidateInfo)\n",
    "\n",
    "# adding more certifications to the nested list\n",
    "# Current List =>  ['Ramesh', 1001, 'Pune', True, 140.5, 'Aadhaar', '27477474747474', ['ML', 'AI', 'Robotics']]\n",
    "\n",
    "candidateInfo[7].insert(3, 'Generative AI')  # accessing the nested list + adding the element\n",
    "\n",
    "print(candidateInfo)\n",
    "\n",
    "\n",
    "# add identity mark to the list at the end\n",
    "id_mark = 'Mole in index finger of right hand'\n",
    "candidateInfo.append(id_mark)\n",
    "print(candidateInfo)\n",
    "\n",
    "# add address list (both communication and permanent) to the list\n",
    "addressList = ['C-Pune City', 'P-Nagpur City']\n",
    "\n",
    "candidateInfo.append(addressList)\n",
    "print(candidateInfo)\n",
    "\n",
    "\n",
    "\n"
   ]
  },
  {
   "cell_type": "code",
   "execution_count": 41,
   "metadata": {},
   "outputs": [
    {
     "name": "stdout",
     "output_type": "stream",
     "text": [
      "[['Ramesh', 1001, 'Pune', True], ['Mohan', 1002, 'Pune', True], ['Alice', 1003, 'Pune', True]]\n"
     ]
    }
   ],
   "source": [
    "accountholders = [['Ramesh', 1001, 'Pune', True], ['Mohan', 1002, 'Pune', True]]\n",
    "\n",
    "tempholder = ['Alice', 1003, 'Pune', True]\n",
    "\n",
    "#accountholders.append(tempholder)\n",
    "accountholders.insert(3, tempholder)\n",
    "\n",
    "print(accountholders)"
   ]
  },
  {
   "cell_type": "code",
   "execution_count": 40,
   "metadata": {},
   "outputs": [
    {
     "name": "stdout",
     "output_type": "stream",
     "text": [
      "['Ramesh', 1001, 'Pune', True]\n",
      "['Mohan', 1002, 'Pune', True]\n",
      "['Alice', 1003, 'Pune', True]\n"
     ]
    }
   ],
   "source": [
    "# iterate over the list\n",
    "for item in accountholders:\n",
    "    print(item)"
   ]
  },
  {
   "cell_type": "code",
   "execution_count": 42,
   "metadata": {},
   "outputs": [
    {
     "name": "stdout",
     "output_type": "stream",
     "text": [
      "Ramesh\n",
      "1001\n",
      "Pune\n",
      "True\n",
      "140.5\n",
      "Aadhaar\n",
      "27477474747474\n",
      "['ML', 'AI', 'Robotics', 'Generative AI']\n",
      "Mole in index finger of right hand\n",
      "['C-Pune City', 'P-Nagpur City']\n"
     ]
    }
   ],
   "source": [
    "for item in candidateInfo:\n",
    "    print(item)"
   ]
  },
  {
   "cell_type": "code",
   "execution_count": 49,
   "metadata": {},
   "outputs": [
    {
     "name": "stdout",
     "output_type": "stream",
     "text": [
      "['Ramesh', 1001, True]\n"
     ]
    }
   ],
   "source": [
    "# Remove an item from list\n",
    "# remove()\n",
    "\n",
    "# candidateInfo => ['Ramesh', 1001, 'Pune', True, 140.5, 'Aadhaar', '27477474747474', ['ML', 'AI', 'Robotics', 'Generative AI'], 'Mole in index finger of right hand', ['C-Pune City', 'P-Nagpur City']]\n",
    "# check if item is present in the list or not and then remove it.\n",
    "\n",
    "item_to_check = 'Pune'\n",
    "\n",
    "if item_to_check in candidateInfo:\n",
    "    print(\"Item Found. Removing the item.....\")\n",
    "    candidateInfo.remove(item_to_check)\n",
    "\n",
    "print(candidateInfo)\n",
    "\n"
   ]
  },
  {
   "cell_type": "code",
   "execution_count": 50,
   "metadata": {},
   "outputs": [
    {
     "name": "stdout",
     "output_type": "stream",
     "text": [
      "['Ramesh', 1001, 'Pune', True, ['ML', 'AI', 'Robotics']]\n",
      "Item removed is  ['ML', 'AI', 'Robotics']\n",
      "['Ramesh', 1001, 'Pune', True]\n",
      "Item removed is  Ramesh\n",
      "[1001, 'Pune', True]\n"
     ]
    }
   ],
   "source": [
    "# pop () => Remove the item from the end and returns the item\n",
    "# pop(index) => Remove the item from the given index and returns the item\n",
    "\n",
    "candidateInfo = ['Ramesh', 1001, 'Pune', True, ['ML', 'AI', 'Robotics']]\n",
    "print(candidateInfo)\n",
    "\n",
    "item_popped = candidateInfo.pop() \n",
    "print(\"Item removed is \", item_popped)\n",
    "print(candidateInfo)\n",
    "\n",
    "item_popped = candidateInfo.pop(0) \n",
    "print(\"Item removed is \", item_popped)\n",
    "print(candidateInfo)\n"
   ]
  },
  {
   "cell_type": "code",
   "execution_count": 54,
   "metadata": {},
   "outputs": [
    {
     "name": "stdout",
     "output_type": "stream",
     "text": [
      "['Ramesh', 1001, 'Pune', True, ['ML', 'AI', 'Robotics']]\n",
      "['Ramesh', 1001, 'Pune', True, ['ML', 'AI', 'Robotics']]\n",
      "['Ramesh', 1001, True, ['ML', 'AI', 'Robotics']]\n",
      "['Ramesh', 1001, True, ['ML', 'AI', 'Robotics']]\n",
      "[1001, True, ['ML', 'AI', 'Robotics']]\n",
      "[1001, True, ['ML', 'AI', 'Robotics']]\n"
     ]
    }
   ],
   "source": [
    "# List copy \n",
    "\n",
    "candidateInfo = ['Ramesh', 1001, 'Pune', True, ['ML', 'AI', 'Robotics']]\n",
    "print(candidateInfo)\n",
    "\n",
    "copiedList = candidateInfo  # Reference copy of the list\n",
    "print(copiedList)\n",
    "\n",
    "# Modify the original list\n",
    "candidateInfo.remove(\"Pune\")\n",
    "print(candidateInfo)\n",
    "print(copiedList)\n",
    "\n",
    "# Modify the copied list\n",
    "copiedList.remove(\"Ramesh\")\n",
    "print(candidateInfo)\n",
    "print(copiedList)\n"
   ]
  },
  {
   "cell_type": "code",
   "execution_count": 57,
   "metadata": {},
   "outputs": [
    {
     "name": "stdout",
     "output_type": "stream",
     "text": [
      "['Ramesh', 1001, 'Pune', True, ['ML', 'AI', 'Robotics']]\n",
      "['Ramesh', 1001, 'Pune', True, ['ML', 'AI', 'Robotics']]\n",
      "['Ramesh', 1001, True, ['ML', 'AI', 'Robotics']]\n",
      "['Ramesh', 1001, 'Pune', True, ['ML', 'AI', 'Robotics']]\n",
      "['Ramesh', 1001, True, ['ML', 'AI', 'Robotics']]\n",
      "[1001, 'Pune', True, ['ML', 'AI', 'Robotics']]\n"
     ]
    }
   ],
   "source": [
    "# copy() : \n",
    "\n",
    "candidateInfo = ['Ramesh', 1001, 'Pune', True, ['ML', 'AI', 'Robotics']]\n",
    "print(candidateInfo)\n",
    "\n",
    "copiedList = candidateInfo.copy()  # Separate copy of the list\n",
    "print(copiedList)\n",
    "\n",
    "\n",
    "# Modify the original list\n",
    "candidateInfo.remove(\"Pune\")\n",
    "print(candidateInfo)\n",
    "print(copiedList)\n",
    "\n",
    "# Modify the copied list\n",
    "copiedList.remove(\"Ramesh\")\n",
    "print(candidateInfo)\n",
    "print(copiedList)"
   ]
  },
  {
   "cell_type": "code",
   "execution_count": 61,
   "metadata": {},
   "outputs": [
    {
     "name": "stdout",
     "output_type": "stream",
     "text": [
      "['Pune', 'Mumbai', 'Nagpur', 'Kolkata']\n",
      "['Pune', 'Nagpur', 'Mumbai', 'Kolkata']\n"
     ]
    }
   ],
   "source": [
    "# Sorting the list\n",
    "\n",
    "cityList = ['Pune', 'Mumbai','Nagpur','Kolkata']\n",
    "\n",
    "print(cityList)\n",
    "#cityList.sort()\n",
    "cityList.sort(reverse=True)\n",
    "print(cityList)\n",
    "\n"
   ]
  },
  {
   "cell_type": "code",
   "execution_count": 62,
   "metadata": {},
   "outputs": [
    {
     "name": "stdout",
     "output_type": "stream",
     "text": [
      "['Pune', 'Mumbai', 'Nagpur', 'Kolkata']\n",
      "['Pune', 'Mumbai', 'Nagpur', 'Kolkata', 'Delhi', 'Thane']\n"
     ]
    }
   ],
   "source": [
    "# extend \n",
    "\n",
    "cityList = ['Pune', 'Mumbai','Nagpur','Kolkata']\n",
    "print(cityList)\n",
    "\n",
    "extendCities = ['Delhi', 'Thane']\n",
    "\n",
    "cityList.extend(extendCities)\n",
    "print(cityList)"
   ]
  },
  {
   "cell_type": "code",
   "execution_count": 65,
   "metadata": {},
   "outputs": [],
   "source": [
    "cityList.clear()"
   ]
  },
  {
   "cell_type": "code",
   "execution_count": 66,
   "metadata": {},
   "outputs": [
    {
     "name": "stdout",
     "output_type": "stream",
     "text": [
      "[]\n"
     ]
    }
   ],
   "source": [
    "print(cityList)"
   ]
  },
  {
   "cell_type": "code",
   "execution_count": 67,
   "metadata": {},
   "outputs": [],
   "source": [
    "del cityList"
   ]
  },
  {
   "cell_type": "code",
   "execution_count": 68,
   "metadata": {},
   "outputs": [
    {
     "ename": "NameError",
     "evalue": "name 'cityList' is not defined",
     "output_type": "error",
     "traceback": [
      "\u001b[1;31m---------------------------------------------------------------------------\u001b[0m",
      "\u001b[1;31mNameError\u001b[0m                                 Traceback (most recent call last)",
      "Cell \u001b[1;32mIn[68], line 1\u001b[0m\n\u001b[1;32m----> 1\u001b[0m \u001b[43mcityList\u001b[49m\n",
      "\u001b[1;31mNameError\u001b[0m: name 'cityList' is not defined"
     ]
    }
   ],
   "source": [
    "cityList"
   ]
  },
  {
   "cell_type": "code",
   "execution_count": 69,
   "metadata": {},
   "outputs": [],
   "source": [
    "del candidateInfo"
   ]
  },
  {
   "cell_type": "code",
   "execution_count": 70,
   "metadata": {},
   "outputs": [
    {
     "ename": "NameError",
     "evalue": "name 'candidateInfo' is not defined",
     "output_type": "error",
     "traceback": [
      "\u001b[1;31m---------------------------------------------------------------------------\u001b[0m",
      "\u001b[1;31mNameError\u001b[0m                                 Traceback (most recent call last)",
      "Cell \u001b[1;32mIn[70], line 1\u001b[0m\n\u001b[1;32m----> 1\u001b[0m \u001b[43mcandidateInfo\u001b[49m\n",
      "\u001b[1;31mNameError\u001b[0m: name 'candidateInfo' is not defined"
     ]
    }
   ],
   "source": [
    "candidateInfo"
   ]
  },
  {
   "cell_type": "code",
   "execution_count": 71,
   "metadata": {},
   "outputs": [
    {
     "data": {
      "text/plain": [
       "[1001, 'Pune', True, ['ML', 'AI', 'Robotics']]"
      ]
     },
     "execution_count": 71,
     "metadata": {},
     "output_type": "execute_result"
    }
   ],
   "source": [
    "copiedList"
   ]
  }
 ],
 "metadata": {
  "kernelspec": {
   "display_name": "Python 3",
   "language": "python",
   "name": "python3"
  },
  "language_info": {
   "codemirror_mode": {
    "name": "ipython",
    "version": 3
   },
   "file_extension": ".py",
   "mimetype": "text/x-python",
   "name": "python",
   "nbconvert_exporter": "python",
   "pygments_lexer": "ipython3",
   "version": "3.12.5"
  }
 },
 "nbformat": 4,
 "nbformat_minor": 2
}
