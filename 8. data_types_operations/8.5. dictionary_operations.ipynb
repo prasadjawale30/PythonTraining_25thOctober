{
 "cells": [
  {
   "cell_type": "code",
   "execution_count": 1,
   "metadata": {},
   "outputs": [
    {
     "name": "stdout",
     "output_type": "stream",
     "text": [
      "<class 'dict'>\n"
     ]
    }
   ],
   "source": [
    "# create an empty dictionary\n",
    "\n",
    "emptyDict = {}\n",
    "print(type(emptyDict))"
   ]
  },
  {
   "cell_type": "code",
   "execution_count": 4,
   "metadata": {},
   "outputs": [
    {
     "name": "stdout",
     "output_type": "stream",
     "text": [
      "{'brand': 'Tata', 'year': 2019, 'model': 'X-20012'}\n",
      "<class 'dict'>\n"
     ]
    }
   ],
   "source": [
    "equipment = {\n",
    "    \"brand\" : \"Tata\",\n",
    "    \"year\" : 2019,\n",
    "    \"model\" : \"X-20012\"\n",
    "}\n",
    "\n",
    "print(equipment)\n",
    "print(type(equipment))"
   ]
  },
  {
   "cell_type": "code",
   "execution_count": 5,
   "metadata": {},
   "outputs": [
    {
     "name": "stdout",
     "output_type": "stream",
     "text": [
      "{'id': 1001, 'name': 'Ramesh', 'address': 'Pune', 'doj': '10-Oct-2023', 'dept': 'IT', 'isCertified': True}\n"
     ]
    }
   ],
   "source": [
    "employeeDict = {\n",
    "    \"id\" : 1001,\n",
    "    \"name\" : \"Ramesh\",\n",
    "    \"address\" : \"Pune\",\n",
    "    \"doj\" : \"10-Oct-2023\",\n",
    "    \"dept\" : \"IT\",\n",
    "    \"isCertified\" : True\n",
    "\n",
    "}\n",
    "\n",
    "print(employeeDict)"
   ]
  },
  {
   "cell_type": "code",
   "execution_count": 7,
   "metadata": {},
   "outputs": [
    {
     "name": "stdout",
     "output_type": "stream",
     "text": [
      "Ramesh\n",
      "True\n"
     ]
    }
   ],
   "source": [
    "# Accessing the data \n",
    "\n",
    "print(employeeDict['name'])\n",
    "print(employeeDict['isCertified'])"
   ]
  },
  {
   "cell_type": "code",
   "execution_count": 8,
   "metadata": {},
   "outputs": [],
   "source": [
    "employeeDict = {\n",
    "    \"1001\" : {\"id\" : 1001,  \"name\" : \"Ramesh\", \"address\" : \"Pune\", \"doj\" : \"10-Oct-2023\", \"dept\" : \"IT\", \"isCertified\" : True },\n",
    "    \"1002\" : {\"id\" : 1002,  \"name\" : \"Mohan\", \"address\" : \"Bnglr\", \"doj\" : \"10-Oct-2023\", \"dept\" : \"IT\", \"isCertified\" : False },\n",
    "    \"1003\" : {\"id\" : 1003,  \"name\" : \"Saket\", \"address\" : \"Chennai\", \"doj\" : \"10-Oct-2023\", \"dept\" : \"IT\", \"isCertified\" : True }\n",
    "}"
   ]
  },
  {
   "cell_type": "code",
   "execution_count": 11,
   "metadata": {},
   "outputs": [
    {
     "name": "stdout",
     "output_type": "stream",
     "text": [
      "True\n",
      "False\n",
      "True\n"
     ]
    }
   ],
   "source": [
    "print(employeeDict['1001']['isCertified'])\n",
    "print(employeeDict['1002']['isCertified'])\n",
    "print(employeeDict['1003']['isCertified'])"
   ]
  },
  {
   "cell_type": "code",
   "execution_count": 23,
   "metadata": {},
   "outputs": [],
   "source": [
    "personDict = {\n",
    "    \"12345678998765\" : {\n",
    "            \"personal\" : {\"name\" : \"Ramesh\", \"address\" : \"Pune\", \"dob\" : \"10-Oct-2023\"} , \n",
    "            \"educational\" : {\"highestQualification\" : \"PHD\", \"paper\" : \"Artificial INtelligence\"},\n",
    "            \"documentMapping\" : {\"pan\" : \"123456777\", \"dl\" : \"456789\"}, \n",
    "            \"biometrics\" : {\"scan_id\" : \"AD76578758567865786474####&^&^\"}\n",
    "    },\n",
    "    \"22345678498761\" : {\n",
    "            \"personal\" : {\"name\" : \"Mohan\", \"address\" : \"Bangalore\", \"dob\" : \"10-Oct-2023\"} , \n",
    "            \"educational\" : {\"highestQualification\" : \"PHD\", \"paper\" : \"Robotics\"},\n",
    "            \"documentMapping\" : {\"pan\" : \"223456771\", \"dl\" : \"256789\"}, \n",
    "            \"biometrics\" : {\"scan_id\" : \"AD760978758567865786474####&^==\"}\n",
    "    },\n",
    "    \"32345678498760\" : {\n",
    "            \"personal\" : {\"name\" : \"Ram\", \"address\" : \"Chennai\", \"dob\" : \"10-Oct-2023\"} , \n",
    "            \"educational\" : {\"highestQualification\" : \"PHD\", \"paper\" : \"Data Science\"},\n",
    "            \"documentMapping\" : {\"pan\" : \"\", \"dl\" : \"156789\"}, \n",
    "            \"biometrics\" : {\"scan_id\" : \"AD860978758567865786474####&^@@\"}\n",
    "    }\n",
    "\n",
    "}"
   ]
  },
  {
   "cell_type": "code",
   "execution_count": 24,
   "metadata": {},
   "outputs": [
    {
     "name": "stdout",
     "output_type": "stream",
     "text": [
      "123456777\n"
     ]
    }
   ],
   "source": [
    "print(personDict['12345678998765']['documentMapping']['pan'])"
   ]
  },
  {
   "cell_type": "code",
   "execution_count": 25,
   "metadata": {},
   "outputs": [
    {
     "name": "stdout",
     "output_type": "stream",
     "text": [
      "{'personal': {'name': 'Ram', 'address': 'Chennai', 'dob': '10-Oct-2023'}, 'educational': {'highestQualification': 'PHD', 'paper': 'Data Science'}, 'documentMapping': {'pan': '', 'dl': '156789'}, 'biometrics': {'scan_id': 'AD860978758567865786474####&^@@'}}\n",
      "{'personal': {'name': 'Ram', 'address': 'Chennai', 'dob': '10-Oct-2023'}, 'educational': {'highestQualification': 'PHD', 'paper': 'Data Science'}, 'documentMapping': {'pan': '', 'dl': '156789'}, 'biometrics': {'scan_id': 'AD860978758567865786474####&^@@'}, 'phone_number': 9898987676}\n",
      "{'personal': {'name': 'Ram', 'address': 'Chennai', 'dob': '10-Oct-2023', 'phone_number': 9898987676}, 'educational': {'highestQualification': 'PHD', 'paper': 'Data Science'}, 'documentMapping': {'pan': '', 'dl': '156789'}, 'biometrics': {'scan_id': 'AD860978758567865786474####&^@@'}, 'phone_number': 9898987676}\n",
      "Your PAN and AADHAAR are not linked\n"
     ]
    }
   ],
   "source": [
    "# Modifying the dictionary\n",
    "personInfo = personDict['32345678498760']\n",
    "print(personInfo)\n",
    "\n",
    "personInfo['phone_number'] = 9898987676  # Add the phone number as a separte key value pair\n",
    "print(personInfo)\n",
    "\n",
    "personInfo['personal']['phone_number'] = 9898987676  # Add the phone number as part of 'personal'\n",
    "print(personInfo)\n",
    "\n",
    "\n",
    "if len(personInfo['documentMapping']['pan']) == 0 :\n",
    "    print(\"Your PAN and AADHAAR are not linked\")"
   ]
  },
  {
   "cell_type": "code",
   "execution_count": 26,
   "metadata": {},
   "outputs": [
    {
     "name": "stdout",
     "output_type": "stream",
     "text": [
      "{'id': 1001, 'name': 'Ramesh', 'address': 'Pune', 'doj': '10-Oct-2023', 'dept': 'IT', 'isCertified': True}\n"
     ]
    }
   ],
   "source": [
    "# Mutability \n",
    "\n",
    "employeeDict = {\n",
    "    \"id\" : 1001,\n",
    "    \"name\" : \"Ramesh\",\n",
    "    \"address\" : \"Pune\",\n",
    "    \"doj\" : \"10-Oct-2023\",\n",
    "    \"dept\" : \"IT\",\n",
    "    \"isCertified\" : True\n",
    "\n",
    "}\n",
    "\n",
    "print(employeeDict)"
   ]
  },
  {
   "cell_type": "code",
   "execution_count": 32,
   "metadata": {},
   "outputs": [
    {
     "data": {
      "text/plain": [
       "{'id': 1001,\n",
       " 'name': 'Ramesh',\n",
       " 'address': 'Pune',\n",
       " 'doj': '10-Oct-2023',\n",
       " 'dept': 'TAG',\n",
       " 'isCertified': True}"
      ]
     },
     "execution_count": 32,
     "metadata": {},
     "output_type": "execute_result"
    }
   ],
   "source": [
    "employeeDict['dept'] = \"TAG\"\n",
    "employeeDict"
   ]
  },
  {
   "cell_type": "code",
   "execution_count": 33,
   "metadata": {},
   "outputs": [
    {
     "data": {
      "text/plain": [
       "{'12345678998765': {'personal': {'name': 'Ramesh',\n",
       "   'address': 'Pune',\n",
       "   'dob': '10-Oct-2023'},\n",
       "  'educational': {'highestQualification': 'PHD',\n",
       "   'paper': 'Artificial INtelligence'},\n",
       "  'documentMapping': {'pan': '123456777', 'dl': '456789'},\n",
       "  'biometrics': {'scan_id': 'AD76578758567865786474####&^&^'}},\n",
       " '22345678498761': {'personal': {'name': 'Mohan',\n",
       "   'address': 'Bangalore',\n",
       "   'dob': '10-Oct-2023'},\n",
       "  'educational': {'highestQualification': 'PHD', 'paper': 'Robotics'},\n",
       "  'documentMapping': {'pan': '223456771', 'dl': '256789'},\n",
       "  'biometrics': {'scan_id': 'AD760978758567865786474####&^=='}},\n",
       " '32345678498760': {'personal': {'name': 'Ram',\n",
       "   'address': 'Chennai',\n",
       "   'dob': '10-Oct-2022',\n",
       "   'phone_number': 9898987676},\n",
       "  'educational': {'highestQualification': 'PHD', 'paper': 'Data Science'},\n",
       "  'documentMapping': {'pan': '', 'dl': '156789'},\n",
       "  'biometrics': {'scan_id': 'AD860978758567865786474####&^@@'},\n",
       "  'phone_number': 9898987676}}"
      ]
     },
     "execution_count": 33,
     "metadata": {},
     "output_type": "execute_result"
    }
   ],
   "source": [
    "personDict['32345678498760']['personal']['dob'] = '10-Oct-2022'\n",
    "personDict"
   ]
  },
  {
   "cell_type": "code",
   "execution_count": 34,
   "metadata": {},
   "outputs": [
    {
     "ename": "KeyError",
     "evalue": "'documentMapping'",
     "output_type": "error",
     "traceback": [
      "\u001b[1;31m---------------------------------------------------------------------------\u001b[0m",
      "\u001b[1;31mKeyError\u001b[0m                                  Traceback (most recent call last)",
      "Cell \u001b[1;32mIn[34], line 3\u001b[0m\n\u001b[0;32m      1\u001b[0m \u001b[38;5;66;03m# Access a key that is not present \u001b[39;00m\n\u001b[1;32m----> 3\u001b[0m \u001b[38;5;28mprint\u001b[39m(\u001b[43memployeeDict\u001b[49m\u001b[43m[\u001b[49m\u001b[38;5;124;43m'\u001b[39;49m\u001b[38;5;124;43mdocumentMapping\u001b[39;49m\u001b[38;5;124;43m'\u001b[39;49m\u001b[43m]\u001b[49m)\n",
      "\u001b[1;31mKeyError\u001b[0m: 'documentMapping'"
     ]
    }
   ],
   "source": [
    "# Access a key that is not present \n",
    "\n",
    "print(employeeDict['documentMapping'])"
   ]
  },
  {
   "cell_type": "code",
   "execution_count": 39,
   "metadata": {},
   "outputs": [
    {
     "name": "stdout",
     "output_type": "stream",
     "text": [
      "dict_keys(['id', 'name', 'address', 'doj', 'dept', 'isCertified'])\n",
      "<class 'dict_keys'>\n"
     ]
    },
    {
     "ename": "TypeError",
     "evalue": "'dict_keys' object is not subscriptable",
     "output_type": "error",
     "traceback": [
      "\u001b[1;31m---------------------------------------------------------------------------\u001b[0m",
      "\u001b[1;31mTypeError\u001b[0m                                 Traceback (most recent call last)",
      "Cell \u001b[1;32mIn[39], line 15\u001b[0m\n\u001b[0;32m     12\u001b[0m \u001b[38;5;28mprint\u001b[39m(employeeKeys)\n\u001b[0;32m     13\u001b[0m \u001b[38;5;28mprint\u001b[39m(\u001b[38;5;28mtype\u001b[39m(employeeKeys)) \u001b[38;5;66;03m# dict_keys is immutable in nature\u001b[39;00m\n\u001b[1;32m---> 15\u001b[0m \u001b[38;5;28mprint\u001b[39m(\u001b[43memployeeKeys\u001b[49m\u001b[43m[\u001b[49m\u001b[38;5;241;43m0\u001b[39;49m\u001b[43m]\u001b[49m)\n",
      "\u001b[1;31mTypeError\u001b[0m: 'dict_keys' object is not subscriptable"
     ]
    }
   ],
   "source": [
    "# Get the keys from dictionary\n",
    "employeeDict = {\n",
    "    \"id\" : 1001,\n",
    "    \"name\" : \"Ramesh\",\n",
    "    \"address\" : \"Pune\",\n",
    "    \"doj\" : \"10-Oct-2023\",\n",
    "    \"dept\" : \"IT\",\n",
    "    \"isCertified\" : True\n",
    "}\n",
    "\n",
    "employeeKeys = employeeDict.keys()\n",
    "print(employeeKeys)\n",
    "print(type(employeeKeys)) # dict_keys is immutable in nature\n",
    "print(employeeKeys[0])  # dict_keys are not indexed"
   ]
  },
  {
   "cell_type": "code",
   "execution_count": 40,
   "metadata": {},
   "outputs": [
    {
     "name": "stdout",
     "output_type": "stream",
     "text": [
      "id => 1001\n",
      "name => Ramesh\n",
      "address => Pune\n",
      "doj => 10-Oct-2023\n",
      "dept => IT\n",
      "isCertified => True\n"
     ]
    }
   ],
   "source": [
    "# 1st Way\n",
    "employeeKeys = employeeDict.keys() # dict_keys(['id', 'name', 'address', 'doj', 'dept', 'isCertified'])\n",
    "\n",
    "for key in employeeKeys : \n",
    "    print(\"{key} => {value}\".format(key=key, value=employeeDict[key]))\n"
   ]
  },
  {
   "cell_type": "code",
   "execution_count": 41,
   "metadata": {},
   "outputs": [
    {
     "name": "stdout",
     "output_type": "stream",
     "text": [
      "id => 1001\n",
      "name => Ramesh\n",
      "address => Pune\n",
      "doj => 10-Oct-2023\n",
      "dept => IT\n",
      "isCertified => True\n"
     ]
    }
   ],
   "source": [
    "# 2nd way\n",
    "for key, value in employeeDict.items():\n",
    "    print(\"{key} => {value}\".format(key=key, value=value))"
   ]
  },
  {
   "cell_type": "code",
   "execution_count": 45,
   "metadata": {},
   "outputs": [
    {
     "name": "stdout",
     "output_type": "stream",
     "text": [
      "dict_keys(['id', 'name', 'address', 'doj', 'dept', 'isCertified'])\n",
      "dict_values([1001, 'Ramesh', 'Pune', '10-Oct-2023', 'IT', True])\n",
      "['id', 'name', 'address', 'doj', 'dept', 'isCertified']\n",
      "[1001, 'Ramesh', 'Pune', '10-Oct-2023', 'IT', True]\n",
      "id => 1001\n",
      "name => Ramesh\n",
      "address => Pune\n",
      "doj => 10-Oct-2023\n",
      "dept => IT\n",
      "isCertified => True\n"
     ]
    }
   ],
   "source": [
    "# 3rd way\n",
    "employeeKeys = employeeDict.keys()\n",
    "print(employeeKeys)\n",
    "employeeData = employeeDict.values()\n",
    "print(employeeData)\n",
    "\n",
    "keyList = list(employeeKeys)\n",
    "valueList = list(employeeData)\n",
    "print(keyList)\n",
    "print(valueList)\n",
    "\n",
    "\n",
    "for i in range(len(employeeKeys)):\n",
    "    print(\"{key} => {value}\".format(key=keyList[i], value=valueList[i]))\n"
   ]
  },
  {
   "cell_type": "code",
   "execution_count": 47,
   "metadata": {},
   "outputs": [
    {
     "name": "stdout",
     "output_type": "stream",
     "text": [
      "{'id': 1001, 'name': 'Ramesh', 'address': 'Pune', 'doj': '10-Oct-2023', 'dept': 'IT', 'isCertified': True, 'phone': 9898987656}\n"
     ]
    }
   ],
   "source": [
    "# Update the dictionary\n",
    "\n",
    "employeeDict = {\n",
    "    \"id\" : 1001,\n",
    "    \"name\" : \"Ramesh\",\n",
    "    \"address\" : \"Pune\",\n",
    "    \"doj\" : \"10-Oct-2023\",\n",
    "    \"dept\" : \"IT\",\n",
    "    \"isCertified\" : True\n",
    "}\n",
    "\n",
    "employeeDict['phone'] = 9898987656  # adding a new key and value pair\n",
    "\n",
    "print(employeeDict)"
   ]
  },
  {
   "cell_type": "code",
   "execution_count": 48,
   "metadata": {},
   "outputs": [],
   "source": [
    "employeeDict.update({'hobby' : \"Football\"})  # adding a new key and value pair"
   ]
  },
  {
   "cell_type": "code",
   "execution_count": 49,
   "metadata": {},
   "outputs": [],
   "source": [
    "employeeDict.update({\"email_id\" : \"A@B.com\"})"
   ]
  },
  {
   "cell_type": "code",
   "execution_count": 51,
   "metadata": {},
   "outputs": [],
   "source": [
    "employeeDict.update({\"gender\" : \"M\", \"experience\" : 20})"
   ]
  },
  {
   "cell_type": "code",
   "execution_count": 52,
   "metadata": {},
   "outputs": [
    {
     "name": "stdout",
     "output_type": "stream",
     "text": [
      "{'id': 1001, 'name': 'Ramesh', 'address': 'Pune', 'doj': '10-Oct-2023', 'dept': 'IT', 'isCertified': True, 'phone': 9898987656, 'hobby': 'Football', 'email_id': 'A@B.com', 'gender': 'M', 'experience': 20}\n"
     ]
    }
   ],
   "source": [
    "print(employeeDict)"
   ]
  },
  {
   "cell_type": "code",
   "execution_count": 54,
   "metadata": {},
   "outputs": [
    {
     "name": "stdout",
     "output_type": "stream",
     "text": [
      "{'id': 1001, 'name': 'Ramesh', 'address': 'Pune', 'doj': '10-Oct-2023', 'dept': 'IT', 'isCertified': True, 'phone': 9898987656, 'hobby': 'Football', 'email_id': 'A@B.com', 'gender': 'M', 'experience': 2}\n"
     ]
    }
   ],
   "source": [
    "employeeDict.update({\"experience\" : 2})\n",
    "print(employeeDict)"
   ]
  },
  {
   "cell_type": "code",
   "execution_count": 57,
   "metadata": {},
   "outputs": [
    {
     "name": "stdout",
     "output_type": "stream",
     "text": [
      "A@B.com\n"
     ]
    }
   ],
   "source": [
    "# Check the presence of a key\n",
    "\n",
    "if \"email_id\" in employeeDict:\n",
    "    print(employeeDict[\"email_id\"])\n",
    "else:\n",
    "    print(\"Key not found\")"
   ]
  },
  {
   "cell_type": "code",
   "execution_count": 58,
   "metadata": {},
   "outputs": [
    {
     "name": "stdout",
     "output_type": "stream",
     "text": [
      "Football\n",
      "{'id': 1001, 'name': 'Ramesh', 'address': 'Pune', 'doj': '10-Oct-2023', 'dept': 'IT', 'isCertified': True, 'phone': 9898987656, 'email_id': 'A@B.com', 'gender': 'M', 'experience': 2}\n"
     ]
    }
   ],
   "source": [
    "# Removing a key => pop(), del\n",
    "\n",
    "removedKey = employeeDict.pop('hobby')\n",
    "print(removedKey)\n",
    "print(employeeDict)\n",
    "\n"
   ]
  },
  {
   "cell_type": "code",
   "execution_count": 59,
   "metadata": {},
   "outputs": [],
   "source": [
    "del employeeDict['isCertified']"
   ]
  },
  {
   "cell_type": "code",
   "execution_count": 60,
   "metadata": {},
   "outputs": [
    {
     "name": "stdout",
     "output_type": "stream",
     "text": [
      "{'id': 1001, 'name': 'Ramesh', 'address': 'Pune', 'doj': '10-Oct-2023', 'dept': 'IT', 'phone': 9898987656, 'email_id': 'A@B.com', 'gender': 'M', 'experience': 2}\n"
     ]
    }
   ],
   "source": [
    "print(employeeDict)"
   ]
  },
  {
   "cell_type": "code",
   "execution_count": 62,
   "metadata": {},
   "outputs": [
    {
     "name": "stdout",
     "output_type": "stream",
     "text": [
      "-1\n",
      "{'id': 1001, 'name': 'Ramesh', 'address': 'Pune', 'doj': '10-Oct-2023', 'dept': 'IT', 'phone': 9898987656, 'email_id': 'A@B.com', 'gender': 'M', 'experience': 2}\n"
     ]
    }
   ],
   "source": [
    "# Removing the same key again\n",
    "removedKey = employeeDict.pop('hobby', \"-1\")\n",
    "print(removedKey)\n",
    "print(employeeDict)"
   ]
  },
  {
   "cell_type": "code",
   "execution_count": 63,
   "metadata": {},
   "outputs": [],
   "source": [
    "del employeeDict"
   ]
  },
  {
   "cell_type": "code",
   "execution_count": 64,
   "metadata": {},
   "outputs": [
    {
     "ename": "NameError",
     "evalue": "name 'employeeDict' is not defined",
     "output_type": "error",
     "traceback": [
      "\u001b[1;31m---------------------------------------------------------------------------\u001b[0m",
      "\u001b[1;31mNameError\u001b[0m                                 Traceback (most recent call last)",
      "Cell \u001b[1;32mIn[64], line 1\u001b[0m\n\u001b[1;32m----> 1\u001b[0m \u001b[43memployeeDict\u001b[49m\n",
      "\u001b[1;31mNameError\u001b[0m: name 'employeeDict' is not defined"
     ]
    }
   ],
   "source": [
    "employeeDict"
   ]
  }
 ],
 "metadata": {
  "kernelspec": {
   "display_name": "Python 3",
   "language": "python",
   "name": "python3"
  },
  "language_info": {
   "codemirror_mode": {
    "name": "ipython",
    "version": 3
   },
   "file_extension": ".py",
   "mimetype": "text/x-python",
   "name": "python",
   "nbconvert_exporter": "python",
   "pygments_lexer": "ipython3",
   "version": "3.12.5"
  }
 },
 "nbformat": 4,
 "nbformat_minor": 2
}
